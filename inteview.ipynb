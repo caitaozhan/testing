{
 "cells": [
  {
   "cell_type": "markdown",
   "metadata": {},
   "source": [
    "# Most Booked Hotel Room\n",
    "https://leetcode.com/discuss/interview-question/421787/"
   ]
  },
  {
   "cell_type": "code",
   "execution_count": 29,
   "metadata": {},
   "outputs": [],
   "source": [
    "bookings = [\"+1A\", \"+3E\", \"-1A\", \"+4F\", \"+1A\", \"-3E\", \"+3E\", \"-3E\"]#, \"+3E\", \"-3E\"]"
   ]
  },
  {
   "cell_type": "code",
   "execution_count": 34,
   "metadata": {},
   "outputs": [],
   "source": [
    "class Solution:\n",
    "    def find_room(self, bookings):\n",
    "        '''\n",
    "        Args:\n",
    "            bookings -- list<str>\n",
    "        Return:\n",
    "            str\n",
    "        '''\n",
    "        counter = {}\n",
    "        for book in bookings:\n",
    "            sign = book[0:1]\n",
    "            room = book[1:]\n",
    "            if sign == '+':\n",
    "                if room in counter:\n",
    "                    counter[room] += 1\n",
    "                else:\n",
    "                    counter[room] = 1\n",
    "        counter_sort = sorted(counter.items(), key=lambda x: (-x[1], x[0]))\n",
    "        return counter_sort[0][0]"
   ]
  },
  {
   "cell_type": "code",
   "execution_count": 35,
   "metadata": {},
   "outputs": [
    {
     "data": {
      "text/plain": [
       "'1A'"
      ]
     },
     "execution_count": 35,
     "metadata": {},
     "output_type": "execute_result"
    }
   ],
   "source": [
    "s = Solution()\n",
    "s.find_room(bookings)"
   ]
  },
  {
   "cell_type": "markdown",
   "metadata": {},
   "source": [
    "# Compare Strings\n",
    "https://leetcode.com/discuss/interview-question/352458/"
   ]
  },
  {
   "cell_type": "code",
   "execution_count": 53,
   "metadata": {},
   "outputs": [],
   "source": [
    "A = \"abcd,aabc,bd\"\n",
    "B = \"aaa,aa\""
   ]
  },
  {
   "cell_type": "code",
   "execution_count": 62,
   "metadata": {},
   "outputs": [],
   "source": [
    "class Solution:\n",
    "\n",
    "    def reduce(self, a):\n",
    "        '''Given string a, reduce it the comparing metrics and return it\n",
    "        '''\n",
    "        minchar = a[0]\n",
    "        counter = 0\n",
    "        for ch in a:\n",
    "            if ch < minchar:\n",
    "                minchar = ch\n",
    "                counter = 1\n",
    "            elif ch == minchar:\n",
    "                counter += 1\n",
    "            else:\n",
    "                pass\n",
    "        return counter\n",
    "\n",
    "    def less_than(self, a, b):\n",
    "        '''Compare two strings a, b. Return boolean\n",
    "        '''\n",
    "        return self.reduce(a) < self.reduce(b)\n",
    "            \n",
    "    def compare_strings(self, A, B):\n",
    "        '''\n",
    "        Args:\n",
    "            A -- str\n",
    "            B -- str\n",
    "        Return:\n",
    "            C -- list<int>\n",
    "        '''\n",
    "        A = A.split(',')\n",
    "        B = B.split(',')\n",
    "        C = []\n",
    "        for b in B:\n",
    "            counter = 0\n",
    "            for a in A:\n",
    "                if self.less_than(a, b):\n",
    "                    counter += 1\n",
    "            C.append(counter)\n",
    "        return C\n",
    "            \n"
   ]
  },
  {
   "cell_type": "code",
   "execution_count": 63,
   "metadata": {},
   "outputs": [],
   "source": [
    "s = Solution()"
   ]
  },
  {
   "cell_type": "code",
   "execution_count": 65,
   "metadata": {},
   "outputs": [
    {
     "data": {
      "text/plain": [
       "[3, 2]"
      ]
     },
     "execution_count": 65,
     "metadata": {},
     "output_type": "execute_result"
    }
   ],
   "source": [
    "s.compare_strings(A, B)"
   ]
  },
  {
   "cell_type": "code",
   "execution_count": 66,
   "metadata": {},
   "outputs": [],
   "source": [
    "a = 'aaabbbcc'"
   ]
  },
  {
   "cell_type": "code",
   "execution_count": 67,
   "metadata": {},
   "outputs": [
    {
     "data": {
      "text/plain": [
       "'a'"
      ]
     },
     "execution_count": 67,
     "metadata": {},
     "output_type": "execute_result"
    }
   ],
   "source": [
    "min(a)"
   ]
  },
  {
   "cell_type": "code",
   "execution_count": 70,
   "metadata": {},
   "outputs": [
    {
     "data": {
      "text/plain": [
       "2"
      ]
     },
     "execution_count": 70,
     "metadata": {},
     "output_type": "execute_result"
    }
   ],
   "source": [
    "a.count('c')"
   ]
  },
  {
   "cell_type": "code",
   "execution_count": null,
   "metadata": {},
   "outputs": [],
   "source": []
  }
 ],
 "metadata": {
  "kernelspec": {
   "display_name": "Python 3",
   "language": "python",
   "name": "python3"
  },
  "language_info": {
   "codemirror_mode": {
    "name": "ipython",
    "version": 3
   },
   "file_extension": ".py",
   "mimetype": "text/x-python",
   "name": "python",
   "nbconvert_exporter": "python",
   "pygments_lexer": "ipython3",
   "version": "3.7.3"
  }
 },
 "nbformat": 4,
 "nbformat_minor": 2
}
