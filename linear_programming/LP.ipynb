{
 "cells": [
  {
   "cell_type": "markdown",
   "metadata": {},
   "source": [
    "#  Linear Program"
   ]
  },
  {
   "cell_type": "markdown",
   "metadata": {},
   "source": [
    "## A linear optimization example: https://developers.google.com/optimization/introduction/python"
   ]
  },
  {
   "cell_type": "code",
   "execution_count": 1,
   "metadata": {},
   "outputs": [],
   "source": [
    "from ortools.linear_solver import pywraplp"
   ]
  },
  {
   "cell_type": "code",
   "execution_count": 2,
   "metadata": {},
   "outputs": [],
   "source": [
    "# create the linear solver with the GLOP backedn\n",
    "solver = pywraplp.Solver.CreateSolver('GLOP')"
   ]
  },
  {
   "cell_type": "code",
   "execution_count": 3,
   "metadata": {},
   "outputs": [
    {
     "name": "stdout",
     "output_type": "stream",
     "text": [
      "number of variables =  2\n"
     ]
    }
   ],
   "source": [
    "# create the variables\n",
    "x = solver.NumVar(0, 1, 'x')\n",
    "y = solver.NumVar(0, 2, 'y')\n",
    "\n",
    "print('number of variables = ', solver.NumVariables())"
   ]
  },
  {
   "cell_type": "code",
   "execution_count": 4,
   "metadata": {},
   "outputs": [
    {
     "name": "stdout",
     "output_type": "stream",
     "text": [
      "number of constraints = 1\n"
     ]
    }
   ],
   "source": [
    "# create a linear constraint 0 <= x + y <= 2\n",
    "ct = solver.Constraint(0, 2, 'ct')\n",
    "ct.SetCoefficient(x, 1)\n",
    "ct.SetCoefficient(y, 1)\n",
    "\n",
    "print('number of constraints =', solver.NumConstraints())"
   ]
  },
  {
   "cell_type": "code",
   "execution_count": 5,
   "metadata": {},
   "outputs": [],
   "source": [
    "# create the objective function, 3*x + y\n",
    "objective = solver.Objective()\n",
    "objective.SetCoefficient(x, 3)\n",
    "objective.SetCoefficient(y, 1)\n",
    "objective.SetMaximization()"
   ]
  },
  {
   "cell_type": "code",
   "execution_count": 6,
   "metadata": {},
   "outputs": [
    {
     "name": "stdout",
     "output_type": "stream",
     "text": [
      "solution\n",
      "objective value = 4.0\n",
      "x = 1.0\n",
      "y = 1.0\n"
     ]
    }
   ],
   "source": [
    "# invoke the solver and display the results\n",
    "solver.Solve()\n",
    "print('solution')\n",
    "print('objective value =', objective.Value())\n",
    "print('x =', x.solution_value())\n",
    "print('y =', y.solution_value())"
   ]
  },
  {
   "cell_type": "markdown",
   "metadata": {},
   "source": [
    "## A simple example: https://developers.google.com/optimization/lp/glop#a-simple-example"
   ]
  },
  {
   "cell_type": "code",
   "execution_count": 7,
   "metadata": {},
   "outputs": [],
   "source": [
    "solver = pywraplp.Solver.CreateSolver('GLOP')"
   ]
  },
  {
   "cell_type": "code",
   "execution_count": 8,
   "metadata": {},
   "outputs": [
    {
     "name": "stdout",
     "output_type": "stream",
     "text": [
      "number of variables = 2\n"
     ]
    }
   ],
   "source": [
    "x = solver.NumVar(0, solver.infinity(), 'x')\n",
    "y = solver.NumVar(0, solver.infinity(), 'y')\n",
    "\n",
    "print('number of variables =', solver.NumVariables())"
   ]
  },
  {
   "cell_type": "code",
   "execution_count": 9,
   "metadata": {},
   "outputs": [
    {
     "name": "stdout",
     "output_type": "stream",
     "text": [
      "number of constraints =  3\n"
     ]
    }
   ],
   "source": [
    "# constraint: x + 2y <= 14\n",
    "solver.Add(x + 2 * y <= 14.0)\n",
    "\n",
    "# constraint: 3*x - y >= 0\n",
    "solver.Add(3 * x - y >= 0.0)\n",
    "\n",
    "# constraint: x - y <= 2\n",
    "solver.Add(x - y <= 2.0)\n",
    "\n",
    "print('number of constraints = ', solver.NumConstraints())"
   ]
  },
  {
   "cell_type": "code",
   "execution_count": 10,
   "metadata": {},
   "outputs": [],
   "source": [
    "# objective function: 3*x + 4y\n",
    "solver.Maximize(3 * x + 4 * y)"
   ]
  },
  {
   "cell_type": "code",
   "execution_count": 11,
   "metadata": {},
   "outputs": [],
   "source": [
    "# invoke the solver\n",
    "status = solver.Solve()"
   ]
  },
  {
   "cell_type": "code",
   "execution_count": 12,
   "metadata": {},
   "outputs": [
    {
     "name": "stdout",
     "output_type": "stream",
     "text": [
      "solution:\n",
      "objective value = 34.00000\n",
      "x = 6.00000\n",
      "y = 4.00000\n"
     ]
    }
   ],
   "source": [
    "if status == pywraplp.Solver.OPTIMAL:\n",
    "    print('solution:')\n",
    "    print('objective value = {:.5f}'.format(solver.Objective().Value()))\n",
    "    print('x = {:.5f}'.format(x.solution_value()))\n",
    "    print('y = {:.5f}'.format(y.solution_value()))\n",
    "else:\n",
    "    print('the problem does not have an optimal solution')"
   ]
  },
  {
   "cell_type": "markdown",
   "metadata": {},
   "source": [
    "## The stigler diet: https://developers.google.com/optimization/lp/glop#stigler"
   ]
  },
  {
   "cell_type": "code",
   "execution_count": null,
   "metadata": {},
   "outputs": [],
   "source": []
  }
 ],
 "metadata": {
  "kernelspec": {
   "display_name": "Python 3",
   "language": "python",
   "name": "python3"
  },
  "language_info": {
   "codemirror_mode": {
    "name": "ipython",
    "version": 3
   },
   "file_extension": ".py",
   "mimetype": "text/x-python",
   "name": "python",
   "nbconvert_exporter": "python",
   "pygments_lexer": "ipython3",
   "version": "3.8.5"
  }
 },
 "nbformat": 4,
 "nbformat_minor": 4
}
