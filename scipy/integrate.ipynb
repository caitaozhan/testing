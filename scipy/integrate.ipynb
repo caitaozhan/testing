{
 "cells": [
  {
   "cell_type": "code",
   "execution_count": 12,
   "id": "2e9b7f95",
   "metadata": {},
   "outputs": [],
   "source": [
    "import numpy as np\n",
    "from scipy.integrate import quad\n",
    "import matplotlib.pyplot as plt"
   ]
  },
  {
   "cell_type": "code",
   "execution_count": 2,
   "id": "3d49100f",
   "metadata": {},
   "outputs": [],
   "source": [
    "def f1(x):\n",
    "    return x**2"
   ]
  },
  {
   "cell_type": "code",
   "execution_count": 8,
   "id": "5e8af1e3",
   "metadata": {},
   "outputs": [
    {
     "data": {
      "text/plain": [
       "(21.000000000000004, 2.331468351712829e-13)"
      ]
     },
     "execution_count": 8,
     "metadata": {},
     "output_type": "execute_result"
    }
   ],
   "source": [
    "quad(f1, 1, 4)"
   ]
  },
  {
   "cell_type": "code",
   "execution_count": 170,
   "id": "dd6898c5",
   "metadata": {},
   "outputs": [],
   "source": [
    "def plot(f, a: float = 0, b: float = np.pi):\n",
    "    '''plot the function f from [a, b]\n",
    "    '''\n",
    "    X = np.linspace(a, b, num=532_000)\n",
    "    y = [f(x) for x in X]\n",
    "    zero = [0 for x in X]\n",
    "    plt.plot(X, y)\n",
    "    plt.plot(X, zero)\n",
    "    plt.xlim([a, b])"
   ]
  },
  {
   "cell_type": "code",
   "execution_count": 186,
   "id": "3b8a7ea7",
   "metadata": {},
   "outputs": [],
   "source": [
    "E = 2\n",
    "f = 10 ** 4"
   ]
  },
  {
   "cell_type": "code",
   "execution_count": 187,
   "id": "b8356af0",
   "metadata": {},
   "outputs": [],
   "source": [
    "def radio(t: float) -> float:\n",
    "    global E\n",
    "    global f\n",
    "    alpha = 0\n",
    "    return abs(E * np.sin(2 * np.pi * f * t + alpha))"
   ]
  },
  {
   "cell_type": "code",
   "execution_count": 188,
   "id": "af195b6c",
   "metadata": {},
   "outputs": [
    {
     "name": "stdout",
     "output_type": "stream",
     "text": [
      "(0.00012732395447351627, 1.4162390878091902e-18)\n",
      "\n"
     ]
    },
    {
     "data": {
      "image/png": "[encoded data removed]",
      "text/plain": [
       "<Figure size 432x288 with 1 Axes>"
      ]
     },
     "metadata": {
      "needs_background": "light"
     },
     "output_type": "display_data"
    }
   ],
   "source": [
    "a = 0\n",
    "b = 1/f\n",
    "\n",
    "# print(np.cos(1)/np.pi)\n",
    "print(quad(radio, a, b, limit=1000), end='\\n\\n')\n",
    "plot(radio, a, b)"
   ]
  },
  {
   "cell_type": "code",
   "execution_count": 189,
   "id": "ccaff106",
   "metadata": {},
   "outputs": [
    {
     "data": {
      "text/plain": [
       "0.00012732395447351627"
      ]
     },
     "execution_count": 189,
     "metadata": {},
     "output_type": "execute_result"
    }
   ],
   "source": [
    "(2 * b * E) / (np.pi)"
   ]
  },
  {
   "cell_type": "code",
   "execution_count": null,
   "id": "4ce15eae",
   "metadata": {},
   "outputs": [],
   "source": []
  }
 ],
 "metadata": {
  "kernelspec": {
   "display_name": "Python 3 (ipykernel)",
   "language": "python",
   "name": "python3"
  },
  "language_info": {
   "codemirror_mode": {
    "name": "ipython",
    "version": 3
   },
   "file_extension": ".py",
   "mimetype": "text/x-python",
   "name": "python",
   "nbconvert_exporter": "python",
   "pygments_lexer": "ipython3",
   "version": "3.8.5"
  }
 },
 "nbformat": 4,
 "nbformat_minor": 5
}
