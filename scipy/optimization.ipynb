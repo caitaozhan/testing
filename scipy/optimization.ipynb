{
 "cells": [
  {
   "cell_type": "code",
   "execution_count": 1,
   "metadata": {},
   "outputs": [],
   "source": [
    "import numpy as np\n",
    "from scipy.optimize import minimize"
   ]
  },
  {
   "cell_type": "code",
   "execution_count": 5,
   "metadata": {},
   "outputs": [],
   "source": [
    "def rosen(x):\n",
    "    return sum(100.0*(x[1:]-x[:-1]**2.0)**2 + (1-x[:-1])**2)"
   ]
  },
  {
   "cell_type": "code",
   "execution_count": 51,
   "metadata": {},
   "outputs": [],
   "source": [
    "def rosen_der(x):\n",
    "    xm = x[1:-1]\n",
    "    xm_m1 = x[:-2]\n",
    "    xm_p1 = x[2:]\n",
    "    der = np.zeros_like(x)\n",
    "    der[1:-1] = 200*(xm-xm_m1**2) - 400*(xm_p1 - xm**2)*xm - 2*(1-xm)\n",
    "    der[0] = -400*x[0]*(x[1]-x[0]**2) - 2*(1-x[0])\n",
    "    der[-1] = 200*(x[-1]-x[-2]**2)\n",
    "    return der"
   ]
  },
  {
   "cell_type": "code",
   "execution_count": 47,
   "metadata": {},
   "outputs": [],
   "source": [
    "x0 = np.array([1.3, 0.7])\n",
    "x1 = np.array([1.0,1.0,1.0,1.0,1.0,])"
   ]
  },
  {
   "cell_type": "code",
   "execution_count": 48,
   "metadata": {},
   "outputs": [
    {
     "data": {
      "text/plain": [
       "(98.10000000000005, 0.0)"
      ]
     },
     "execution_count": 48,
     "metadata": {},
     "output_type": "execute_result"
    }
   ],
   "source": [
    "rosen(x0), rosen(x1)"
   ]
  },
  {
   "cell_type": "code",
   "execution_count": 66,
   "metadata": {},
   "outputs": [
    {
     "name": "stdout",
     "output_type": "stream",
     "text": [
      "74.7 ms ± 232 µs per loop (mean ± std. dev. of 7 runs, 10 loops each)\n"
     ]
    }
   ],
   "source": [
    "%timeit res = minimize(rosen, x0, method='trust-constr', bounds=bounds)"
   ]
  },
  {
   "cell_type": "code",
   "execution_count": 65,
   "metadata": {},
   "outputs": [
    {
     "data": {
      "text/plain": [
       " barrier_parameter: 5.120000000000003e-08\n",
       " barrier_tolerance: 5.120000000000003e-08\n",
       "          cg_niter: 30\n",
       "      cg_stop_cond: 1\n",
       "            constr: [array([0.99999552, 0.99999104])]\n",
       "       constr_nfev: [0]\n",
       "       constr_nhev: [0]\n",
       "       constr_njev: [0]\n",
       "    constr_penalty: 1.0\n",
       "  constr_violation: 0.0\n",
       "    execution_time: 0.07729601860046387\n",
       "               fun: 2.0057967910707488e-11\n",
       "              grad: array([ 8.50423508e-11, -2.69162470e-10])\n",
       "               jac: [<2x2 sparse matrix of type '<class 'numpy.float64'>'\n",
       "\twith 2 stored elements in Compressed Sparse Row format>]\n",
       "   lagrangian_grad: array([ 2.81946015e-11, -9.00267746e-11])\n",
       "           message: '`gtol` termination condition is satisfied.'\n",
       "            method: 'tr_interior_point'\n",
       "              nfev: 63\n",
       "              nhev: 0\n",
       "               nit: 30\n",
       "             niter: 30\n",
       "              njev: 0\n",
       "        optimality: 9.002677462934301e-11\n",
       "            status: 1\n",
       "           success: True\n",
       "         tr_radius: 3002998.9915962433\n",
       "                 v: [array([-5.68477493e-11,  1.79135695e-10])]\n",
       "                 x: array([0.99999552, 0.99999104])"
      ]
     },
     "execution_count": 65,
     "metadata": {},
     "output_type": "execute_result"
    }
   ],
   "source": [
    "res"
   ]
  },
  {
   "cell_type": "code",
   "execution_count": 44,
   "metadata": {},
   "outputs": [],
   "source": [
    "res = minimize(rosen, x1, method='nelder-mead', options={'xtol':1e-2})"
   ]
  },
  {
   "cell_type": "code",
   "execution_count": 56,
   "metadata": {},
   "outputs": [
    {
     "name": "stdout",
     "output_type": "stream",
     "text": [
      "2.16 ms ± 12.1 µs per loop (mean ± std. dev. of 7 runs, 100 loops each)\n"
     ]
    }
   ],
   "source": [
    "%timeit res = minimize(rosen, x0, method='BFGS', jac=rosen_der)"
   ]
  },
  {
   "cell_type": "code",
   "execution_count": 57,
   "metadata": {},
   "outputs": [
    {
     "name": "stdout",
     "output_type": "stream",
     "text": [
      "2.45 ms ± 22.9 µs per loop (mean ± std. dev. of 7 runs, 100 loops each)\n"
     ]
    }
   ],
   "source": [
    "%timeit res = minimize(rosen, x0, method='BFGS')"
   ]
  },
  {
   "cell_type": "code",
   "execution_count": 63,
   "metadata": {},
   "outputs": [],
   "source": [
    "from scipy.optimize import Bounds\n",
    "bounds = Bounds([0, 0], [2., 2.0])"
   ]
  },
  {
   "cell_type": "code",
   "execution_count": null,
   "metadata": {},
   "outputs": [],
   "source": []
  },
  {
   "cell_type": "code",
   "execution_count": 45,
   "metadata": {},
   "outputs": [
    {
     "data": {
      "text/plain": [
       " final_simplex: (array([[1.        , 1.        , 1.        , 1.        , 1.        ],\n",
       "       [1.00050183, 1.00075658, 1.00154281, 1.0030608 , 1.00638621],\n",
       "       [1.00020772, 1.00078222, 1.00137349, 1.0030887 , 1.00596528],\n",
       "       [1.00069243, 1.00066518, 1.00123049, 1.00289813, 1.00596115],\n",
       "       [1.00049423, 1.00100974, 1.00190687, 1.00378906, 1.00676555],\n",
       "       [1.00058549, 1.0010917 , 1.00130139, 1.00266428, 1.00511018]]), array([0.00000000e+00, 2.53637653e-05, 4.56621680e-05, 8.51314784e-05,\n",
       "       8.90541732e-05, 9.44082172e-05]))\n",
       "           fun: 0.0\n",
       "       message: 'Optimization terminated successfully.'\n",
       "          nfev: 78\n",
       "           nit: 42\n",
       "        status: 0\n",
       "       success: True\n",
       "             x: array([1., 1., 1., 1., 1.])"
      ]
     },
     "execution_count": 45,
     "metadata": {},
     "output_type": "execute_result"
    }
   ],
   "source": [
    "res"
   ]
  },
  {
   "cell_type": "code",
   "execution_count": 42,
   "metadata": {},
   "outputs": [
    {
     "name": "stdout",
     "output_type": "stream",
     "text": [
      "10.3 ms ± 172 µs per loop (mean ± std. dev. of 7 runs, 100 loops each)\n"
     ]
    }
   ],
   "source": [
    "%timeit res = minimize(rosen, x0, method='nelder-mead', options={'xtol':1e-8})"
   ]
  },
  {
   "cell_type": "code",
   "execution_count": 76,
   "metadata": {},
   "outputs": [],
   "source": [
    "array1 = np.array([1, 2, 3, 4, 5])\n",
    "array2 = np.array([2, 4, 6, 8, 10])\n",
    "array3 = np.array([2, 2, 2, 2, 2])"
   ]
  },
  {
   "cell_type": "code",
   "execution_count": 77,
   "metadata": {},
   "outputs": [
    {
     "data": {
      "text/plain": [
       "array([ -2,  -4,  -6,  -8, -10])"
      ]
     },
     "execution_count": 77,
     "metadata": {},
     "output_type": "execute_result"
    }
   ],
   "source": [
    "array3*(array1 - array2)"
   ]
  },
  {
   "cell_type": "code",
   "execution_count": 68,
   "metadata": {},
   "outputs": [],
   "source": [
    "prod = np.prod(array)"
   ]
  },
  {
   "cell_type": "code",
   "execution_count": 70,
   "metadata": {},
   "outputs": [],
   "source": [
    "array = prod/array"
   ]
  },
  {
   "cell_type": "code",
   "execution_count": 71,
   "metadata": {},
   "outputs": [
    {
     "data": {
      "text/plain": [
       "array([120.,  60.,  40.,  30.,  24.])"
      ]
     },
     "execution_count": 71,
     "metadata": {},
     "output_type": "execute_result"
    }
   ],
   "source": [
    "array"
   ]
  },
  {
   "cell_type": "code",
   "execution_count": null,
   "metadata": {},
   "outputs": [],
   "source": []
  }
 ],
 "metadata": {
  "kernelspec": {
   "display_name": "Python 3",
   "language": "python",
   "name": "python3"
  },
  "language_info": {
   "codemirror_mode": {
    "name": "ipython",
    "version": 3
   },
   "file_extension": ".py",
   "mimetype": "text/x-python",
   "name": "python",
   "nbconvert_exporter": "python",
   "pygments_lexer": "ipython3",
   "version": "3.7.3"
  }
 },
 "nbformat": 4,
 "nbformat_minor": 2
}
