{
 "cells": [
  {
   "cell_type": "markdown",
   "metadata": {},
   "source": [
    "# A full simulation\n",
    "https://docs.netsquid.org/latest-release/tutorial.simulation.html"
   ]
  },
  {
   "cell_type": "code",
   "execution_count": 1,
   "metadata": {},
   "outputs": [
    {
     "name": "stdout",
     "output_type": "stream",
     "text": [
      "Teleportation example module is located at: /home/caitao/anaconda3/lib/python3.8/site-packages/netsquid/examples/teleportation.py\n"
     ]
    }
   ],
   "source": [
    "import netsquid as ns\n",
    "\n",
    "print(f'Teleportation example module is located at: {ns.examples.teleportation.__file__}')"
   ]
  },
  {
   "cell_type": "code",
   "execution_count": 2,
   "metadata": {},
   "outputs": [],
   "source": [
    "from netsquid.nodes.connections import Connection\n",
    "from netsquid.components.qchannel import QuantumChannel\n",
    "from netsquid.qubits import StateSampler\n",
    "from netsquid.components.qsource import QSource, SourceStatus\n",
    "from netsquid.components.models import DepolarNoiseModel\n",
    "from netsquid.components.models.delaymodels import FixedDelayModel, FibreDelayModel\n",
    "import netsquid.qubits.ketstates as ks"
   ]
  },
  {
   "cell_type": "markdown",
   "metadata": {},
   "source": [
    "## Setting up the complete network"
   ]
  },
  {
   "cell_type": "code",
   "execution_count": 3,
   "metadata": {},
   "outputs": [],
   "source": [
    "class EntanglingConnection(Connection):\n",
    "    def __init__(self, length, source_frequency, name='EntanglingConnection'):\n",
    "        super().__init__(name=name)\n",
    "        qsource = QSource(f'qsource_{name}', StateSampler([ks.b00], [1.0]), num_ports=2, timing_model=FixedDelayModel(delay=1e9 / source_frequency), status=SourceStatus.INTERNAL)\n",
    "        self.add_subcomponent(qsource, name='qsource')\n",
    "        qchannel_c2a = QuantumChannel('qchannel_C2A', length=length/2, models={'delay_model': FibreDelayModel()})\n",
    "        qchannel_c2b = QuantumChannel('qchannel_C2B', length=length/2, models={'delay_model': FibreDelayModel()})\n",
    "        # add channels and forward quantum channel output to external port output\n",
    "        self.add_subcomponent(qchannel_c2a, forward_output=[('A', 'recv')])\n",
    "        self.add_subcomponent(qchannel_c2b, forward_output=[('B', 'recv')])\n",
    "        # connect qsource output to quantum channel input\n",
    "        qsource.ports['qout0'].connect(qchannel_c2a.ports['send'])\n",
    "        qsource.ports['qout1'].connect(qchannel_c2b.ports['send'])"
   ]
  },
  {
   "cell_type": "code",
   "execution_count": 4,
   "metadata": {},
   "outputs": [],
   "source": [
    "from netsquid.components import ClassicalChannel"
   ]
  },
  {
   "cell_type": "code",
   "execution_count": 31,
   "metadata": {},
   "outputs": [],
   "source": [
    "class ClassicalConnection(Connection):\n",
    "    def __init__(self, length, name='ClassicalConnection'):\n",
    "        super().__init__(name=name)\n",
    "        self.add_subcomponent(ClassicalChannel('Channel_A2B', length=length, models={'delay_model': FibreDelayModel()}), \\\n",
    "                              forward_input=[('A', 'send')], forward_output=[('B', 'recv')])"
   ]
  },
  {
   "cell_type": "code",
   "execution_count": 6,
   "metadata": {},
   "outputs": [],
   "source": [
    "import netsquid.components.instructions as instr\n",
    "from netsquid.components.qprocessor import PhysicalInstruction\n",
    "from netsquid.components.models.qerrormodels import DepolarNoiseModel\n",
    "from netsquid.components.models.qerrormodels import DephaseNoiseModel\n",
    "from netsquid.components.qprocessor import QuantumProcessor"
   ]
  },
  {
   "cell_type": "code",
   "execution_count": 7,
   "metadata": {},
   "outputs": [],
   "source": [
    "def create_processor(depolar_rate, dephase_rate):\n",
    "    '''factory to create a quantum processor for each end node\n",
    "    '''\n",
    "    measure_noise_model = DephaseNoiseModel(dephase_rate=dephase_rate, time_independent=True)\n",
    "    physical_instructions = [\n",
    "        PhysicalInstruction(instr.INSTR_INIT, duration=3, parallel=True),\n",
    "        PhysicalInstruction(instr.INSTR_H, duration=1, parallel=True, topology=[0, 1]),\n",
    "        PhysicalInstruction(instr.INSTR_X, duration=1, parallel=True, topology=[0]),\n",
    "        PhysicalInstruction(instr.INSTR_Z, duration=1, parallel=True, topology=[0]),\n",
    "        PhysicalInstruction(instr.INSTR_S, duration=1, parallel=True, topology=[0]),\n",
    "        PhysicalInstruction(instr.INSTR_CNOT, duration=4, parallel=True, topology=[(0, 1)]),\n",
    "        PhysicalInstruction(instr.INSTR_MEASURE, duration=7, parallel=False, topology=[0], quantum_noise_model=measure_noise_model, apply_q_noise_after=False),\n",
    "        PhysicalInstruction(instr.INSTR_MEASURE, duration=7, parallel=False, topology=[1])\n",
    "    ]\n",
    "    memory_noise_model = DepolarNoiseModel(depolar_rate=depolar_rate)\n",
    "    processor = QuantumProcessor('quantum_processor', num_positions=2, memory_noise_models=[memory_noise_model] * 2, phys_instructions=physical_instructions)\n",
    "    return processor"
   ]
  },
  {
   "cell_type": "code",
   "execution_count": 8,
   "metadata": {},
   "outputs": [],
   "source": [
    "from netsquid.nodes import Node\n",
    "from netsquid.nodes import Network"
   ]
  },
  {
   "cell_type": "code",
   "execution_count": 9,
   "metadata": {},
   "outputs": [],
   "source": [
    "def example_network_setup(node_distance=4e-3, depolar_rate=1e7, dephase_rate=0.2):\n",
    "    '''setup the physical components of the quantum network\n",
    "    '''\n",
    "    # setup nodes Alice and Bob with quantum processor\n",
    "    alice = Node('Alice', qmemory=create_processor(depolar_rate, dephase_rate))\n",
    "    bob = Node('Bob', qmemory=create_processor(depolar_rate, dephase_rate))\n",
    "    # create a network\n",
    "    network = Network('Teleportation_network')\n",
    "    network.add_nodes([alice, bob])\n",
    "    # setup classical connection between nodes\n",
    "    c_conn = ClassicalConnection(length=node_distance)\n",
    "    network.add_connection(alice, bob, connection=c_conn, label='classical', port_name_node1='cout_bob', port_name_node2='cin_alice')\n",
    "    # setup entangling connection between nodes\n",
    "    source_frequency = 4e4 / node_distance\n",
    "    q_conn = EntanglingConnection(length=node_distance, source_frequency=source_frequency)\n",
    "    port_ac, port_bc = network.add_connection(alice, bob, connection=q_conn, label='quantum', port_name_node1='qin_charlie', port_name_node2='qin_charlie')\n",
    "    alice.ports[port_ac].forward_input(alice.qmemory.ports['qin1'])\n",
    "    bob.ports[port_bc].forward_input(bob.qmemory.ports['qin0'])\n",
    "    return network"
   ]
  },
  {
   "cell_type": "markdown",
   "metadata": {},
   "source": [
    "## Setting up the simulation"
   ]
  },
  {
   "cell_type": "code",
   "execution_count": 10,
   "metadata": {},
   "outputs": [],
   "source": [
    "from netsquid.components.qprocessor import QuantumProgram\n",
    "from netsquid.protocols import NodeProtocol, Signals"
   ]
  },
  {
   "cell_type": "code",
   "execution_count": 11,
   "metadata": {},
   "outputs": [],
   "source": [
    "class InitStateProgram(QuantumProgram):\n",
    "    '''program to create a qubit and transform it to the y0 state\n",
    "    '''\n",
    "    default_num_qubits = 1\n",
    "    \n",
    "    def program(self):\n",
    "        q1, = self.get_qubit_indices(1)\n",
    "        self.apply(instr.INSTR_INIT, q1)\n",
    "        self.apply(instr.INSTR_H, q1)\n",
    "        self.apply(instr.INSTR_S, q1)\n",
    "        yield self.run()"
   ]
  },
  {
   "cell_type": "code",
   "execution_count": 12,
   "metadata": {},
   "outputs": [],
   "source": [
    "class BellMeasurementProgram(QuantumProgram):\n",
    "    '''program to perform a bell measurement on two qubits\n",
    "    measurement results are stored in output keys 'M1' and 'M2'\n",
    "    '''\n",
    "    default_num_qubits = 2\n",
    "    \n",
    "    def program(self):\n",
    "        q1, q2 = self.get_qubit_indices(2)\n",
    "        self.apply(instr.INSTR_CNOT, [q1, q2])\n",
    "        self.apply(instr.INSTR_H, q1)\n",
    "        self.apply(instr.INSTR_MEASURE, q1, output_key='M1')\n",
    "        self.apply(instr.INSTR_MEASURE, q2, output_key='M2')\n",
    "        yield self.run()"
   ]
  },
  {
   "cell_type": "code",
   "execution_count": 34,
   "metadata": {},
   "outputs": [],
   "source": [
    "class BellMeasurementProtocol(NodeProtocol):\n",
    "    '''Protocol to perform a bell measurement when qubits are available\n",
    "    '''\n",
    "    def run(self):\n",
    "        qubit_initialised = False\n",
    "        entanglement_ready = False\n",
    "        qubit_init_program = InitStateProgram()\n",
    "        measure_program = BellMeasurementProgram()\n",
    "        self.node.qmemory.execute_program(qubit_init_program)\n",
    "        while True:\n",
    "            expr = yield (self.await_program(self.node.qmemory) | self.await_port_input(self.node.ports['qin_charlie']))\n",
    "            if expr.first_term.value:\n",
    "                qubit_initialised = True\n",
    "            else:\n",
    "                entanglement_ready = True\n",
    "            if qubit_initialised and entanglement_ready:\n",
    "                # once both qubits arrived, do BSM program and send to bob\n",
    "                yield self.node.qmemory.execute_program(measure_program)\n",
    "                m1, = measure_program.output['M1']\n",
    "                m2, = measure_program.output['M2']\n",
    "                self.node.ports['cout_bob'].tx_output((m1, m2))\n",
    "                self.send_signal(Signals.SUCCESS)\n",
    "                qubit_initialised = False\n",
    "                entanglement_ready = False\n",
    "                self.node.qmemory.execute_program(qubit_init_program)"
   ]
  },
  {
   "cell_type": "code",
   "execution_count": 14,
   "metadata": {},
   "outputs": [],
   "source": [
    "class CorrectionProtocol(NodeProtocol):\n",
    "    '''Protocol to perform corrections on bob's qubit when availableand measurements received\n",
    "    '''\n",
    "    def run(self):\n",
    "        port_alice = self.node.ports['cin_alice']\n",
    "        port_charlie = self.node.ports['qin_charlie']\n",
    "        entanglement_ready = False\n",
    "        meas_results = None\n",
    "        while True:\n",
    "            # wait for measurement results of Alice or qubit from Charlie to arrive\n",
    "            expr = yield (self.await_port_input(port_alice) | self.await_port_input(port_charlie))\n",
    "            if expr.first_term.value:\n",
    "                meas_results, = port_alice.rx_input().items\n",
    "            else:\n",
    "                entanglement_ready = True\n",
    "            if meas_results is not None and entanglement_ready:\n",
    "                # do corrections (blocking)\n",
    "                if meas_results[0] == 1:\n",
    "                    self.node.qmemory.execute_instruction(instr.INSTR_Z)\n",
    "                    yield self.await_program(self.node.qmemory)\n",
    "                if meas_results[1] == 1:\n",
    "                    self.node.qmemory.execute_instruction(instr.INSTR_X)\n",
    "                    yield self.await_program(self.node.qmemory)\n",
    "                self.send_signal(Signals.SUCCESS, 0)\n",
    "                entanglement_ready = False\n",
    "                meas_results = None"
   ]
  },
  {
   "cell_type": "markdown",
   "metadata": {},
   "source": [
    "## Running a simulation"
   ]
  },
  {
   "cell_type": "code",
   "execution_count": 15,
   "metadata": {},
   "outputs": [],
   "source": [
    "from netsquid.qubits import qubitapi as qapi\n",
    "from netsquid.util.datacollector import DataCollector\n",
    "import pydynaa"
   ]
  },
  {
   "cell_type": "code",
   "execution_count": 16,
   "metadata": {},
   "outputs": [],
   "source": [
    "def example_sim_setup(node_A, node_B):\n",
    "    '''example simulation setup with data collector for teleportation protocol\n",
    "\n",
    "    Parameters\n",
    "    ----------\n",
    "    node_A : :class:`~netsquid.nodes.node.Node`\n",
    "        Node corresponding to Alice.\n",
    "    node_B : :class:`~netsquid.nodes.node.Node`\n",
    "        Node corresponding to Bob.\n",
    "\n",
    "    Returns\n",
    "    -------\n",
    "    :class:`~netsquid.protocols.protocol.Protocol`\n",
    "        Alice's protocol.\n",
    "    :class:`~netsquid.protocols.protocol.Protocol`\n",
    "        Bob's protocol.\n",
    "    :class:`~netsquid.util.datacollector.DataCollector`\n",
    "        Data collector to record fidelity.\n",
    "\n",
    "    '''\n",
    "    def collect_fidelity_data(evexpr):\n",
    "        protocol = evexpr.triggered_events[-1].source\n",
    "        mem_pos = protocol.get_signal_result(Signals.SUCCESS)\n",
    "        qubit, = protocol.node.qmemory.pop(mem_pos)\n",
    "        fidelity = qapi.fidelity(qubit, ns.y0, squared=True)\n",
    "        qapi.discard(qubit)\n",
    "        return {'fidelity': fidelity}\n",
    "\n",
    "    protocol_alice = BellMeasurementProtocol(node_A)\n",
    "    protocol_bob = CorrectionProtocol(node_B)\n",
    "    dc = DataCollector(collect_fidelity_data)\n",
    "    dc.collect_on(pydynaa.EventExpression(source=protocol_bob, event_type=Signals.SUCCESS.value))\n",
    "    return protocol_alice, protocol_bob, dc"
   ]
  },
  {
   "cell_type": "code",
   "execution_count": 17,
   "metadata": {},
   "outputs": [],
   "source": [
    "import pandas"
   ]
  },
  {
   "cell_type": "code",
   "execution_count": 18,
   "metadata": {},
   "outputs": [],
   "source": [
    "def run_experiment(num_runs, depolar_rates, distance=4e-3, dephase_rate=0.0):\n",
    "    '''setup and run the simulation experiment\n",
    "    \n",
    "    Parameters\n",
    "    ----------\n",
    "    num_runs : int\n",
    "        Number of cycles to run teleportation for.\n",
    "    depolar_rates : list of float\n",
    "        List of depolarization rates to repeat experiment for.\n",
    "    distance : float, optional\n",
    "        Distance between nodes [km].\n",
    "    dephase_rate : float, optional\n",
    "        Dephasing rate of physical measurement instruction.\n",
    "\n",
    "    Returns\n",
    "    -------\n",
    "    :class:`pandas.DataFrame`\n",
    "        Dataframe with recorded fidelity data.\n",
    "\n",
    "    '''\n",
    "    fidelity_data = pandas.DataFrame()\n",
    "    for i, depolar_rate in enumerate(depolar_rates):\n",
    "        ns.sim_reset()\n",
    "        network = example_network_setup(distance, depolar_rate, dephase_rate)\n",
    "        node_a = network.get_node('Alice')\n",
    "        node_b = network.get_node('Bob')\n",
    "        protocol_alice, protocol_bob, dc = example_sim_setup(node_a, node_b)\n",
    "        protocol_alice.start()\n",
    "        protocol_bob.start()\n",
    "        q_conn = network.get_connection(node_a, node_b, label='quantum')\n",
    "        cycle_runtime = q_conn.subcomponents['qsource'].subcomponents['internal_clock'].models['timing_model'].delay\n",
    "        ns.sim_run(cycle_runtime * num_runs + 1)\n",
    "        df = dc.dataframe\n",
    "        df['depolar_rate'] = depolar_rate\n",
    "        fidelity_data = fidelity_data.append(df)\n",
    "    return fidelity_data"
   ]
  },
  {
   "cell_type": "code",
   "execution_count": 19,
   "metadata": {},
   "outputs": [],
   "source": [
    "import matplotlib.pyplot as plt"
   ]
  },
  {
   "cell_type": "code",
   "execution_count": 20,
   "metadata": {},
   "outputs": [],
   "source": [
    "def create_plot():\n",
    "    '''show a plot of fidelity verus depolarization rate\n",
    "    '''\n",
    "    from matplotlib import pyplot as plt\n",
    "    depolar_rates = [1e6 * i for i in range(0, 200, 10)]\n",
    "    fidelities = run_experiment(num_runs=1000, distance=4e-3, depolar_rates=depolar_rates, dephase_rate=0.0)\n",
    "    plot_style = {'kind': 'scatter', 'grid': True, 'title': 'Fidelity of the teleported quantum state'}\n",
    "    data = fidelities.groupby('depolar_rate')['fidelity'].agg(fidelity='mean', sem='sem').reset_index()\n",
    "    data.plot(x='depolar_rate', y='fidelity', yerr='sem', **plot_style)\n",
    "    plt.show()"
   ]
  },
  {
   "cell_type": "code",
   "execution_count": 35,
   "metadata": {},
   "outputs": [
    {
     "data": {
      "image/png": "[encoded data removed]",
      "text/plain": [
       "<Figure size 432x288 with 1 Axes>"
      ]
     },
     "metadata": {
      "needs_background": "light"
     },
     "output_type": "display_data"
    }
   ],
   "source": [
    "create_plot()"
   ]
  },
  {
   "cell_type": "code",
   "execution_count": null,
   "metadata": {},
   "outputs": [],
   "source": []
  }
 ],
 "metadata": {
  "kernelspec": {
   "display_name": "Python 3",
   "language": "python",
   "name": "python3"
  },
  "language_info": {
   "codemirror_mode": {
    "name": "ipython",
    "version": 3
   },
   "file_extension": ".py",
   "mimetype": "text/x-python",
   "name": "python",
   "nbconvert_exporter": "python",
   "pygments_lexer": "ipython3",
   "version": "3.8.5"
  }
 },
 "nbformat": 4,
 "nbformat_minor": 4
}
