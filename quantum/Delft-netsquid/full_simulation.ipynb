{
 "cells": [
  {
   "cell_type": "markdown",
   "metadata": {},
   "source": [
    "# A full simulation"
   ]
  },
  {
   "cell_type": "code",
   "execution_count": 1,
   "metadata": {},
   "outputs": [
    {
     "name": "stdout",
     "output_type": "stream",
     "text": [
      "Teleportation example module is located at: /home/caitao/anaconda3/lib/python3.8/site-packages/netsquid/examples/teleportation.py\n"
     ]
    }
   ],
   "source": [
    "import netsquid as ns\n",
    "\n",
    "print(f'Teleportation example module is located at: {ns.examples.teleportation.__file__}')"
   ]
  },
  {
   "cell_type": "code",
   "execution_count": 5,
   "metadata": {},
   "outputs": [],
   "source": [
    "from netsquid.nodes.connections import Connection\n",
    "from netsquid.components.qchannel import QuantumChannel\n",
    "from netsquid.qubits import StateSampler\n",
    "from netsquid.components.qsource import QSource, SourceStatus\n",
    "from netsquid.components.models import FixedDelayModel, DepolarNoiseModel\n",
    "import netsquid.qubits.ketstates as ks"
   ]
  },
  {
   "cell_type": "markdown",
   "metadata": {},
   "source": [
    "## Setting up the complete network"
   ]
  },
  {
   "cell_type": "code",
   "execution_count": 6,
   "metadata": {},
   "outputs": [],
   "source": [
    "class EntanglingConnection(Connection):\n",
    "    def __init__(self, length, source_frequency, name='EntanglingConnection'):\n",
    "        super().__init__(name=name)\n",
    "        qsource = QSource(f'qsource_{name}', StateSampler([ks.b00], [1.0]), num_ports=2, timing_model=FixedDelayModel(delay=1e9 / source_frequency), status=SourceStatus.INTERNAL)\n",
    "        self.add_subcomponent(qsource, name='qsource')\n",
    "        qchannel_c2a = QuantumChannel('qchannel_C2A', length=length/2, models={'delay_model': FibreDelayModel()})\n",
    "        qchannel_c2b = QuantumChannel('qchannel_C2B', length=length/2, models={'delay_model': FibreDelayModel()})\n",
    "        # add channels and forward quantum channel output to external port output\n",
    "        self.add_subcomponent(qchannel_c2a, forward_output=[('A', 'recv')])\n",
    "        self.add_subcomponent(qchannel_c2b, forward_output=[('B', 'recv')])\n",
    "        # connect qsource output to quantum channel input\n",
    "        qsource.ports['qout0'].connect(qchannel_c2a.ports['send'])\n",
    "        qsource.ports['qout1'].connect(qchannel_c2b.ports['send'])"
   ]
  },
  {
   "cell_type": "code",
   "execution_count": 7,
   "metadata": {},
   "outputs": [],
   "source": [
    "from netsquid.components import ClassicalChannel"
   ]
  },
  {
   "cell_type": "code",
   "execution_count": 8,
   "metadata": {},
   "outputs": [],
   "source": [
    "class ClassicalConnection(Connection):\n",
    "    def __init__(self, length, name='ClassicalConnection'):\n",
    "        self.add_subcomponent(ClassicalChannel('Channel_A2B', length=length, models={'delay_model': FibreDelayModel()}), forward_input=[('A', 'send')], forward_output=[('B', 'recv')])"
   ]
  },
  {
   "cell_type": "code",
   "execution_count": 13,
   "metadata": {},
   "outputs": [],
   "source": [
    "import netsquid.components.instructions as instr\n",
    "from netsquid.components.qprocessor import PhysicalInstruction\n",
    "from netsquid.components.models.qerrormodels import DepolarNoiseModel\n",
    "from netsquid.components.models.qerrormodels import DephaseNoiseModel\n",
    "from netsquid.components.qprocessor import QuantumProcessor"
   ]
  },
  {
   "cell_type": "code",
   "execution_count": 14,
   "metadata": {},
   "outputs": [],
   "source": [
    "def create_processor(depolar_rate, dephase_rate):\n",
    "    '''factory to create a quantum processor for each end node\n",
    "    '''\n",
    "    measure_noise_model = DephaseNoiseModel(dephase_rate=dephase_rate, time_independent=True)\n",
    "    physical_instructions = [\n",
    "        PhysicalInstruction(instr.INSTR_INIT, duration=3, parallel=True),\n",
    "        PhysicalInstruction(instr.INSTR_H, duration=1, parallel=True, topology=[0, 1]),\n",
    "        PhysicalInstruction(instr.INSTR_X, duration=1, parallel=True, topology=[0]),\n",
    "        PhysicalInstruction(instr.INSTR_Z, duration=1, parallel=True, topology=[0]),\n",
    "        PhysicalInstruction(instr.INSTR_S, duration=1, parallel=True, topology=[0]),\n",
    "        PhysicalInstruction(instr.INSTR_CNOT, duration=4, parallel=True, topology=[(0, 1)]),\n",
    "        PhysicalInstruction(instr.INSTR_MEASURE, duration=7, parallel=False, topology=[0], quantum_noise_model=measure_noise_model, apply_q_noise_after=False),\n",
    "        PhysicalInstruction(instr.INSTR_MEASURE, duration=7, parallel=False, topology=[1])\n",
    "    ]\n",
    "    memory_noise_model = DepolarNoiseModel(depolar_rate=depolar_rate)\n",
    "    processor = QuantumProcessor('quantum_processor', num_positions=2, memory_noise_models=[memory_noise_model] * 2, phys_instructions=physical_instructions)\n",
    "    return processor"
   ]
  },
  {
   "cell_type": "code",
   "execution_count": 17,
   "metadata": {},
   "outputs": [],
   "source": [
    "from netsquid.nodes import Node\n",
    "from netsquid.nodes import Network"
   ]
  },
  {
   "cell_type": "code",
   "execution_count": 18,
   "metadata": {},
   "outputs": [],
   "source": [
    "def example_network_setup(node_distance=4e-3, depolar_rate=1e7, dephase_rate=0.2):\n",
    "    '''setup the physical components of the quantum network\n",
    "    '''\n",
    "    # setup nodes Alice and Bob with quantum processor\n",
    "    alice = Node('Alice', qmemory=create_processor(depolar_rate, dephase_rate))\n",
    "    bob = Node('Bob', qmemory=create_processor(depolar_rate, dephase_rate))\n",
    "    # create a network\n",
    "    network = Network('Teleportation_network')\n",
    "    network.add_nodes([alice, bob])\n",
    "    network.add_nodes([alice, bob])\n",
    "    # setup classical connection between nodes\n",
    "    c_conn = ClassicalConnection(length=node_distance)\n",
    "    network.add_connection(alice, bob, connection=c_conn, label='classical', port_name_node1='cout_bob', port_name_node2='cin_alice')\n",
    "    # setup entangling connection between nodes\n",
    "    source_frequency = 4e4 / node_distance\n",
    "    q_conn = EntanglingConnection(length=node_distance, source_frequency=source_frequency)\n",
    "    port_ac, port_bc = network.add_connection(alice, bob, connection=q_conn, label='quantum', port_name_node1='qin_charlie', port_name_node2='qin_charlie')\n",
    "    alice.ports[port_ac].forward_input(alice.qmemory.ports['qin1'])\n",
    "    bob.ports[port_bc].forward_input(bob.qmemory.ports['qin0'])\n",
    "    return network"
   ]
  },
  {
   "cell_type": "markdown",
   "metadata": {},
   "source": [
    "## Setting up the simulation"
   ]
  },
  {
   "cell_type": "code",
   "execution_count": null,
   "metadata": {},
   "outputs": [],
   "source": []
  }
 ],
 "metadata": {
  "kernelspec": {
   "display_name": "Python 3",
   "language": "python",
   "name": "python3"
  },
  "language_info": {
   "codemirror_mode": {
    "name": "ipython",
    "version": 3
   },
   "file_extension": ".py",
   "mimetype": "text/x-python",
   "name": "python",
   "nbconvert_exporter": "python",
   "pygments_lexer": "ipython3",
   "version": "3.8.5"
  }
 },
 "nbformat": 4,
 "nbformat_minor": 4
}
