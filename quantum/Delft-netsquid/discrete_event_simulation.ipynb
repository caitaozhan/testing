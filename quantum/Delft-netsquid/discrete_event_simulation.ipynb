{
 "cells": [
  {
   "cell_type": "markdown",
   "metadata": {},
   "source": [
    "# Discrete event simulation\n",
    "https://docs.netsquid.org/latest-release/tutorial.pydynaa.html"
   ]
  },
  {
   "cell_type": "markdown",
   "metadata": {},
   "source": [
    "## A quantum ping pong example"
   ]
  },
  {
   "cell_type": "code",
   "execution_count": 1,
   "metadata": {},
   "outputs": [],
   "source": [
    "import netsquid as ns\n",
    "import pydynaa\n",
    "ns.set_random_state(seed=42)"
   ]
  },
  {
   "cell_type": "code",
   "execution_count": 2,
   "metadata": {},
   "outputs": [],
   "source": [
    "class PingEntity(pydynaa.Entity):\n",
    "    ping_evtype = pydynaa.EventType('PING_EVENT', 'A ping event')\n",
    "    delay = 10.\n",
    "\n",
    "    def start(self, qubit):\n",
    "        # start the game by scheduling the first ping event after delay\n",
    "        self.qubit = qubit\n",
    "        self._schedule_now(PingEntity.ping_evtype)\n",
    "\n",
    "    def wait_for_pong(self, pong_entity):\n",
    "        # setup this entity to listen for pong events from a PongEntity\n",
    "        pong_handler = pydynaa.EventHandler(self._handle_pong_event)\n",
    "        self._wait(pong_handler, entity=pong_entity, event_type=PongEntity.pong_evtype)\n",
    "\n",
    "    def _handle_pong_event(self, event):\n",
    "        # callback function called by the pong handler when pong event is triggered\n",
    "        m, prob = ns.qubits.measure(self.qubit, observable=ns.Z)\n",
    "        labels_z = ('|0>', '|1>')\n",
    "        print(f'{ns.sim_time():.1f}: Pong event! PingEntity measured {labels_z[m]} with probability {prob:.2f}')\n",
    "        self._schedule_after(PingEntity.delay, PingEntity.ping_evtype)\n",
    "\n",
    "\n",
    "class PongEntity(pydynaa.Entity):\n",
    "    pong_evtype = pydynaa.EventType('PONG_EVENT', 'A pong event')\n",
    "    delay = 10.\n",
    "\n",
    "    def wait_for_ping(self, ping_entity):\n",
    "        # setup this entity to listen for ping events from a PingEntity\n",
    "        ping_handler = pydynaa.EventHandler(self._handle_ping_event)\n",
    "        self._wait(ping_handler, entity=ping_entity, event_type=PingEntity.ping_evtype)\n",
    "\n",
    "    def _handle_ping_event(self, event):\n",
    "        # callback function called by the ping handler when ping event is triggered\n",
    "        m, prob = ns.qubits.measure(event.source.qubit, observable=ns.X)\n",
    "        labels_x = ('|+>', '|->')\n",
    "        print(f\"{ns.sim_time():.1f}: Ping event! PongEntity measured {labels_x[m]} with probability {prob:.2f}\")\n",
    "        self._schedule_after(PongEntity.delay, PongEntity.pong_evtype)\n"
   ]
  },
  {
   "cell_type": "code",
   "execution_count": 3,
   "metadata": {},
   "outputs": [],
   "source": [
    "# create entities and register them to each other\n",
    "ping = PingEntity()\n",
    "pong = PongEntity()\n",
    "ping.wait_for_pong(pong)\n",
    "pong.wait_for_ping(ping)\n",
    "\n",
    "qubit, = ns.qubits.create_qubits(1)\n",
    "ping.start(qubit)"
   ]
  },
  {
   "cell_type": "code",
   "execution_count": 4,
   "metadata": {},
   "outputs": [
    {
     "name": "stdout",
     "output_type": "stream",
     "text": [
      "0.0: Ping event! PongEntity measured |+> with probability 0.50\n",
      "10.0: Pong event! PingEntity measured |1> with probability 0.50\n",
      "20.0: Ping event! PongEntity measured |-> with probability 0.50\n",
      "30.0: Pong event! PingEntity measured |1> with probability 0.50\n",
      "40.0: Ping event! PongEntity measured |+> with probability 0.50\n",
      "50.0: Pong event! PingEntity measured |0> with probability 0.50\n",
      "60.0: Ping event! PongEntity measured |+> with probability 0.50\n",
      "70.0: Pong event! PingEntity measured |1> with probability 0.50\n",
      "80.0: Ping event! PongEntity measured |-> with probability 0.50\n",
      "90.0: Pong event! PingEntity measured |1> with probability 0.50\n",
      "100.0: Ping event! PongEntity measured |+> with probability 0.50\n",
      "110.0: Pong event! PingEntity measured |1> with probability 0.50\n",
      "120.0: Ping event! PongEntity measured |-> with probability 0.50\n",
      "130.0: Pong event! PingEntity measured |0> with probability 0.50\n",
      "140.0: Ping event! PongEntity measured |+> with probability 0.50\n",
      "150.0: Pong event! PingEntity measured |0> with probability 0.50\n",
      "160.0: Ping event! PongEntity measured |+> with probability 0.50\n",
      "170.0: Pong event! PingEntity measured |1> with probability 0.50\n",
      "180.0: Ping event! PongEntity measured |+> with probability 0.50\n",
      "190.0: Pong event! PingEntity measured |0> with probability 0.50\n"
     ]
    }
   ],
   "source": [
    "stats = ns.sim_run(end_time=200)"
   ]
  },
  {
   "cell_type": "code",
   "execution_count": 6,
   "metadata": {},
   "outputs": [
    {
     "name": "stdout",
     "output_type": "stream",
     "text": [
      "\n",
      "Simulation summary\n",
      "==================\n",
      "\n",
      "Elapsed wallclock time: 0:00:00.005043\n",
      "Elapsed simulation time: 2.00e+02 [ns]\n",
      "Triggered events: 20\n",
      "Handled callbacks: 20\n",
      "Total quantum operations: 20\n",
      "Frequent quantum operations: MEASURE = 20\n",
      "Max qstate size: 1 qubits\n",
      "Mean qstate size: 1.00 qubits\n",
      "\n"
     ]
    }
   ],
   "source": [
    "print(stats)"
   ]
  },
  {
   "cell_type": "markdown",
   "metadata": {},
   "source": [
    "## Event expressions by example: quantum teleportation"
   ]
  },
  {
   "cell_type": "code",
   "execution_count": 49,
   "metadata": {},
   "outputs": [],
   "source": [
    "ns.sim_reset()"
   ]
  },
  {
   "cell_type": "code",
   "execution_count": 50,
   "metadata": {},
   "outputs": [],
   "source": [
    "class Charlie(pydynaa.Entity):\n",
    "    ready_evtype = pydynaa.EventType('QUBITS_READY', 'Entangled qubits are ready')\n",
    "    _generate_evtype = pydynaa.EventType('GENERATE', 'Generate entangled qubits')\n",
    "    period = 60.  # the cycle, i.e., every 60 ns\n",
    "    delay = 10.\n",
    "    \n",
    "    def __init__(self):\n",
    "        # initialise Charlie by entangling qubits after every generation event\n",
    "        self.entangled_qubits = None\n",
    "        self._generate_handler = pydynaa.EventHandler(self._entangle_qubits)\n",
    "        self._wait(self._generate_handler, entity=self, event_type=Charlie._generate_evtype)\n",
    "        \n",
    "    def _entangle_qubits(self, event):\n",
    "        # callback function that entangles qubits and schedules an entanglement ready event\n",
    "        q1, q2 = ns.qubits.create_qubits(2)\n",
    "        ns.qubits.operate(q1, ns.H)\n",
    "        ns.qubits.operate([q1, q2], ns.CNOT)\n",
    "        self.entangled_qubits = [q1, q2]\n",
    "        self._schedule_after(Charlie.delay, Charlie.ready_evtype)\n",
    "        print(f'{ns.sim_time():.1f}: Charlie finished generating entanglement')\n",
    "        self._schedule_after(Charlie.period, Charlie._generate_evtype)\n",
    "    \n",
    "    def start(self):\n",
    "        # begin generating entanglement\n",
    "        print(f'{ns.sim_time():.1f}: Charlie start generating entanglement')\n",
    "        self._schedule_now(Charlie._generate_evtype)\n"
   ]
  },
  {
   "cell_type": "code",
   "execution_count": 51,
   "metadata": {},
   "outputs": [],
   "source": [
    "class Alice(pydynaa.Entity):\n",
    "    ready_evtype = pydynaa.EventType('CORRECTION_READY', 'Corrections are ready')\n",
    "    _teleport_evtype = pydynaa.EventType('TELEPORT', 'Teleport the qubit')\n",
    "    delay = 20.\n",
    "    \n",
    "    def __init__(self, teleport_state):\n",
    "        # initialise alice by setting the teleport state and waiting to teleport\n",
    "        self.teleport_state = teleport_state\n",
    "        self.q0 = None\n",
    "        self.q1 = None\n",
    "        self.corrections = None\n",
    "        self._teleport_handler = pydynaa.EventHandler(self._handle_teleport)\n",
    "        self._wait(self._teleport_handler, entity=self, event_type=Alice._teleport_evtype)\n",
    "    \n",
    "    def wait_for_charlie(self, charlie):\n",
    "        # setup alice to wait for an entanglement qubit from charlie\n",
    "        self._qubit_handler = pydynaa.EventHandler(self._handle_qubit)\n",
    "        self._wait(self._qubit_handler, entity=charlie, event_type=Charlie.ready_evtype)\n",
    "    \n",
    "    def _handle_qubit(self, event):\n",
    "        # callback function that handles arrival of entangled qubit and schedules teleportation\n",
    "        self.q0, = ns.qubits.create_qubits(1, no_state=True)\n",
    "        self.q1 = event.source.entangled_qubits[0]\n",
    "        ns.qubits.assign_qstate([self.q0], self.teleport_state)\n",
    "        self._schedule_after(Alice.delay, Alice._teleport_evtype)\n",
    "        print(f'{ns.sim_time():.1f}: alice received entangled qubit')\n",
    "    \n",
    "    def _handle_teleport(self, event):\n",
    "        # callback function that does teleportion and schedules a correction ready event\n",
    "        ns.qubits.operate([self.q0, self.q1], ns.CNOT)\n",
    "        ns.qubits.operate(self.q0, ns.H)\n",
    "        m0, _ = ns.qubits.measure(self.q0)\n",
    "        m1, _ = ns.qubits.measure(self.q1)\n",
    "        self.corrections = [m0, m1]\n",
    "        self._schedule_now(Alice.ready_evtype)\n",
    "        print(f'{ns.sim_time():.1f}: alice measured qubits & sending  corrections')\n"
   ]
  },
  {
   "cell_type": "code",
   "execution_count": 52,
   "metadata": {},
   "outputs": [],
   "source": [
    "class Bob(pydynaa.Entity):\n",
    "    def wait_for_teleport(self, alice, charlie):\n",
    "        # setup bob to wait for his entangled qubit and alice's corrections\n",
    "        charlie_ready_evexpr = pydynaa.EventExpression(source=charlie, event_type=Charlie.ready_evtype)\n",
    "        alice_ready_evexpr = pydynaa.EventExpression(source=alice, event_type=Alice.ready_evtype)\n",
    "        both_ready_evexpr = charlie_ready_evexpr & alice_ready_evexpr\n",
    "        self._teleport_handler = pydynaa.ExpressionHandler(self._handle_teleport)\n",
    "        self._wait(self._teleport_handler, expression=both_ready_evexpr)\n",
    "        # you wait for the event. when the event indeed occurs, it is the callback function's (which is a handler) show time\n",
    "\n",
    "    def _handle_teleport(self, event_expression):\n",
    "        # callback function that handles message from both alice and charlie\n",
    "        qubit = event_expression.first_term.atomic_source.entangled_qubits[1]\n",
    "        alice = event_expression.second_term.atomic_source\n",
    "        self._apply_corrections(qubit, alice.corrections)\n",
    "    \n",
    "    def _apply_corrections(self, qubit, corrections):\n",
    "        # apply teleportation corrections and check fidelity\n",
    "        m0, m1 = corrections\n",
    "        if m1:\n",
    "            ns.qubits.operate(qubit, ns.X)\n",
    "        if m0:\n",
    "            ns.qubits.operate(qubit, ns.Z)\n",
    "        fidelity = ns.qubits.fidelity(qubit, alice.teleport_state)\n",
    "        print(f\"{ns.sim_time():.1f}: Bob received entangled qubit and corrections! Fidelity = {fidelity:.3f}\")"
   ]
  },
  {
   "cell_type": "code",
   "execution_count": 53,
   "metadata": {},
   "outputs": [],
   "source": [
    "class NoisyBob(Bob):\n",
    "    depolar_rate = 1e7\n",
    "\n",
    "    def _handle_teleport(self, event_expression):\n",
    "        # callback function that first applies noise to qubit before corrections\n",
    "        alice_expr = event_expression.second_term\n",
    "        charlie_expr = event_expression.first_term\n",
    "        # compute time that qubit from charlie has been waiting\n",
    "        delay = ns.sim_time() - charlie_expr.triggered_time\n",
    "        # apply time-dependent quantum noise to bob's qubit\n",
    "        qubit = charlie_expr.atomic_source.entangled_qubits[1]\n",
    "        ns.qubits.delay_depolarize(qubit, NoisyBob.depolar_rate, delay)\n",
    "        # apply classical corrections (as before)\n",
    "        self._apply_corrections(qubit, alice_expr.atomic_source.corrections)\n"
   ]
  },
  {
   "cell_type": "code",
   "execution_count": 54,
   "metadata": {},
   "outputs": [],
   "source": [
    "def setup_network(alice, bob, charlie):\n",
    "    alice.wait_for_charlie(charlie)\n",
    "    bob.wait_for_teleport(alice, charlie)\n",
    "    charlie.start()\n",
    "\n",
    "alice = Alice(teleport_state=ns.h1)\n",
    "bob = Bob()\n",
    "charlie = Charlie()"
   ]
  },
  {
   "cell_type": "code",
   "execution_count": 55,
   "metadata": {},
   "outputs": [
    {
     "name": "stdout",
     "output_type": "stream",
     "text": [
      "0.0: Charlie start generating entanglement\n"
     ]
    }
   ],
   "source": [
    "setup_network(alice, bob, charlie)"
   ]
  },
  {
   "cell_type": "code",
   "execution_count": 56,
   "metadata": {},
   "outputs": [
    {
     "name": "stdout",
     "output_type": "stream",
     "text": [
      "0.0: Charlie finished generating entanglement\n",
      "10.0: alice received entangled qubit\n",
      "30.0: alice measured qubits & sending  corrections\n",
      "30.0: Bob received entangled qubit and corrections! Fidelity = 1.000\n",
      "60.0: Charlie finished generating entanglement\n",
      "70.0: alice received entangled qubit\n",
      "90.0: alice measured qubits & sending  corrections\n",
      "90.0: Bob received entangled qubit and corrections! Fidelity = 1.000\n",
      "120.0: Charlie finished generating entanglement\n",
      "130.0: alice received entangled qubit\n",
      "150.0: alice measured qubits & sending  corrections\n",
      "150.0: Bob received entangled qubit and corrections! Fidelity = 1.000\n",
      "180.0: Charlie finished generating entanglement\n",
      "190.0: alice received entangled qubit\n"
     ]
    }
   ],
   "source": [
    "stats = ns.sim_run(end_time=200)"
   ]
  },
  {
   "cell_type": "code",
   "execution_count": 27,
   "metadata": {},
   "outputs": [
    {
     "name": "stdout",
     "output_type": "stream",
     "text": [
      "\n",
      "Simulation summary\n",
      "==================\n",
      "\n",
      "Elapsed wallclock time: 0:00:00.001874\n",
      "Elapsed simulation time: 1.00e+02 [ns]\n",
      "Triggered events: 8\n",
      "Handled callbacks: 10\n",
      "Total quantum operations: 13\n",
      "Frequent quantum operations: MEASURE = 4; H = 4; CX = 4; Z = 1\n",
      "Max qstate size: 3 qubits\n",
      "Mean qstate size: 2.23 qubits\n",
      "\n"
     ]
    }
   ],
   "source": [
    "print(stats)"
   ]
  },
  {
   "cell_type": "code",
   "execution_count": 39,
   "metadata": {},
   "outputs": [],
   "source": [
    "ns.sim_reset()\n",
    "ns.set_qstate_formalism(ns.QFormalism.DM)"
   ]
  },
  {
   "cell_type": "code",
   "execution_count": 40,
   "metadata": {},
   "outputs": [
    {
     "name": "stdout",
     "output_type": "stream",
     "text": [
      "0.0: Charlie start generating entanglement\n"
     ]
    }
   ],
   "source": [
    "alice = Alice(teleport_state=ns.h1)\n",
    "bob = NoisyBob()\n",
    "charlie = Charlie()\n",
    "setup_network(alice, bob, charlie)"
   ]
  },
  {
   "cell_type": "code",
   "execution_count": 41,
   "metadata": {},
   "outputs": [
    {
     "name": "stdout",
     "output_type": "stream",
     "text": [
      "0.0: Charlie finished generating entanglement\n",
      "10.0: alice received entangled qubit\n",
      "30.0: alice measured qubits & sending  corrections\n",
      "30.0: Bob received entangled qubit and corrections! Fidelity = 0.954\n"
     ]
    }
   ],
   "source": [
    "stats = ns.sim_run(end_time=50)"
   ]
  },
  {
   "cell_type": "code",
   "execution_count": null,
   "metadata": {},
   "outputs": [],
   "source": []
  }
 ],
 "metadata": {
  "kernelspec": {
   "display_name": "Python 3",
   "language": "python",
   "name": "python3"
  },
  "language_info": {
   "codemirror_mode": {
    "name": "ipython",
    "version": 3
   },
   "file_extension": ".py",
   "mimetype": "text/x-python",
   "name": "python",
   "nbconvert_exporter": "python",
   "pygments_lexer": "ipython3",
   "version": "3.8.5"
  }
 },
 "nbformat": 4,
 "nbformat_minor": 4
}
