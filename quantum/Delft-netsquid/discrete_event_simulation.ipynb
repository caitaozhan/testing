{
 "cells": [
  {
   "cell_type": "markdown",
   "metadata": {},
   "source": [
    "# Discrete event simulation\n",
    "https://docs.netsquid.org/latest-release/tutorial.pydynaa.html"
   ]
  },
  {
   "cell_type": "markdown",
   "metadata": {},
   "source": [
    "## A quantum ping pong example"
   ]
  },
  {
   "cell_type": "code",
   "execution_count": 1,
   "metadata": {},
   "outputs": [],
   "source": [
    "import netsquid as ns\n",
    "import pydynaa\n",
    "ns.set_random_state(seed=42)"
   ]
  },
  {
   "cell_type": "code",
   "execution_count": 2,
   "metadata": {},
   "outputs": [],
   "source": [
    "class PingEntity(pydynaa.Entity):\n",
    "    ping_evtype = pydynaa.EventType('PING_EVENT', 'A ping event')\n",
    "    delay = 10.\n",
    "\n",
    "    def start(self, qubit):\n",
    "        # start the game by scheduling the first ping event after delay\n",
    "        self.qubit = qubit\n",
    "        self._schedule_now(PingEntity.ping_evtype)\n",
    "\n",
    "    def wait_for_pong(self, pong_entity):\n",
    "        # setup this entity to listen for pong events from a PongEntity\n",
    "        pong_handler = pydynaa.EventHandler(self._handle_pong_event)\n",
    "        self._wait(pong_handler, entity=pong_entity, event_type=PongEntity.pong_evtype)\n",
    "\n",
    "    def _handle_pong_event(self, event):\n",
    "        # callback function called by the pong handler when pong event is triggered\n",
    "        m, prob = ns.qubits.measure(self.qubit, observable=ns.Z)\n",
    "        labels_z = ('|0>', '|1>')\n",
    "        print(f'{ns.sim_time():.1f}: Pong event! PingEntity measured {labels_z[m]} with probability {prob:.2f}')\n",
    "        self._schedule_after(PingEntity.delay, PingEntity.ping_evtype)\n",
    "\n",
    "\n",
    "class PongEntity(pydynaa.Entity):\n",
    "    pong_evtype = pydynaa.EventType('PONG_EVENT', 'A pong event')\n",
    "    delay = 10.\n",
    "\n",
    "    def wait_for_ping(self, ping_entity):\n",
    "        # setup this entity to listen for ping events from a PingEntity\n",
    "        ping_handler = pydynaa.EventHandler(self._handle_ping_event)\n",
    "        self._wait(ping_handler, entity=ping_entity, event_type=PingEntity.ping_evtype)\n",
    "\n",
    "    def _handle_ping_event(self, event):\n",
    "        # callback function called by the ping handler when ping event is triggered\n",
    "        m, prob = ns.qubits.measure(event.source.qubit, observable=ns.X)\n",
    "        labels_x = ('|+>', '|->')\n",
    "        print(f\"{ns.sim_time():.1f}: Ping event! PongEntity measured {labels_x[m]} with probability {prob:.2f}\")\n",
    "        self._schedule_after(PongEntity.delay, PongEntity.pong_evtype)\n"
   ]
  },
  {
   "cell_type": "code",
   "execution_count": 3,
   "metadata": {},
   "outputs": [],
   "source": [
    "# create entities and register them to each other\n",
    "ping = PingEntity()\n",
    "pong = PongEntity()\n",
    "ping.wait_for_pong(pong)\n",
    "pong.wait_for_ping(ping)\n",
    "\n",
    "qubit, = ns.qubits.create_qubits(1)\n",
    "ping.start(qubit)"
   ]
  },
  {
   "cell_type": "code",
   "execution_count": 4,
   "metadata": {},
   "outputs": [
    {
     "name": "stdout",
     "output_type": "stream",
     "text": [
      "0.0: Ping event! PongEntity measured |+> with probability 0.50\n",
      "10.0: Pong event! PingEntity measured |1> with probability 0.50\n",
      "20.0: Ping event! PongEntity measured |-> with probability 0.50\n",
      "30.0: Pong event! PingEntity measured |1> with probability 0.50\n",
      "40.0: Ping event! PongEntity measured |+> with probability 0.50\n",
      "50.0: Pong event! PingEntity measured |0> with probability 0.50\n",
      "60.0: Ping event! PongEntity measured |+> with probability 0.50\n",
      "70.0: Pong event! PingEntity measured |1> with probability 0.50\n",
      "80.0: Ping event! PongEntity measured |-> with probability 0.50\n",
      "90.0: Pong event! PingEntity measured |1> with probability 0.50\n",
      "100.0: Ping event! PongEntity measured |+> with probability 0.50\n",
      "110.0: Pong event! PingEntity measured |1> with probability 0.50\n",
      "120.0: Ping event! PongEntity measured |-> with probability 0.50\n",
      "130.0: Pong event! PingEntity measured |0> with probability 0.50\n",
      "140.0: Ping event! PongEntity measured |+> with probability 0.50\n",
      "150.0: Pong event! PingEntity measured |0> with probability 0.50\n",
      "160.0: Ping event! PongEntity measured |+> with probability 0.50\n",
      "170.0: Pong event! PingEntity measured |1> with probability 0.50\n",
      "180.0: Ping event! PongEntity measured |+> with probability 0.50\n",
      "190.0: Pong event! PingEntity measured |0> with probability 0.50\n"
     ]
    }
   ],
   "source": [
    "stats = ns.sim_run(end_time=200)"
   ]
  },
  {
   "cell_type": "code",
   "execution_count": 6,
   "metadata": {},
   "outputs": [
    {
     "name": "stdout",
     "output_type": "stream",
     "text": [
      "\n",
      "Simulation summary\n",
      "==================\n",
      "\n",
      "Elapsed wallclock time: 0:00:00.005043\n",
      "Elapsed simulation time: 2.00e+02 [ns]\n",
      "Triggered events: 20\n",
      "Handled callbacks: 20\n",
      "Total quantum operations: 20\n",
      "Frequent quantum operations: MEASURE = 20\n",
      "Max qstate size: 1 qubits\n",
      "Mean qstate size: 1.00 qubits\n",
      "\n"
     ]
    }
   ],
   "source": [
    "print(stats)"
   ]
  },
  {
   "cell_type": "markdown",
   "metadata": {},
   "source": [
    "## Event expressions by example: quantum teleportation"
   ]
  },
  {
   "cell_type": "code",
   "execution_count": null,
   "metadata": {},
   "outputs": [],
   "source": []
  }
 ],
 "metadata": {
  "kernelspec": {
   "display_name": "Python 3",
   "language": "python",
   "name": "python3"
  },
  "language_info": {
   "codemirror_mode": {
    "name": "ipython",
    "version": 3
   },
   "file_extension": ".py",
   "mimetype": "text/x-python",
   "name": "python",
   "nbconvert_exporter": "python",
   "pygments_lexer": "ipython3",
   "version": "3.8.5"
  }
 },
 "nbformat": 4,
 "nbformat_minor": 4
}
