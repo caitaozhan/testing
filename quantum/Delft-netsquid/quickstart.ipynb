{
 "cells": [
  {
   "cell_type": "markdown",
   "metadata": {},
   "source": [
    "# NetSquid in 10 minutes\n",
    "https://docs.netsquid.org/latest-release/quick_start.html"
   ]
  },
  {
   "cell_type": "code",
   "execution_count": 1,
   "metadata": {},
   "outputs": [],
   "source": [
    "import netsquid as ns"
   ]
  },
  {
   "cell_type": "markdown",
   "metadata": {},
   "source": [
    "## Qubits"
   ]
  },
  {
   "cell_type": "code",
   "execution_count": 2,
   "metadata": {},
   "outputs": [],
   "source": [
    "qubits = ns.qubits.create_qubits(1)"
   ]
  },
  {
   "cell_type": "code",
   "execution_count": 3,
   "metadata": {},
   "outputs": [
    {
     "data": {
      "text/plain": [
       "[Qubit('QS#0-0')]"
      ]
     },
     "execution_count": 3,
     "metadata": {},
     "output_type": "execute_result"
    }
   ],
   "source": [
    "qubits"
   ]
  },
  {
   "cell_type": "code",
   "execution_count": 4,
   "metadata": {},
   "outputs": [
    {
     "data": {
      "text/plain": [
       "array([[1.+0.j, 0.+0.j],\n",
       "       [0.+0.j, 0.+0.j]])"
      ]
     },
     "execution_count": 4,
     "metadata": {},
     "output_type": "execute_result"
    }
   ],
   "source": [
    "qubit = qubits[0]\n",
    "ns.qubits.reduced_dm(qubit)"
   ]
  },
  {
   "cell_type": "code",
   "execution_count": 5,
   "metadata": {},
   "outputs": [
    {
     "data": {
      "text/plain": [
       "array([[0.+0.j, 0.+0.j],\n",
       "       [0.+0.j, 1.+0.j]])"
      ]
     },
     "execution_count": 5,
     "metadata": {},
     "output_type": "execute_result"
    }
   ],
   "source": [
    "ns.qubits.operate(qubit, ns.X)\n",
    "ns.qubits.reduced_dm(qubit)  # reduced density matrix"
   ]
  },
  {
   "cell_type": "code",
   "execution_count": 6,
   "metadata": {},
   "outputs": [],
   "source": [
    "# measure in standard basis (Z)\n",
    "measurement_result, prob = ns.qubits.measure(qubit)"
   ]
  },
  {
   "cell_type": "code",
   "execution_count": 7,
   "metadata": {},
   "outputs": [
    {
     "name": "stdout",
     "output_type": "stream",
     "text": [
      "measured |1> with probability 1.0\n"
     ]
    }
   ],
   "source": [
    "if measurement_result == 0:\n",
    "    state = \"|0>\"\n",
    "else:\n",
    "    state = \"|1>\"\n",
    "print(f\"measured {state} with probability {prob:.1f}\")"
   ]
  },
  {
   "cell_type": "code",
   "execution_count": 8,
   "metadata": {},
   "outputs": [],
   "source": [
    "# measure in Hadamard (X) basis\n",
    "measurement_result, prob = ns.qubits.measure(qubit, observable=ns.X)"
   ]
  },
  {
   "cell_type": "code",
   "execution_count": 9,
   "metadata": {},
   "outputs": [
    {
     "name": "stdout",
     "output_type": "stream",
     "text": [
      "measured |-> with probability 0.5\n"
     ]
    }
   ],
   "source": [
    "if measurement_result == 0:\n",
    "    state = '|+>'\n",
    "else:\n",
    "    state = '|->'\n",
    "print(f'measured {state} with probability {prob:.1f}')"
   ]
  },
  {
   "cell_type": "code",
   "execution_count": 10,
   "metadata": {},
   "outputs": [
    {
     "data": {
      "text/plain": [
       "array([[ 0.5+0.j, -0.5+0.j],\n",
       "       [-0.5+0.j,  0.5+0.j]])"
      ]
     },
     "execution_count": 10,
     "metadata": {},
     "output_type": "execute_result"
    }
   ],
   "source": [
    "ns.qubits.reduced_dm(qubit)"
   ]
  },
  {
   "cell_type": "markdown",
   "metadata": {},
   "source": [
    "# Simulation engine"
   ]
  },
  {
   "cell_type": "markdown",
   "metadata": {},
   "source": [
    "## Components"
   ]
  },
  {
   "cell_type": "code",
   "execution_count": 11,
   "metadata": {},
   "outputs": [],
   "source": [
    "from netsquid.nodes import Node\n",
    "node_ping = Node(name = 'Ping')\n",
    "node_pong = Node(name = 'Pong')"
   ]
  },
  {
   "cell_type": "code",
   "execution_count": 12,
   "metadata": {},
   "outputs": [],
   "source": [
    "from netsquid.components.models import DelayModel\n",
    "\n",
    "class PingPongDelayModel(DelayModel):\n",
    "    def __init__(self, speed_of_light_fraction=0.5, standard_deviation=0.5):\n",
    "        super().__init__()\n",
    "        self.properties['speed'] = speed_of_light_fraction * 3e5\n",
    "        self.properties['std']   = standard_deviation\n",
    "        self.required_properties = ['length']\n",
    "\n",
    "    def generate_delay(self, **kwargs):\n",
    "        avg_speed = self.properties['speed']\n",
    "        std = self.properties['std']\n",
    "        speed = self.properties['rng'].normal(avg_speed, avg_speed * std)\n",
    "        delay = 1e9 * kwargs['length'] / speed\n",
    "        return delay"
   ]
  },
  {
   "cell_type": "code",
   "execution_count": 13,
   "metadata": {},
   "outputs": [],
   "source": [
    "from netsquid.components import QuantumChannel\n",
    "\n",
    "distance = 2.74 / 1000\n",
    "delay_model = PingPongDelayModel()\n",
    "channel_1 = QuantumChannel(name='qchannel[ping to pong]', length=distance, models={'delay_model': delay_model})\n",
    "channel_2 = QuantumChannel(name='qchannel[pong to ping]', length=distance, models={'delay_model': delay_model})"
   ]
  },
  {
   "cell_type": "code",
   "execution_count": 14,
   "metadata": {},
   "outputs": [
    {
     "data": {
      "text/plain": [
       "('qubitIO', 'qubitIO')"
      ]
     },
     "execution_count": 14,
     "metadata": {},
     "output_type": "execute_result"
    }
   ],
   "source": [
    "from netsquid.nodes import DirectConnection\n",
    "\n",
    "connection = DirectConnection(name='conn[ping|pong]', channel_AtoB=channel_1, channel_BtoA=channel_2)\n",
    "node_ping.connect_to(remote_node=node_pong, connection=connection, local_port_name='qubitIO', remote_port_name='qubitIO')"
   ]
  },
  {
   "cell_type": "markdown",
   "metadata": {},
   "source": [
    "## Protocols"
   ]
  },
  {
   "cell_type": "code",
   "execution_count": 15,
   "metadata": {},
   "outputs": [],
   "source": [
    "from netsquid.protocols import NodeProtocol"
   ]
  },
  {
   "cell_type": "code",
   "execution_count": 16,
   "metadata": {},
   "outputs": [],
   "source": [
    "class PingPongProtocol(NodeProtocol):\n",
    "    def __init__(self, node, observable, qubit=None):\n",
    "        super().__init__(node)\n",
    "        self.observable = observable\n",
    "        self.qubit = qubit\n",
    "        self.basis = ['|0>', '|1>'] if observable == ns.Z else ['|+>', '|->']\n",
    "\n",
    "    def run(self):\n",
    "        if self.qubit is not None:\n",
    "            # send (TX) qubit to the other node via port's output\n",
    "            self.node.ports['qubitIO'].tx_output(self.qubit)\n",
    "        while True:\n",
    "            # wait (yield) until input has arrived on our port\n",
    "            yield self.await_port_input(self.node.ports['qubitIO'])\n",
    "            # Receive (RX) qubit on the port's input\n",
    "            message = self.node.ports['qubitIO'].rx_input()\n",
    "            qubit = message.items[0]\n",
    "            meas, prob = ns.qubits.measure(qubit, observable=self.observable)\n",
    "            print(f'{ns.sim_time():5.1f}: {self.node.name} measured {self.basis[meas]} with probability {prob:.2f}')\n",
    "            # send (TX) qubit to the other node via connection\n",
    "            self.node.ports['qubitIO'].tx_output(qubit)"
   ]
  },
  {
   "cell_type": "code",
   "execution_count": 17,
   "metadata": {},
   "outputs": [],
   "source": [
    "qubits = ns.qubits.create_qubits(1)\n",
    "ping_protocol = PingPongProtocol(node_ping, observable=ns.Z, qubit=qubits[0])\n",
    "pong_protocol = PingPongProtocol(node_pong, observable=ns.X)"
   ]
  },
  {
   "cell_type": "code",
   "execution_count": 18,
   "metadata": {},
   "outputs": [
    {
     "data": {
      "text/plain": [
       "PingPongProtocol(Node(name='Pong'), 'PingPongProtocol')"
      ]
     },
     "execution_count": 18,
     "metadata": {},
     "output_type": "execute_result"
    }
   ],
   "source": [
    "ping_protocol.start()\n",
    "pong_protocol.start()"
   ]
  },
  {
   "cell_type": "code",
   "execution_count": 19,
   "metadata": {},
   "outputs": [
    {
     "name": "stdout",
     "output_type": "stream",
     "text": [
      " 23.2: Pong measured |+> with probability 0.50\n",
      " 36.5: Ping measured |0> with probability 0.50\n",
      " 52.6: Pong measured |-> with probability 0.50\n",
      " 78.1: Ping measured |0> with probability 0.50\n",
      "131.8: Pong measured |+> with probability 0.50\n",
      "194.3: Ping measured |0> with probability 0.50\n",
      "210.6: Pong measured |-> with probability 0.50\n",
      "231.7: Ping measured |1> with probability 0.50\n",
      "247.6: Pong measured |-> with probability 0.50\n",
      "266.1: Ping measured |1> with probability 0.50\n",
      "280.8: Pong measured |-> with probability 0.50\n",
      "295.3: Ping measured |1> with probability 0.50\n"
     ]
    }
   ],
   "source": [
    "run_stats = ns.sim_run(duration=300)"
   ]
  },
  {
   "cell_type": "code",
   "execution_count": null,
   "metadata": {},
   "outputs": [],
   "source": []
  }
 ],
 "metadata": {
  "kernelspec": {
   "display_name": "Python 3",
   "language": "python",
   "name": "python3"
  },
  "language_info": {
   "codemirror_mode": {
    "name": "ipython",
    "version": 3
   },
   "file_extension": ".py",
   "mimetype": "text/x-python",
   "name": "python",
   "nbconvert_exporter": "python",
   "pygments_lexer": "ipython3",
   "version": "3.8.5"
  }
 },
 "nbformat": 4,
 "nbformat_minor": 4
}
