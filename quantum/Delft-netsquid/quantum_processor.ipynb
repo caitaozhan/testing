{
 "cells": [
  {
   "cell_type": "markdown",
   "metadata": {},
   "source": [
    "# Quantum Processor\n",
    "\n",
    "https://docs.netsquid.org/latest-release/tutorial.quantumprocessor.html"
   ]
  },
  {
   "cell_type": "code",
   "execution_count": 1,
   "metadata": {},
   "outputs": [],
   "source": [
    "import netsquid.components.instructions as instr\n",
    "from netsquid.components.qmemory import QuantumMemory"
   ]
  },
  {
   "cell_type": "code",
   "execution_count": 2,
   "metadata": {},
   "outputs": [
    {
     "data": {
      "text/plain": [
       "[0]"
      ]
     },
     "execution_count": 2,
     "metadata": {},
     "output_type": "execute_result"
    }
   ],
   "source": [
    "qmemory = QuantumMemory('ExampleQMem', num_positions=1)\n",
    "instr.INSTR_INIT(qmemory, positions=[0])\n",
    "instr.INSTR_H(qmemory, positions=[0])\n",
    "instr.INSTR_MEASURE_X(qmemory, positions=[0])"
   ]
  },
  {
   "cell_type": "code",
   "execution_count": 3,
   "metadata": {},
   "outputs": [],
   "source": [
    "from netsquid.qubits import operators as ops\n",
    "INSTR_XY = instr.IGate('xy_gate', ops.X * ops.Y)"
   ]
  },
  {
   "cell_type": "code",
   "execution_count": 4,
   "metadata": {},
   "outputs": [
    {
     "data": {
      "text/plain": [
       "0.0"
      ]
     },
     "execution_count": 4,
     "metadata": {},
     "output_type": "execute_result"
    }
   ],
   "source": [
    "from netsquid.components.qprocessor import QuantumProcessor\n",
    "import netsquid as ns\n",
    "\n",
    "qproc = QuantumProcessor('ExampleQPU', num_positions=3, fallback_to_nonphysical=True)\n",
    "qproc.execute_instruction(instr.INSTR_INIT, [0, 1])\n",
    "qproc.execute_instruction(instr.INSTR_H, [1])\n",
    "qproc.execute_instruction(instr.INSTR_CNOT, [1, 0])\n",
    "m1 = qproc.execute_instruction(instr.INSTR_MEASURE, [0])\n",
    "m2 = qproc.execute_instruction(instr.INSTR_MEASURE, [1])\n",
    "m1 == m2\n",
    "ns.sim_time()"
   ]
  },
  {
   "cell_type": "code",
   "execution_count": 15,
   "metadata": {},
   "outputs": [],
   "source": [
    "from netsquid.components.models.qerrormodels import DepolarNoiseModel\n",
    "from netsquid.components.qprocessor import PhysicalInstruction\n",
    "\n",
    "phys_instructions = [\n",
    "    PhysicalInstruction(instr.INSTR_INIT, duration=3),\n",
    "    PhysicalInstruction(instr.INSTR_H, duration=1, parallel=True, topology=[0, 2]),\n",
    "    PhysicalInstruction(instr.INSTR_X, duration=1, parallel=True, topology=[0, 2]),\n",
    "    PhysicalInstruction(instr.INSTR_Z, duration=1, parallel=True, topology=[0, 2]),\n",
    "    PhysicalInstruction(instr.INSTR_CNOT, duration=4, parallel=True, topology=[(0, 1), (2, 1)]),\n",
    "    PhysicalInstruction(instr.INSTR_MEASURE, duration=7, parallel=False, quantum_noise_model=DepolarNoiseModel(depolar_rate=0.01, time_independent=True), \\\n",
    "                                             apply_q_noise_after=False, topology=[1]),\n",
    "    PhysicalInstruction(instr.INSTR_MEASURE, duration=7, parallel=True, topology=[0, 2])\n",
    "]\n",
    "\n",
    "noisy_qproc = QuantumProcessor('NoiseQPU', num_positions=3, mem_noise_models=[DepolarNoiseModel(1e7)] * 3, phys_instructions=phys_instructions)"
   ]
  },
  {
   "cell_type": "code",
   "execution_count": 48,
   "metadata": {},
   "outputs": [
    {
     "data": {
      "text/plain": [
       "0.0"
      ]
     },
     "execution_count": 48,
     "metadata": {},
     "output_type": "execute_result"
    }
   ],
   "source": [
    "ns.sim_reset()\n",
    "ns.sim_time()"
   ]
  },
  {
   "cell_type": "code",
   "execution_count": 49,
   "metadata": {},
   "outputs": [
    {
     "data": {
      "text/plain": [
       "3.0"
      ]
     },
     "execution_count": 49,
     "metadata": {},
     "output_type": "execute_result"
    }
   ],
   "source": [
    "noisy_qproc.execute_instruction(instr.INSTR_INIT, [0, 1])\n",
    "ns.sim_run()\n",
    "ns.sim_time()"
   ]
  },
  {
   "cell_type": "code",
   "execution_count": 50,
   "metadata": {},
   "outputs": [
    {
     "ename": "ProcessorBusyError",
     "evalue": "",
     "output_type": "error",
     "traceback": [
      "\u001b[0;31m---------------------------------------------------------------------------\u001b[0m",
      "\u001b[0;31mProcessorBusyError\u001b[0m                        Traceback (most recent call last)",
      "\u001b[0;32m<ipython-input-50-a9e92a2711fa>\u001b[0m in \u001b[0;36m<module>\u001b[0;34m\u001b[0m\n\u001b[1;32m      1\u001b[0m \u001b[0mnoisy_qproc\u001b[0m\u001b[0;34m.\u001b[0m\u001b[0mexecute_instruction\u001b[0m\u001b[0;34m(\u001b[0m\u001b[0minstr\u001b[0m\u001b[0;34m.\u001b[0m\u001b[0mINSTR_H\u001b[0m\u001b[0;34m,\u001b[0m \u001b[0;34m[\u001b[0m\u001b[0;36m0\u001b[0m\u001b[0;34m]\u001b[0m\u001b[0;34m)\u001b[0m\u001b[0;34m\u001b[0m\u001b[0;34m\u001b[0m\u001b[0m\n\u001b[0;32m----> 2\u001b[0;31m \u001b[0mnoisy_qproc\u001b[0m\u001b[0;34m.\u001b[0m\u001b[0mexecute_instruction\u001b[0m\u001b[0;34m(\u001b[0m\u001b[0minstr\u001b[0m\u001b[0;34m.\u001b[0m\u001b[0mINSTR_CNOT\u001b[0m\u001b[0;34m,\u001b[0m \u001b[0;34m[\u001b[0m\u001b[0;36m0\u001b[0m\u001b[0;34m,\u001b[0m \u001b[0;36m1\u001b[0m\u001b[0;34m]\u001b[0m\u001b[0;34m)\u001b[0m\u001b[0;34m\u001b[0m\u001b[0;34m\u001b[0m\u001b[0m\n\u001b[0m",
      "\u001b[0;32mnetsquid/components/qprocessor.pyx\u001b[0m in \u001b[0;36mnetsquid.components.qprocessor.QuantumProcessor.execute_instruction\u001b[0;34m()\u001b[0m\n",
      "\u001b[0;32mnetsquid/components/qprocessor.pyx\u001b[0m in \u001b[0;36mnetsquid.components.qprocessor.QuantumProcessor.execute_program\u001b[0;34m()\u001b[0m\n",
      "\u001b[0;31mProcessorBusyError\u001b[0m: "
     ]
    }
   ],
   "source": [
    "noisy_qproc.execute_instruction(instr.INSTR_H, [0])\n",
    "noisy_qproc.execute_instruction(instr.INSTR_CNOT, [0, 1])"
   ]
  },
  {
   "cell_type": "markdown",
   "metadata": {},
   "source": [
    "## Quantum programs"
   ]
  },
  {
   "cell_type": "code",
   "execution_count": 7,
   "metadata": {},
   "outputs": [],
   "source": [
    "from netsquid.components.qprogram import QuantumProgram"
   ]
  },
  {
   "cell_type": "code",
   "execution_count": 52,
   "metadata": {},
   "outputs": [],
   "source": [
    "prog = QuantumProgram(num_qubits=2)\n",
    "q1, q2 = prog.get_qubit_indices(2)    # get the qubit indices we'll be working with\n",
    "prog.apply(instr.INSTR_INIT, [q1, q2])\n",
    "prog.apply(instr.INSTR_H, q1)\n",
    "prog.apply(instr.INSTR_CNOT, [q1, q2])\n",
    "prog.apply(instr.INSTR_MEASURE, q1, output_key='m1')\n",
    "prog.apply(instr.INSTR_MEASURE, q2, otuput_key='m2')"
   ]
  },
  {
   "cell_type": "code",
   "execution_count": 53,
   "metadata": {},
   "outputs": [
    {
     "data": {
      "text/plain": [
       "15.0"
      ]
     },
     "execution_count": 53,
     "metadata": {},
     "output_type": "execute_result"
    }
   ],
   "source": [
    "noisy_qproc.reset()\n",
    "ns.sim_reset()\n",
    "noisy_qproc.execute_program(prog, qubit_mapping = [2, 1])\n",
    "ns.sim_run()\n",
    "ns.sim_time()   # 3 + 1 + 4 + 7 = 15"
   ]
  },
  {
   "cell_type": "code",
   "execution_count": 46,
   "metadata": {},
   "outputs": [],
   "source": [
    "class EntangleProgram(QuantumProgram):\n",
    "    default_num_qubits = 2\n",
    "\n",
    "    def program(self):\n",
    "        q1, q2 = self.get_qubit_indices(2)\n",
    "        self.apply(instr.INSTR_INIT, [q1, q2])\n",
    "        self.apply(instr.INSTR_H, q1)\n",
    "        self.apply(instr.INSTR_CNOT, [q1, q2])\n",
    "        self.apply(instr.INSTR_MEASURE, q1, output_key='m1')\n",
    "        self.apply(instr.INSTR_MEASURE, q2, output_key='m2')\n",
    "        yield self.run()"
   ]
  },
  {
   "cell_type": "code",
   "execution_count": 54,
   "metadata": {},
   "outputs": [],
   "source": [
    "class ControlledQProgram(QuantumProgram):\n",
    "    defalut_num_qubits = 3\n",
    "\n",
    "    def program(self):\n",
    "        q1, q2, q3 = self.get_qubit_indices(3)\n",
    "        self.apply(instr.INSTR_H, q1)\n",
    "        self.apply(instr.INSTR_MEASURE, q1, output_key='m1')\n",
    "        yield self.run()\n",
    "        # depending on outcome on q1 either flip q2 or q3\n",
    "        if self.output['m1'][0] == 0:\n",
    "            self.apply(instr.INSTR_X, q2)\n",
    "        else:\n",
    "            self.apply(instr.INSTR_X, q3)\n",
    "        self.apply(instr.INSTR_MEASURE, q2, output_key='m2')\n",
    "        self.apply(instr.INSTR_MEASURE, q3, output_key='m3')\n",
    "        yield self.run(parallel=False)\n"
   ]
  },
  {
   "cell_type": "markdown",
   "metadata": {},
   "source": [
    "## Local teleportation example using programs"
   ]
  },
  {
   "cell_type": "code",
   "execution_count": 37,
   "metadata": {},
   "outputs": [],
   "source": [
    "noisy_qproc.reset()\n",
    "ns.sim_reset()\n",
    "ns.set_qstate_formalism(ns.QFormalism.DM)\n",
    "\n",
    "class TeleportationProgram(QuantumProgram):\n",
    "    default_num_qubits = 3\n",
    "\n",
    "    def program(self):\n",
    "        q0, q1, q2 = self.get_qubit_indices(3)\n",
    "        # entangle q1 and q2\n",
    "        self.apply(instr.INSTR_INIT, [q0, q1, q2])\n",
    "        self.apply(instr.INSTR_H, q2)\n",
    "        self.apply(instr.INSTR_CNOT, [q2, q1])\n",
    "        # set q0 to the desired state to be teleported\n",
    "        self.apply(instr.INSTR_H, q0)\n",
    "        self.apply(instr.INSTR_S, q0)\n",
    "        # bell measurement\n",
    "        self.apply(instr.INSTR_CNOT, [q0, q1])\n",
    "        self.apply(instr.INSTR_H, q0)\n",
    "        self.apply(instr.INSTR_MEASURE, q0, output_key='M1')\n",
    "        self.apply(instr.INSTR_MEASURE, q1, output_key='M2')\n",
    "        yield self.run()\n",
    "        # do corrections\n",
    "        if self.output['M2'][0] == 1:\n",
    "            self.apply(instr.INSTR_X, q2)\n",
    "        if self.output['M1'][0] == 1:\n",
    "            self.apply(instr.INSTR_Z, q2)\n",
    "        yield self.run()"
   ]
  },
  {
   "cell_type": "code",
   "execution_count": 38,
   "metadata": {},
   "outputs": [
    {
     "name": "stdout",
     "output_type": "stream",
     "text": [
      "0.922\n"
     ]
    }
   ],
   "source": [
    "noisy_qproc.execute_program(TeleportationProgram())\n",
    "ns.sim_run()\n",
    "qubit = noisy_qproc.pop(2)\n",
    "fidelity = ns.qubits.fidelity(qubit, ns.qubits.outerprod((ns.S*ns.H*ns.s0).arr), squared=True)\n",
    "print(f'{fidelity:.3f}')"
   ]
  },
  {
   "cell_type": "code",
   "execution_count": null,
   "metadata": {},
   "outputs": [],
   "source": []
  }
 ],
 "metadata": {
  "kernelspec": {
   "display_name": "Python 3",
   "language": "python",
   "name": "python3"
  },
  "language_info": {
   "codemirror_mode": {
    "name": "ipython",
    "version": 3
   },
   "file_extension": ".py",
   "mimetype": "text/x-python",
   "name": "python",
   "nbconvert_exporter": "python",
   "pygments_lexer": "ipython3",
   "version": "3.8.5"
  }
 },
 "nbformat": 4,
 "nbformat_minor": 4
}
