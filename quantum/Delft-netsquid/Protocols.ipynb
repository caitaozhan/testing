{
 "cells": [
  {
   "cell_type": "markdown",
   "metadata": {},
   "source": [
    "# Protocols\n",
    "https://docs.netsquid.org/latest-release/tutorial.protocols.html"
   ]
  },
  {
   "cell_type": "code",
   "execution_count": 2,
   "metadata": {},
   "outputs": [
    {
     "name": "stdout",
     "output_type": "stream",
     "text": [
      "starting protocol as 0.0\n"
     ]
    },
    {
     "data": {
      "text/plain": [
       "WaitProtocol('WaitProtocol')"
      ]
     },
     "execution_count": 2,
     "metadata": {},
     "output_type": "execute_result"
    }
   ],
   "source": [
    "import netsquid as ns\n",
    "from netsquid.protocols import Protocol\n",
    "\n",
    "class WaitProtocol(Protocol):\n",
    "    def run(self):\n",
    "        print(f'starting protocol as {ns.sim_time()}')\n",
    "        yield self.await_timer(100)\n",
    "        print(f'ending protocol at {ns.sim_time()}')\n",
    "\n",
    "ns.sim_reset()\n",
    "protocol = WaitProtocol()\n",
    "protocol.start()"
   ]
  },
  {
   "cell_type": "code",
   "execution_count": 3,
   "metadata": {},
   "outputs": [
    {
     "name": "stdout",
     "output_type": "stream",
     "text": [
      "ending protocol at 100.0\n"
     ]
    }
   ],
   "source": [
    "stats = ns.sim_run()"
   ]
  },
  {
   "cell_type": "markdown",
   "metadata": {},
   "source": [
    "## The ping pong example using protocols"
   ]
  },
  {
   "cell_type": "code",
   "execution_count": 4,
   "metadata": {},
   "outputs": [],
   "source": [
    "from netsquid.protocols import NodeProtocol\n",
    "from netsquid.components import QuantumChannel\n",
    "from netsquid.nodes import Node, DirectConnection\n",
    "from netsquid.qubits import qubitapi as qapi"
   ]
  },
  {
   "cell_type": "code",
   "execution_count": 5,
   "metadata": {},
   "outputs": [],
   "source": [
    "class PingProtocol(NodeProtocol):\n",
    "    def run(self):\n",
    "        print(f'Starting ping at t={ns.sim_time()}')\n",
    "        port = self.node.ports['port_to_channel']\n",
    "        qubit, = qapi.create_qubits(1)\n",
    "        port.tx_output(qubit)   # send qubit to pong\n",
    "        while True:\n",
    "            # wait for qubit to be received back\n",
    "            yield self.await_port_input(port)\n",
    "            qubit = port.rx_input().items[0]\n",
    "            m, prob = qapi.measure(qubit, ns.Z)\n",
    "            labels_z = ('|0>', '|1>')\n",
    "            print(f'{ns.sim_time()}: pong event! {self.node.name} measured {labels_z[m]} with probability {prob:.2f}')\n",
    "            port.tx_output(qubit)   # send qubit to B"
   ]
  },
  {
   "cell_type": "code",
   "execution_count": 6,
   "metadata": {},
   "outputs": [],
   "source": [
    "class PongProtocol(NodeProtocol):\n",
    "    def run(self):\n",
    "        print('starting pong at t={}'.format(ns.sim_time()))\n",
    "        port = self.node.ports['port_to_channel']\n",
    "        while True:\n",
    "            yield self.await_port_input(port)\n",
    "            qubit = port.rx_input().items[0]\n",
    "            m, prob = qapi.measure(qubit, ns.X)\n",
    "            labels_x = ('|+>', '|->')\n",
    "            print(f'{ns.sim_time()}: ping event! {self.node.name} measured {labels_x[m]} with probability {prob:.2f}')\n",
    "            port.tx_output(qubit)"
   ]
  },
  {
   "cell_type": "code",
   "execution_count": 18,
   "metadata": {},
   "outputs": [],
   "source": [
    "ns.sim_reset()\n",
    "ns.set_random_state(seed=42)\n",
    "node_ping = Node('Ping', port_names=['port_to_channel'])\n",
    "node_pong = Node('Pong', port_names=['port_to_channel'])\n",
    "connection = DirectConnection('Connection', QuantumChannel('Channel_LR', delay=10), QuantumChannel('Channel_RL', delay=10))\n",
    "node_ping.ports['port_to_channel'].connect(connection.ports['A'])\n",
    "node_pong.ports['port_to_channel'].connect(connection.ports['B'])\n",
    "ping_protocol = PingProtocol(node_ping)\n",
    "pong_protocol = PongProtocol(node_pong)"
   ]
  },
  {
   "cell_type": "code",
   "execution_count": 19,
   "metadata": {},
   "outputs": [
    {
     "name": "stdout",
     "output_type": "stream",
     "text": [
      "Starting ping at t=0.0\n"
     ]
    },
    {
     "data": {
      "text/plain": [
       "PingProtocol(Node(name='Ping'), 'PingProtocol')"
      ]
     },
     "execution_count": 19,
     "metadata": {},
     "output_type": "execute_result"
    }
   ],
   "source": [
    "ping_protocol.start()"
   ]
  },
  {
   "cell_type": "code",
   "execution_count": 20,
   "metadata": {},
   "outputs": [
    {
     "name": "stdout",
     "output_type": "stream",
     "text": [
      "starting pong at t=0.0\n"
     ]
    },
    {
     "data": {
      "text/plain": [
       "PongProtocol(Node(name='Pong'), 'PongProtocol')"
      ]
     },
     "execution_count": 20,
     "metadata": {},
     "output_type": "execute_result"
    }
   ],
   "source": [
    "pong_protocol.start()"
   ]
  },
  {
   "cell_type": "code",
   "execution_count": 21,
   "metadata": {},
   "outputs": [
    {
     "name": "stdout",
     "output_type": "stream",
     "text": [
      "10.0: ping event! Pong measured |+> with probability 0.50\n",
      "20.0: pong event! Ping measured |1> with probability 0.50\n",
      "30.0: ping event! Pong measured |-> with probability 0.50\n",
      "40.0: pong event! Ping measured |1> with probability 0.50\n",
      "50.0: ping event! Pong measured |+> with probability 0.50\n",
      "60.0: pong event! Ping measured |0> with probability 0.50\n",
      "70.0: ping event! Pong measured |+> with probability 0.50\n",
      "80.0: pong event! Ping measured |1> with probability 0.50\n",
      "90.0: ping event! Pong measured |-> with probability 0.50\n"
     ]
    }
   ],
   "source": [
    "stats = ns.sim_run(91)"
   ]
  },
  {
   "cell_type": "code",
   "execution_count": 22,
   "metadata": {},
   "outputs": [
    {
     "name": "stdout",
     "output_type": "stream",
     "text": [
      "\n",
      "Simulation summary\n",
      "==================\n",
      "\n",
      "Elapsed wallclock time: 0:00:00.001827\n",
      "Elapsed simulation time: 9.10e+01 [ns]\n",
      "Triggered events: 18\n",
      "Handled callbacks: 18\n",
      "Total quantum operations: 9\n",
      "Frequent quantum operations: MEASURE = 9\n",
      "Max qstate size: 1 qubits\n",
      "Mean qstate size: 1.00 qubits\n",
      "\n"
     ]
    }
   ],
   "source": [
    "print(stats)"
   ]
  },
  {
   "cell_type": "code",
   "execution_count": 23,
   "metadata": {},
   "outputs": [
    {
     "name": "stdout",
     "output_type": "stream",
     "text": [
      "100.0: pong event! Ping measured |1> with probability 0.50\n"
     ]
    }
   ],
   "source": [
    "pong_protocol.stop()\n",
    "stats = ns.sim_run()"
   ]
  },
  {
   "cell_type": "code",
   "execution_count": 24,
   "metadata": {},
   "outputs": [
    {
     "name": "stdout",
     "output_type": "stream",
     "text": [
      "starting pong at t=110.0\n"
     ]
    },
    {
     "data": {
      "text/plain": [
       "PongProtocol(Node(name='Pong'), 'PongProtocol')"
      ]
     },
     "execution_count": 24,
     "metadata": {},
     "output_type": "execute_result"
    }
   ],
   "source": [
    "pong_protocol.start()"
   ]
  },
  {
   "cell_type": "code",
   "execution_count": 25,
   "metadata": {},
   "outputs": [
    {
     "name": "stdout",
     "output_type": "stream",
     "text": [
      "Starting ping at t=110.0\n"
     ]
    }
   ],
   "source": [
    "ping_protocol.reset()"
   ]
  },
  {
   "cell_type": "code",
   "execution_count": 26,
   "metadata": {},
   "outputs": [
    {
     "name": "stdout",
     "output_type": "stream",
     "text": [
      "120.0: ping event! Pong measured |+> with probability 0.50\n",
      "130.0: pong event! Ping measured |1> with probability 0.50\n",
      "140.0: ping event! Pong measured |-> with probability 0.50\n",
      "150.0: pong event! Ping measured |0> with probability 0.50\n",
      "160.0: ping event! Pong measured |+> with probability 0.50\n"
     ]
    }
   ],
   "source": [
    "stats = ns.sim_run(duration=51)"
   ]
  },
  {
   "cell_type": "markdown",
   "metadata": {},
   "source": [
    "## The teleportation example using protocols"
   ]
  },
  {
   "cell_type": "code",
   "execution_count": 27,
   "metadata": {},
   "outputs": [],
   "source": [
    "from netsquid.protocols import NodeProtocol, Signals\n",
    "\n",
    "class InitStateProtocol(NodeProtocol):\n",
    "    def run(self):\n",
    "        qubit, = qapi.create_qubits(1)\n",
    "        mem_pos = self.node.qmemory.unused_positions[0]\n",
    "        self.node.qmemory.put(qubit, mem_pos)\n",
    "        self.node.qmemory.operate(ns.H, mem_pos)\n",
    "        self.node.qmemory.operate(ns.S, mem_pos)\n",
    "        self.send_signal(signal_label=Signals.SUCCESS, result=mem_pos)"
   ]
  },
  {
   "cell_type": "code",
   "execution_count": 28,
   "metadata": {},
   "outputs": [],
   "source": [
    "from pydynaa import EventExpression"
   ]
  },
  {
   "cell_type": "code",
   "execution_count": 30,
   "metadata": {},
   "outputs": [],
   "source": [
    "class BellMeasurementProtocol(NodeProtocol):\n",
    "    def __init__(self, node, qubit_protocol):\n",
    "        super().__init__(node)\n",
    "        self.add_subprotocol(qubit_protocol, 'qprotocol')\n",
    "\n",
    "    def run(self):\n",
    "        qubit_initialised = False\n",
    "        entanglement_ready = False\n",
    "        while True:\n",
    "            evexpr_signal = self.await_signal(sender=self.subprotocols['qprotocol'], signal_label=Signals.SUCCESS)\n",
    "            evexpr_port = self.await_port_input(self.node.ports['qin_charlie'])\n",
    "            expression = yield evexpr_signal | evexpr_port\n",
    "            if expression.first_term.value:\n",
    "                # first expression was triggered\n",
    "                qubit_initialised = True\n",
    "            else:\n",
    "                # second expression was triggered\n",
    "                entanglement_ready = True\n",
    "            if qubit_initialised and entanglement_ready:\n",
    "                # perform bell measurement\n",
    "                self.node.qmemory.operate(ns.CNOT, [0, 1])\n",
    "                self.node.qmemory.operate(ns.H, 0)\n",
    "                m, _ = self.node.qmemory.measure([0, 1])\n",
    "                # send measurement results to bob\n",
    "                self.node.ports['cout_bob'].tx_output(m)\n",
    "                self.send_signal(Signals.SUCCESS)\n",
    "                print(f'{ns.sim_time():.1f} Alice received entangled qubit, measured qubits & sending corrections')\n",
    "                break\n",
    "\n",
    "    def start(self):\n",
    "        super().start()\n",
    "        self.start_subprotocols()"
   ]
  },
  {
   "cell_type": "code",
   "execution_count": 31,
   "metadata": {},
   "outputs": [],
   "source": [
    "class CorrectionProtocol(NodeProtocol):\n",
    "    def __init__(self, node):\n",
    "        super().__init__(node)\n",
    "\n",
    "    def run(self):\n",
    "        port_alice = self.node.ports['cin_alice']\n",
    "        port_charlie = self.node.ports['qin_charlie']\n",
    "        entanglement_ready = False\n",
    "        meas_results = None\n",
    "        while True:\n",
    "            evexpr_port_a = self.await_port_input(port_alice)\n",
    "            evexpr_port_c = self.await_port_input(port_charlie)\n",
    "            expression = yield evexpr_port_a | evexpr_port_c\n",
    "            if expression.first_term.value:\n",
    "                meas_results = port_alice.rx_input().items\n",
    "            else:\n",
    "                entanglement_ready = True\n",
    "            if meas_results is not None and entanglement_ready:\n",
    "                if meas_results[0]:\n",
    "                    self.node.qmemory.operate(ns.Z, 0)\n",
    "                if meas_results[1]:\n",
    "                    self.node.qmemory.operate(ns.X, 0)\n",
    "                self.send_signal(Signals.SUCCESS, 0)\n",
    "                fidelity = ns.qubits.fidelity(self.node.qmemory.peek(0)[0], ns.y0, squared=True)\n",
    "                print(f'{ns.sim_time():.1f}: Bob received entangled qubit and corrections! Fidelity = {fidelity:.3f}')\n",
    "                break"
   ]
  },
  {
   "cell_type": "code",
   "execution_count": 32,
   "metadata": {},
   "outputs": [
    {
     "name": "stdout",
     "output_type": "stream",
     "text": [
      "10.0 Alice received entangled qubit, measured qubits & sending corrections\n",
      "30.0: Bob received entangled qubit and corrections! Fidelity = 0.870\n"
     ]
    }
   ],
   "source": [
    "from netsquid.examples.teleportation import example_network_setup\n",
    "ns.sim_reset()\n",
    "ns.set_qstate_formalism(ns.QFormalism.DM)\n",
    "ns.set_random_state(seed=42)\n",
    "network = example_network_setup()\n",
    "alice = network.get_node('Alice')\n",
    "bob = network.get_node('Bob')\n",
    "random_state_protocol = InitStateProtocol(alice)\n",
    "bell_measure_protocol = BellMeasurementProtocol(alice, random_state_protocol)\n",
    "correction_protocol = CorrectionProtocol(bob)\n",
    "bell_measure_protocol.start()\n",
    "correction_protocol.start()\n",
    "stats = ns.sim_run(100)"
   ]
  },
  {
   "cell_type": "code",
   "execution_count": null,
   "metadata": {},
   "outputs": [],
   "source": []
  }
 ],
 "metadata": {
  "kernelspec": {
   "display_name": "Python 3",
   "language": "python",
   "name": "python3"
  },
  "language_info": {
   "codemirror_mode": {
    "name": "ipython",
    "version": 3
   },
   "file_extension": ".py",
   "mimetype": "text/x-python",
   "name": "python",
   "nbconvert_exporter": "python",
   "pygments_lexer": "ipython3",
   "version": "3.8.5"
  }
 },
 "nbformat": 4,
 "nbformat_minor": 4
}
