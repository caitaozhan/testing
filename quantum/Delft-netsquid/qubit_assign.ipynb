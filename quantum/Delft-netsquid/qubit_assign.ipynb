{
 "cells": [
  {
   "cell_type": "code",
   "execution_count": 13,
   "id": "f09acaaf-95ce-4ace-9aa3-f27eab0e9bf5",
   "metadata": {
    "tags": []
   },
   "outputs": [],
   "source": [
    "import netsquid as ns\n",
    "from netsquid.qubits import set_qstate_formalism, QFormalism, create_qubits, assign_qstate"
   ]
  },
  {
   "cell_type": "code",
   "execution_count": 17,
   "id": "946ea2a4-7862-4cf3-a95c-de9d27b5925e",
   "metadata": {
    "tags": []
   },
   "outputs": [
    {
     "name": "stdout",
     "output_type": "stream",
     "text": [
      "KetRepr(num_qubits=1,\n",
      "ket=\n",
      "[[1.+0.j]\n",
      " [0.+0.j]])\n",
      "KetRepr(num_qubits=1,\n",
      "ket=\n",
      "[[1.+0.j]\n",
      " [0.+0.j]])\n"
     ]
    }
   ],
   "source": [
    "set_qstate_formalism(QFormalism.KET)\n",
    "q1, q2 = create_qubits(2)\n",
    "print(q1.qstate.qrepr)\n",
    "print(q2.qstate.qrepr)"
   ]
  },
  {
   "cell_type": "code",
   "execution_count": 18,
   "id": "136a86af-4ea1-4ec7-bdf6-f68ed9b04cc2",
   "metadata": {
    "tags": []
   },
   "outputs": [
    {
     "data": {
      "text/plain": [
       "QState([Qubit('QS#9-0'), Qubit('QS#9-1')])"
      ]
     },
     "execution_count": 18,
     "metadata": {},
     "output_type": "execute_result"
    }
   ],
   "source": [
    "assign_qstate([q1, q2], ns.b00)"
   ]
  },
  {
   "cell_type": "code",
   "execution_count": 19,
   "id": "e8b7f58e-b7e5-4ae8-92e8-f9a49178777e",
   "metadata": {
    "tags": []
   },
   "outputs": [
    {
     "name": "stdout",
     "output_type": "stream",
     "text": [
      "KetRepr(num_qubits=2,\n",
      "ket=\n",
      "[[0.70710678+0.j]\n",
      " [0.        +0.j]\n",
      " [0.        +0.j]\n",
      " [0.70710678+0.j]])\n"
     ]
    }
   ],
   "source": [
    "print(q1.qstate.qrepr)"
   ]
  },
  {
   "cell_type": "code",
   "execution_count": 20,
   "id": "79f3bc94-66dc-47a8-b6f4-da9e31e4d423",
   "metadata": {
    "tags": []
   },
   "outputs": [
    {
     "name": "stdout",
     "output_type": "stream",
     "text": [
      "KetRepr(num_qubits=2,\n",
      "ket=\n",
      "[[0.70710678+0.j]\n",
      " [0.        +0.j]\n",
      " [0.        +0.j]\n",
      " [0.70710678+0.j]])\n"
     ]
    }
   ],
   "source": [
    "print(q2.qstate.qrepr)"
   ]
  },
  {
   "cell_type": "code",
   "execution_count": null,
   "id": "e461cff7-3cc5-4265-a17c-2cfc0e0f5c8c",
   "metadata": {},
   "outputs": [],
   "source": []
  }
 ],
 "metadata": {
  "kernelspec": {
   "display_name": "Python 3 (ipykernel)",
   "language": "python",
   "name": "python3"
  },
  "language_info": {
   "codemirror_mode": {
    "name": "ipython",
    "version": 3
   },
   "file_extension": ".py",
   "mimetype": "text/x-python",
   "name": "python",
   "nbconvert_exporter": "python",
   "pygments_lexer": "ipython3",
   "version": "3.9.18"
  }
 },
 "nbformat": 4,
 "nbformat_minor": 5
}
