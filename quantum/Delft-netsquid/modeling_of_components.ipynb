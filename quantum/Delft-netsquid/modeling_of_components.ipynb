{
 "cells": [
  {
   "cell_type": "markdown",
   "metadata": {},
   "source": [
    "# Modelling of network components\n",
    "https://docs.netsquid.org/latest-release/tutorial.components.html"
   ]
  },
  {
   "cell_type": "markdown",
   "metadata": {},
   "source": [
    "## Channels"
   ]
  },
  {
   "cell_type": "code",
   "execution_count": 3,
   "metadata": {},
   "outputs": [],
   "source": [
    "import netsquid as ns\n",
    "from netsquid.components import Channel, QuantumChannel\n",
    "channel = Channel(name='MyChannel')"
   ]
  },
  {
   "cell_type": "code",
   "execution_count": 4,
   "metadata": {},
   "outputs": [
    {
     "data": {
      "text/plain": [
       "SimStats()"
      ]
     },
     "execution_count": 4,
     "metadata": {},
     "output_type": "execute_result"
    }
   ],
   "source": [
    "channel.send('hello world')\n",
    "ns.sim_run()"
   ]
  },
  {
   "cell_type": "code",
   "execution_count": 5,
   "metadata": {},
   "outputs": [
    {
     "name": "stdout",
     "output_type": "stream",
     "text": [
      "['hello world']\n",
      "0.0\n"
     ]
    }
   ],
   "source": [
    "items, delay = channel.receive()\n",
    "print(items)\n",
    "print(delay)"
   ]
  },
  {
   "cell_type": "code",
   "execution_count": 6,
   "metadata": {},
   "outputs": [],
   "source": [
    "from netsquid.components.models.delaymodels import FixedDelayModel\n",
    "fixed_delaymodel = FixedDelayModel(delay=10)"
   ]
  },
  {
   "cell_type": "code",
   "execution_count": 8,
   "metadata": {},
   "outputs": [
    {
     "data": {
      "text/plain": [
       "(['hello world'], 10.0)"
      ]
     },
     "execution_count": 8,
     "metadata": {},
     "output_type": "execute_result"
    }
   ],
   "source": [
    "channel.models['delay_model'] = fixed_delaymodel\n",
    "channel.send('hello world')\n",
    "ns.sim_run()\n",
    "channel.receive()"
   ]
  },
  {
   "cell_type": "code",
   "execution_count": 9,
   "metadata": {},
   "outputs": [],
   "source": [
    "from netsquid.components.models.delaymodels import GaussianDelayModel\n",
    "gaussian_delaymodel = GaussianDelayModel(delay_mean=5, delay_std=0.1)"
   ]
  },
  {
   "cell_type": "code",
   "execution_count": 10,
   "metadata": {},
   "outputs": [
    {
     "data": {
      "text/plain": [
       "Channel(name='tutorialChannel')"
      ]
     },
     "execution_count": 10,
     "metadata": {},
     "output_type": "execute_result"
    }
   ],
   "source": [
    "Channel('tutorialChannel', length=10)"
   ]
  },
  {
   "cell_type": "code",
   "execution_count": 11,
   "metadata": {},
   "outputs": [
    {
     "name": "stdout",
     "output_type": "stream",
     "text": [
      "speed of  light in fibre: 200000.0 [km/s]\n"
     ]
    },
    {
     "data": {
      "text/plain": [
       "['length']"
      ]
     },
     "execution_count": 11,
     "metadata": {},
     "output_type": "execute_result"
    }
   ],
   "source": [
    "from netsquid.components.models.delaymodels import FibreDelayModel\n",
    "delay_model = FibreDelayModel()\n",
    "print(f\"speed of  light in fibre: {delay_model.properties['c']:.1f} [km/s]\")\n",
    "delay_model.required_properties"
   ]
  },
  {
   "cell_type": "code",
   "execution_count": 13,
   "metadata": {},
   "outputs": [],
   "source": [
    "from netsquid.components.models.qerrormodels import FibreLossModel\n",
    "from netsquid.components.qchannel import QuantumChannel\n",
    "loss_model = FibreLossModel(p_loss_init=0.83, p_loss_length=0.2)\n",
    "qchannel = QuantumChannel('MyQChannel',  length=20, models={'quantum_loss_model': loss_model})"
   ]
  },
  {
   "cell_type": "markdown",
   "metadata": {},
   "source": [
    "## Quantum memory"
   ]
  },
  {
   "cell_type": "code",
   "execution_count": 15,
   "metadata": {},
   "outputs": [],
   "source": [
    "from netsquid.components import QuantumMemory\n",
    "qmem = QuantumMemory(name='MyMemory', num_positions=1)"
   ]
  },
  {
   "cell_type": "code",
   "execution_count": 16,
   "metadata": {},
   "outputs": [],
   "source": [
    "from netsquid.components.models.qerrormodels import DepolarNoiseModel\n",
    "depolar_noise = DepolarNoiseModel(depolar_rate=1e6)"
   ]
  },
  {
   "cell_type": "code",
   "execution_count": 17,
   "metadata": {},
   "outputs": [],
   "source": [
    "qmem = QuantumMemory('DepolarMemory', num_positions=2, memory_noise_models=[depolar_noise, depolar_noise])"
   ]
  },
  {
   "cell_type": "code",
   "execution_count": 18,
   "metadata": {},
   "outputs": [
    {
     "data": {
      "text/plain": [
       "[Qubit('QS#0-0')]"
      ]
     },
     "execution_count": 18,
     "metadata": {},
     "output_type": "execute_result"
    }
   ],
   "source": [
    "from netsquid.qubits.qubitapi import create_qubits\n",
    "qubits = create_qubits(1)\n",
    "qmem.put(qubits)\n",
    "qmem.peek(0)"
   ]
  },
  {
   "cell_type": "code",
   "execution_count": 19,
   "metadata": {},
   "outputs": [
    {
     "data": {
      "text/plain": [
       "[Qubit('QS#0-0')]"
      ]
     },
     "execution_count": 19,
     "metadata": {},
     "output_type": "execute_result"
    }
   ],
   "source": [
    "qmem.pop(positions=0)"
   ]
  },
  {
   "cell_type": "code",
   "execution_count": 20,
   "metadata": {},
   "outputs": [
    {
     "data": {
      "text/plain": [
       "[None]"
      ]
     },
     "execution_count": 20,
     "metadata": {},
     "output_type": "execute_result"
    }
   ],
   "source": [
    "qmem.peek(0)"
   ]
  },
  {
   "cell_type": "code",
   "execution_count": 51,
   "metadata": {},
   "outputs": [],
   "source": [
    "import netsquid.qubits.operators as ops\n",
    "qmem.put(qubits)\n",
    "qmem.operate(ops.X, positions=[0])"
   ]
  },
  {
   "cell_type": "code",
   "execution_count": 54,
   "metadata": {},
   "outputs": [
    {
     "data": {
      "text/plain": [
       "([0], [1.0])"
      ]
     },
     "execution_count": 54,
     "metadata": {},
     "output_type": "execute_result"
    }
   ],
   "source": [
    "qmem.measure(positions=[0])"
   ]
  },
  {
   "cell_type": "code",
   "execution_count": 55,
   "metadata": {},
   "outputs": [
    {
     "data": {
      "text/plain": [
       "([1], [0.4999999999999998])"
      ]
     },
     "execution_count": 55,
     "metadata": {},
     "output_type": "execute_result"
    }
   ],
   "source": [
    "qmem.measure(positions=[0], observable=ops.X)"
   ]
  },
  {
   "cell_type": "markdown",
   "metadata": {},
   "source": [
    "## Ports"
   ]
  },
  {
   "cell_type": "code",
   "execution_count": 56,
   "metadata": {},
   "outputs": [
    {
     "data": {
      "text/plain": [
       "Message(items=['hello'], header=None, ch_delta_time=3.0)"
      ]
     },
     "execution_count": 56,
     "metadata": {},
     "output_type": "execute_result"
    }
   ],
   "source": [
    "channel = Channel('tutorialChannel', delay=3)\n",
    "channel.ports['send'].tx_input('hello')\n",
    "ns.sim_run()\n",
    "channel.ports['recv'].rx_output()"
   ]
  },
  {
   "cell_type": "code",
   "execution_count": 57,
   "metadata": {},
   "outputs": [],
   "source": [
    "channel.ports['recv'].connect(qmem.ports['qin0'])"
   ]
  },
  {
   "cell_type": "code",
   "execution_count": 58,
   "metadata": {},
   "outputs": [
    {
     "name": "stdout",
     "output_type": "stream",
     "text": [
      "Qubit('QS#1-0')\n"
     ]
    }
   ],
   "source": [
    "qubit, = create_qubits(1)\n",
    "print(qubit)"
   ]
  },
  {
   "cell_type": "code",
   "execution_count": 59,
   "metadata": {},
   "outputs": [
    {
     "data": {
      "text/plain": [
       "SimStats()"
      ]
     },
     "execution_count": 59,
     "metadata": {},
     "output_type": "execute_result"
    }
   ],
   "source": [
    "channel.send(qubit)\n",
    "ns.sim_run()"
   ]
  },
  {
   "cell_type": "code",
   "execution_count": 60,
   "metadata": {},
   "outputs": [
    {
     "data": {
      "text/plain": [
       "[Qubit('QS#1-0')]"
      ]
     },
     "execution_count": 60,
     "metadata": {},
     "output_type": "execute_result"
    }
   ],
   "source": [
    "qmem.peek(0)"
   ]
  },
  {
   "cell_type": "markdown",
   "metadata": {},
   "source": [
    "## Ping pong using compoments and ports"
   ]
  },
  {
   "cell_type": "code",
   "execution_count": 62,
   "metadata": {},
   "outputs": [],
   "source": [
    "from netsquid.components.component import Port\n",
    "import pydynaa"
   ]
  },
  {
   "cell_type": "code",
   "execution_count": 69,
   "metadata": {},
   "outputs": [],
   "source": [
    "class PingEntity(pydynaa.Entity):\n",
    "    length = 2e-3   # channel length (km)\n",
    "\n",
    "    def __init__(self):\n",
    "        # create a memory and a quantum channel\n",
    "        self.qmemory = QuantumMemory('PingMemory', num_positions=1)\n",
    "        self.qchannel = QuantumChannel('PingChannel', length=self.length, models={'delay_model': FibreDelayModel()})\n",
    "        # link output from qmemory (pop) to input of ping channel\n",
    "        self.qmemory.ports['qout'].connect(self.qchannel.ports['send'])\n",
    "        # setup callback function to handle input on quantum memory port 'qin0'\n",
    "        self._wait(pydynaa.EventHandler(self._handle_input_qubit), entity=self.qmemory.ports['qin0'], event_type=Port.evtype_input)\n",
    "        self.qmemory.ports['qin0'].notify_all_input = True\n",
    "\n",
    "    def start(self, qubit):\n",
    "        # start the game by having ping player send the first qubit (ping)\n",
    "        self.qchannel.send(qubit)\n",
    "\n",
    "    def wait_for_pong(self, other_entity):\n",
    "        # setup this entity to pass incoming qubits to its quantum memory\n",
    "        self.qmemory.ports['qin0'].connect(other_entity.qchannel.ports['recv'])\n",
    "\n",
    "    def _handle_input_qubit(self, event):\n",
    "        # callback function challed by the pong handler when pong event is triggered\n",
    "        [m], [prob] = self.qmemory.measure(positions=[0], observable=ns.Z)\n",
    "        labels_z = ('|0>', '|1>')\n",
    "        print(f'{ns.sim_time():.1f}: Pong event! PingEntity measured {labels_z[m]} with probability {prob:.2f}')\n",
    "        self.qmemory.pop(positions=[0])\n",
    "\n",
    "\n",
    "class PongEntity(pydynaa.Entity):\n",
    "    length = 2e-3\n",
    "\n",
    "    def __init__(self):\n",
    "        # create a memory and a quantum channel\n",
    "        self.qmemory = QuantumMemory('PongMemory', num_positions=1)\n",
    "        self.qchannel = QuantumChannel('PingChannel', length=self.length, models={'delay_model': FibreDelayModel()})\n",
    "        # link output from qmemory (pop) to input of ping channel\n",
    "        self.qmemory.ports['qout'].connect(self.qchannel.ports['send'])\n",
    "        # setup callback function to handle input on quantum memory:\n",
    "        self._wait(pydynaa.EventHandler(self._handle_input_qubit), entity=self.qmemory.ports['qin0'], event_type=Port.evtype_input)\n",
    "        self.qmemory.ports['qin0'].notify_all_input = True\n",
    "\n",
    "    def wait_for_ping(self, other_entity):\n",
    "        # setup this entity to pass incoming qubits to its quantum memory\n",
    "        self.qmemory.ports['qin0'].connect(other_entity.qchannel.ports['recv'])\n",
    "\n",
    "    def _handle_input_qubit(self, event):\n",
    "        # callback function called by the pong handler when pong event is triggered\n",
    "        [m], [prob] = self.qmemory.measure(positions=[0], observable=ns.X)\n",
    "        labels_x = ('|+>', '|->')\n",
    "        print(f'{ns.sim_time():.1f}: Ping event! PongEntity measured {labels_x[m]} with probability {prob:.2f}')\n",
    "        self.qmemory.pop(positions=[0])\n"
   ]
  },
  {
   "cell_type": "code",
   "execution_count": 70,
   "metadata": {},
   "outputs": [],
   "source": [
    "# create entities and register them to each other\n",
    "ns.sim_reset()\n",
    "ping = PingEntity()\n",
    "pong = PongEntity()\n",
    "ping.wait_for_pong(pong)\n",
    "pong.wait_for_ping(ping)\n",
    "# create a qubit and instruct the ping entity to start\n",
    "qubit, = ns.qubits.create_qubits(1)\n",
    "ping.start(qubit)"
   ]
  },
  {
   "cell_type": "code",
   "execution_count": 71,
   "metadata": {},
   "outputs": [
    {
     "name": "stdout",
     "output_type": "stream",
     "text": [
      "10.0: Ping event! PongEntity measured |+> with probability 0.50\n",
      "20.0: Pong event! PingEntity measured |1> with probability 0.50\n",
      "30.0: Ping event! PongEntity measured |-> with probability 0.50\n",
      "40.0: Pong event! PingEntity measured |1> with probability 0.50\n",
      "50.0: Ping event! PongEntity measured |+> with probability 0.50\n",
      "60.0: Pong event! PingEntity measured |0> with probability 0.50\n",
      "70.0: Ping event! PongEntity measured |+> with probability 0.50\n",
      "80.0: Pong event! PingEntity measured |1> with probability 0.50\n",
      "90.0: Ping event! PongEntity measured |-> with probability 0.50\n"
     ]
    }
   ],
   "source": [
    "ns.set_random_state(seed=42)\n",
    "stats = ns.sim_run(91)"
   ]
  },
  {
   "cell_type": "markdown",
   "metadata": {},
   "source": [
    "## Quantum teleportation using components"
   ]
  },
  {
   "cell_type": "code",
   "execution_count": 203,
   "metadata": {},
   "outputs": [],
   "source": [
    "ns.set_qstate_formalism(ns.QFormalism.DM)\n",
    "ns.sim_reset()"
   ]
  },
  {
   "cell_type": "code",
   "execution_count": 204,
   "metadata": {},
   "outputs": [],
   "source": [
    "class Alice(pydynaa.Entity):\n",
    "    def __init__(self, teleport_state, cchannel_send_port):\n",
    "        self.teleport_state = teleport_state\n",
    "        self.cchannel_send_port = cchannel_send_port\n",
    "        self.qmemory = QuantumMemory('AliceMemory', num_positions=2)\n",
    "        self._wait(pydynaa.EventHandler(self._handle_input_qubit), entity=self.qmemory.ports['qin1'], event_type=Port.evtype_input)\n",
    "        self.qmemory.ports['qin1'].notify_all_input = True\n",
    "\n",
    "    def _handle_input_qubit(self, event):\n",
    "        # callback function that does teleportation and schedules a corrections ready event\n",
    "        q0, = ns.qubits.create_qubits(1, no_state=True)\n",
    "        ns.qubits.assign_qstate([q0], self.teleport_state)\n",
    "        self.qmemory.put([q0], positions=[0])\n",
    "        self.qmemory.operate(ns.CNOT, positions=[0, 1])\n",
    "        self.qmemory.operate(ns.H, positions=[0])\n",
    "        m0, m1 = self.qmemory.measure(positions=[0, 1], observable=ns.Z, discard=True)[0]\n",
    "        self.cchannel_send_port.tx_input([m0, m1])\n",
    "        print(f'{ns.sim_time():.1f}: Alice received entangled qubit, measured qubits & sending corrections')\n",
    "\n",
    "class Bob(pydynaa.Entity):\n",
    "    depolar_rate = 1e7   # depolarization rate of waiting qubits [Hz]\n",
    "    \n",
    "    def __init__(self, cchannel_recv_port):\n",
    "        noise_model = DepolarNoiseModel(depolar_rate = self.depolar_rate)\n",
    "        self.qmemory = QuantumMemory('BobMemory', num_positions=1, memory_noise_models=[noise_model])\n",
    "        cchannel_recv_port.bind_output_handler(self._handle_corrections)\n",
    "    \n",
    "    def _handle_corrections(self, message):\n",
    "        # callback function that handles messages from both alice and charlie\n",
    "        m0, m1 = message.items\n",
    "        if m1:\n",
    "            self.qmemory.operate(ns.X, positions=[0])\n",
    "        if m0:\n",
    "            self.qmemory.operate(ns.Z, positions=[0])\n",
    "        qubit = self.qmemory.pop(positions=[0])\n",
    "        fidelity = ns.qubits.fidelity(qubit, ns.y0, squared=True)\n",
    "        print(f'{ns.sim_time():.1f} bob received entangled qubit and corrections! Fidelity = {fidelity:.3f}')"
   ]
  },
  {
   "cell_type": "code",
   "execution_count": 205,
   "metadata": {},
   "outputs": [],
   "source": [
    "from netsquid.qubits.state_sampler import StateSampler\n",
    "import netsquid.qubits.ketstates as ks\n",
    "state_sampler = StateSampler([ks.b00], [1.0])\n",
    "\n",
    "from netsquid.components.qsource import QSource, SourceStatus\n",
    "charlie_source = QSource('Charlie', state_sampler, frequency=100, num_ports=2, \\\n",
    "                         timing_model=FixedDelayModel(delay=50), status=SourceStatus.INTERNAL)"
   ]
  },
  {
   "cell_type": "code",
   "execution_count": 206,
   "metadata": {},
   "outputs": [],
   "source": [
    "def setup_network(alice, bob, qsource, length=4e-3):\n",
    "    qchannel_c2a = QuantumChannel('Charlie->Alice', length=length/2, models={'delay_model':FibreDelayModel()})\n",
    "    qchannel_c2b = QuantumChannel('Charlie->Bob', length=length/2, models={'delay_model': FibreDelayModel()})\n",
    "    qsource.ports['qout0'].connect(qchannel_c2a.ports['send'])\n",
    "    qsource.ports['qout1'].connect(qchannel_c2b.ports['send'])\n",
    "    alice.qmemory.ports['qin1'].connect(qchannel_c2a.ports['recv'])\n",
    "    bob.qmemory.ports['qin0'].connect(qchannel_c2b.ports['recv'])"
   ]
  },
  {
   "cell_type": "code",
   "execution_count": 207,
   "metadata": {},
   "outputs": [
    {
     "name": "stdout",
     "output_type": "stream",
     "text": [
      "10.0: Alice received entangled qubit, measured qubits & sending corrections\n",
      "30.0 bob received entangled qubit and corrections! Fidelity = 0.909\n",
      "60.0: Alice received entangled qubit, measured qubits & sending corrections\n",
      "80.0 bob received entangled qubit and corrections! Fidelity = 0.909\n"
     ]
    }
   ],
   "source": [
    "from netsquid.components import ClassicalChannel\n",
    "cchannel = ClassicalChannel('CChannel', length=4e-3, models={'delay_model': FibreDelayModel()})\n",
    "alice = Alice(teleport_state=ns.y0, cchannel_send_port=cchannel.ports['send'])\n",
    "bob = Bob(cchannel_recv_port=cchannel.ports['recv'])\n",
    "setup_network(alice, bob, charlie_source)\n",
    "\n",
    "stats = ns.sim_run(end_time=100)"
   ]
  }
 ],
 "metadata": {
  "kernelspec": {
   "display_name": "Python 3",
   "language": "python",
   "name": "python3"
  },
  "language_info": {
   "codemirror_mode": {
    "name": "ipython",
    "version": 3
   },
   "file_extension": ".py",
   "mimetype": "text/x-python",
   "name": "python",
   "nbconvert_exporter": "python",
   "pygments_lexer": "ipython3",
   "version": "3.8.5"
  }
 },
 "nbformat": 4,
 "nbformat_minor": 4
}
