{
 "cells": [
  {
   "cell_type": "code",
   "execution_count": 4,
   "metadata": {},
   "outputs": [],
   "source": [
    "import netsquid as ns\n",
    "from netsquid.components.qdetector import QuantumDetector\n",
    "from netsquid.components.component import Message\n",
    "from netsquid.examples.simple_link import create_meas_ops"
   ]
  },
  {
   "cell_type": "code",
   "execution_count": 6,
   "metadata": {},
   "outputs": [
    {
     "name": "stdout",
     "output_type": "stream",
     "text": [
      "Message(items=[0])\n"
     ]
    }
   ],
   "source": [
    "# create a single qubit detector\n",
    "\n",
    "ns.sim_reset()\n",
    "detector = QuantumDetector('single_detector')\n",
    "detector.ports['cout0'].bind_output_handler(lambda msg: print(msg))\n",
    "q1 = ns.qubits.create_qubits(1)\n",
    "detector.ports['qin0'].tx_input(Message(q1))\n",
    "stats = ns.sim_run()"
   ]
  },
  {
   "cell_type": "code",
   "execution_count": 42,
   "metadata": {},
   "outputs": [
    {
     "name": "stdout",
     "output_type": "stream",
     "text": [
      "Message(items=[0])\n"
     ]
    }
   ],
   "source": [
    "# create a single qubit detector with 5 ns dead time\n",
    "ns.sim_reset()\n",
    "detector = QuantumDetector('deadtime_detector', dead_time=5)\n",
    "detector.ports['cout0'].bind_output_handler(lambda msg: print(msg))\n",
    "q1, q2, q3 = ns.qubits.create_qubits(3)\n",
    "detector.ports['qin0'].tx_input(Message([q1]))\n",
    "stats = ns.sim_run(duration=4)\n",
    "detector.ports['qin0'].tx_input(Message([q2]))\n",
    "stats = ns.sim_run(end_time=6)"
   ]
  },
  {
   "cell_type": "code",
   "execution_count": 43,
   "metadata": {},
   "outputs": [
    {
     "name": "stdout",
     "output_type": "stream",
     "text": [
      "Message(items=[0])\n"
     ]
    },
    {
     "data": {
      "text/plain": [
       "11.0"
      ]
     },
     "execution_count": 43,
     "metadata": {},
     "output_type": "execute_result"
    }
   ],
   "source": [
    "detector.ports['qin0'].tx_input(Message([q3]))\n",
    "stats = ns.sim_run()\n",
    "ns.sim_time()"
   ]
  },
  {
   "cell_type": "code",
   "execution_count": 46,
   "metadata": {},
   "outputs": [
    {
     "name": "stdout",
     "output_type": "stream",
     "text": [
      "Message(items=[0, 0])\n"
     ]
    }
   ],
   "source": [
    "# 10 ns system delay, 15 ns dead time\n",
    "ns.sim_reset()\n",
    "detector = QuantumDetector('system_detector', system_delay=10,  dead_time=15)\n",
    "detector.ports['cout0'].bind_output_handler(lambda msg: print(msg))\n",
    "q1, q2, q3, q4 = ns.qubits.create_qubits(4)\n",
    "detector.ports['qin0'].tx_input(Message([q1]))\n",
    "stats = ns.sim_run(end_time=9)\n",
    "detector.ports['qin0'].tx_input(Message([q2]))\n",
    "stats = ns.sim_run(end_time=13)\n",
    "detector.ports['qin0'].tx_input(Message([q3]))\n",
    "stats = ns.sim_run(end_time=16)"
   ]
  },
  {
   "cell_type": "code",
   "execution_count": 47,
   "metadata": {},
   "outputs": [
    {
     "name": "stdout",
     "output_type": "stream",
     "text": [
      "Message(items=[0])\n"
     ]
    }
   ],
   "source": [
    "detector.ports['qin0'].tx_input(Message([q4]))\n",
    "stats = ns.sim_run()"
   ]
  },
  {
   "cell_type": "code",
   "execution_count": 48,
   "metadata": {},
   "outputs": [
    {
     "name": "stdout",
     "output_type": "stream",
     "text": [
      "Message(items=[2])\n"
     ]
    }
   ],
   "source": [
    "# bell measurement\n",
    "\n",
    "ns.sim_reset()\n",
    "ns.set_random_state(seed=44)\n",
    "detector = QuantumDetector('example_detector', num_input_ports=2, meas_operators=create_meas_ops())\n",
    "detector.ports['cout0'].bind_output_handler(lambda msg: print(msg))\n",
    "q1, q2 = ns.qubits.create_qubits(2)\n",
    "ns.qubits.operate(q1, ns.X)\n",
    "detector.ports['qin0'].tx_input(Message([q1]))\n",
    "detector.ports['qin1'].tx_input(Message([q2]))\n",
    "stats = ns.sim_run()"
   ]
  },
  {
   "cell_type": "code",
   "execution_count": null,
   "metadata": {},
   "outputs": [],
   "source": []
  }
 ],
 "metadata": {
  "kernelspec": {
   "display_name": "Python 3",
   "language": "python",
   "name": "python3"
  },
  "language_info": {
   "codemirror_mode": {
    "name": "ipython",
    "version": 3
   },
   "file_extension": ".py",
   "mimetype": "text/x-python",
   "name": "python",
   "nbconvert_exporter": "python",
   "pygments_lexer": "ipython3",
   "version": "3.8.5"
  }
 },
 "nbformat": 4,
 "nbformat_minor": 4
}
