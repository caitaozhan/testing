{
 "cells": [
  {
   "cell_type": "code",
   "execution_count": 6,
   "id": "38bb4192",
   "metadata": {},
   "outputs": [],
   "source": [
    "import torchquantum as tq\n",
    "import torchquantum.functional as tqf\n",
    "from torchquantum.plugins.qiskit_plugin import tq2qiskit\n",
    "import torch\n",
    "import numpy as np"
   ]
  },
  {
   "cell_type": "markdown",
   "id": "1e5dbf9c",
   "metadata": {},
   "source": [
    "# Basic Usage 1"
   ]
  },
  {
   "cell_type": "code",
   "execution_count": 7,
   "id": "6e4f5fe2",
   "metadata": {},
   "outputs": [
    {
     "name": "stdout",
     "output_type": "stream",
     "text": [
      "QuantumState 2 wires \n",
      " state: tensor([[ 0.5000+0.j,  0.5000+0.j, -0.5000+0.j,  0.5000+0.j]])\n",
      "[OrderedDict([('00', 271), ('01', 253), ('10', 271), ('11', 229)])]\n"
     ]
    }
   ],
   "source": [
    "state = tq.QuantumState(n_wires=2)\n",
    "state.h(wires=0)\n",
    "state.cnot(wires=[0, 1])\n",
    "tqf.h(state, wires=1)\n",
    "tqf.x(state, wires=1)\n",
    "\n",
    "print(state)\n",
    "print(tq.measure(state, n_shots=1024))"
   ]
  },
  {
   "cell_type": "code",
   "execution_count": 8,
   "id": "5c88ed90",
   "metadata": {},
   "outputs": [],
   "source": [
    "# state.to(torch.device('cuda'))"
   ]
  },
  {
   "cell_type": "code",
   "execution_count": 9,
   "id": "94bc8189",
   "metadata": {},
   "outputs": [
    {
     "data": {
      "text/plain": [
       "tensor([[ 0.5000+0.j,  0.5000+0.j, -0.5000+0.j,  0.5000+0.j]])"
      ]
     },
     "execution_count": 9,
     "metadata": {},
     "output_type": "execute_result"
    }
   ],
   "source": [
    "state.get_states_1d()"
   ]
  },
  {
   "cell_type": "code",
   "execution_count": 10,
   "id": "3e204b9f",
   "metadata": {},
   "outputs": [
    {
     "data": {
      "text/plain": [
       "tensor([[[ 0.5000+0.j,  0.5000+0.j],\n",
       "         [-0.5000+0.j,  0.5000+0.j]]])"
      ]
     },
     "execution_count": 10,
     "metadata": {},
     "output_type": "execute_result"
    }
   ],
   "source": [
    "state.states"
   ]
  },
  {
   "cell_type": "code",
   "execution_count": 11,
   "id": "d5145de4",
   "metadata": {},
   "outputs": [
    {
     "name": "stdout",
     "output_type": "stream",
     "text": [
      "QuantumState 2 wires \n",
      " state: tensor([[ 0.5000+0.j,  0.5000+0.j, -0.5000+0.j,  0.5000+0.j]])\n"
     ]
    }
   ],
   "source": [
    "print(state)"
   ]
  },
  {
   "cell_type": "markdown",
   "id": "376dcc1c",
   "metadata": {},
   "source": [
    "# Basic Usage 2"
   ]
  },
  {
   "cell_type": "code",
   "execution_count": 12,
   "id": "7aab160c",
   "metadata": {},
   "outputs": [
    {
     "name": "stdout",
     "output_type": "stream",
     "text": [
      "QuantumDevice 2 wires with states: tensor([[0.0000+0.j, 0.7071+0.j, 0.7071+0.j, 0.0000+0.j]])\n",
      "[OrderedDict([('00', 0), ('01', 503), ('10', 521), ('11', 0)])]\n"
     ]
    }
   ],
   "source": [
    "x = tq.QuantumDevice(n_wires=2)\n",
    "\n",
    "tqf.hadamard(x, wires=0)\n",
    "tqf.x(x, wires=1)\n",
    "tqf.cnot(x, wires=[0, 1])\n",
    "\n",
    "print(x)\n",
    "print(tq.measure(x, n_shots=1024))"
   ]
  },
  {
   "cell_type": "code",
   "execution_count": 13,
   "id": "ca1646a9",
   "metadata": {},
   "outputs": [
    {
     "data": {
      "text/plain": [
       "tensor([[[0.0000+0.j, 0.7071+0.j],\n",
       "         [0.7071+0.j, 0.0000+0.j]]])"
      ]
     },
     "execution_count": 13,
     "metadata": {},
     "output_type": "execute_result"
    }
   ],
   "source": [
    "x.states"
   ]
  },
  {
   "cell_type": "markdown",
   "id": "16832db8",
   "metadata": {},
   "source": [
    "# Q-Model"
   ]
  },
  {
   "cell_type": "code",
   "execution_count": 31,
   "id": "e8af75a9",
   "metadata": {},
   "outputs": [
    {
     "data": {
      "text/plain": [
       "tensor([0.])"
      ]
     },
     "execution_count": 31,
     "metadata": {},
     "output_type": "execute_result"
    }
   ],
   "source": [
    "torch.Tensor([0])"
   ]
  },
  {
   "cell_type": "code",
   "execution_count": 45,
   "id": "96ed520c",
   "metadata": {},
   "outputs": [],
   "source": [
    "class QModel(tq.QuantumModule):\n",
    "    def __init__(self):\n",
    "        super().__init__()\n",
    "        self.n_wires = 2\n",
    "        self.q_device = tq.QuantumDevice(n_wires=self.n_wires)\n",
    "        self.rx_0 = tq.RZ(has_params=True, trainable=True)\n",
    "        self.ry_0 = tq.RZ(has_params=True, init_params=3.7)\n",
    "    \n",
    "    def forward(self, x):\n",
    "        self.rx_0(x, wires=0)\n",
    "        self.ry_0(x, wires=1)\n",
    "        return x"
   ]
  },
  {
   "cell_type": "code",
   "execution_count": 46,
   "id": "610b6c4b",
   "metadata": {},
   "outputs": [
    {
     "data": {
      "image/png": "[encoded data removed]",
      "text/plain": [
       "<Figure size 146.652x144.48 with 1 Axes>"
      ]
     },
     "execution_count": 46,
     "metadata": {},
     "output_type": "execute_result"
    }
   ],
   "source": [
    "q_dev = tq.QuantumDevice(n_wires=2)\n",
    "q_model = QModel()\n",
    "circ = tq2qiskit(q_dev, q_model)\n",
    "circ.draw('mpl')"
   ]
  },
  {
   "cell_type": "code",
   "execution_count": 66,
   "id": "9c3caf50",
   "metadata": {},
   "outputs": [
    {
     "data": {
      "text/plain": [
       "3.1415927410125732"
      ]
     },
     "execution_count": 66,
     "metadata": {},
     "output_type": "execute_result"
    }
   ],
   "source": [
    "param = torch.tensor(np.pi)\n",
    "param.item()"
   ]
  },
  {
   "cell_type": "code",
   "execution_count": 67,
   "id": "28f21632",
   "metadata": {},
   "outputs": [
    {
     "name": "stdout",
     "output_type": "stream",
     "text": [
      "<class 'torchquantum.operators.RZ'>\n"
     ]
    },
    {
     "data": {
      "text/plain": [
       "tensor([[-4.3711e-08-1.j,  0.0000e+00+0.j],\n",
       "        [ 0.0000e+00+0.j, -4.3711e-08+1.j]])"
      ]
     },
     "execution_count": 67,
     "metadata": {},
     "output_type": "execute_result"
    }
   ],
   "source": [
    "rz = tq.RZ(has_params=True, init_params=param.item())\n",
    "print(type(rz))\n",
    "rz.matrix"
   ]
  },
  {
   "cell_type": "code",
   "execution_count": 56,
   "id": "de0049ce",
   "metadata": {},
   "outputs": [
    {
     "data": {
      "text/plain": [
       "tensor([[ 0.7071+0.j,  0.7071+0.j],\n",
       "        [ 0.7071+0.j, -0.7071+0.j]])"
      ]
     },
     "execution_count": 56,
     "metadata": {},
     "output_type": "execute_result"
    }
   ],
   "source": [
    "h = tq.H()\n",
    "h.matrix"
   ]
  },
  {
   "cell_type": "code",
   "execution_count": null,
   "id": "fae6c0ee",
   "metadata": {},
   "outputs": [],
   "source": []
  },
  {
   "cell_type": "markdown",
   "id": "7849e57d",
   "metadata": {},
   "source": [
    "# QuantumState"
   ]
  },
  {
   "cell_type": "code",
   "execution_count": 4,
   "id": "b922b65e",
   "metadata": {},
   "outputs": [
    {
     "name": "stdout",
     "output_type": "stream",
     "text": [
      "0: QuantumState 3 wires \n",
      " state: tensor([[1.+0.j, 0.+0.j, 0.+0.j, 0.+0.j, 0.+0.j, 0.+0.j, 0.+0.j, 0.+0.j]])\n",
      "\n",
      "1: QuantumState 3 wires \n",
      " state: tensor([[0.0000+0.0000j, 0.0000+0.0000j, 0.5878+0.0000j, 0.0000-0.8090j,\n",
      "         0.0000+0.0000j, 0.0000+0.0000j, 0.0000+0.0000j, 0.0000+0.0000j]])\n",
      "\n",
      "2: QuantumState 3 wires \n",
      " state: tensor([[0.0000+0.5237j, 0.7208+0.0000j, 0.0000+0.0000j, 0.0000+0.0000j,\n",
      "         0.0000+0.0000j, 0.0000+0.0000j, 0.0000+0.2668j, 0.3673+0.0000j]])\n",
      "\n"
     ]
    },
    {
     "data": {
      "image/png": "[encoded data removed]",
      "text/plain": [
       "<Figure size 432x288 with 1 Axes>"
      ]
     },
     "metadata": {
      "needs_background": "light"
     },
     "output_type": "display_data"
    },
    {
     "name": "stdout",
     "output_type": "stream",
     "text": [
      "[OrderedDict([('000', 271), ('001', 395), ('010', 0), ('011', 0), ('100', 0), ('101', 0), ('110', 142), ('111', 192)])]\n"
     ]
    }
   ],
   "source": [
    "q_state = tq.QuantumState(n_wires=3)\n",
    "print(f'0: {q_state}\\n')\n",
    "q_state.x(wires=1)\n",
    "q_state.rx(wires=2, params=0.6 * np.pi)\n",
    "print(f'1: {q_state}\\n')\n",
    "q_state.ry(wires=0, params=0.3 * np.pi)\n",
    "q_state.qubitunitary(wires=1, params=[[0, 1j], [-1j, 0]])\n",
    "q_state.cnot(wires=[0, 1])\n",
    "print(f'2: {q_state}\\n')\n",
    "bitstring = tq.measure(q_state, n_shots=1000, draw_id=0)\n",
    "print(bitstring)"
   ]
  },
  {
   "cell_type": "code",
   "execution_count": 88,
   "id": "70b80f52",
   "metadata": {},
   "outputs": [
    {
     "name": "stdout",
     "output_type": "stream",
     "text": [
      "(1, 8)\n",
      "[[0.5237205  0.72083944 0.         0.         0.         0.\n",
      "  0.26684892 0.36728606]] [0.5237205  0.72083944 0.         0.         0.         0.\n",
      " 0.26684892 0.36728606]\n",
      "[[0.27428317 0.5196095  0.         0.         0.         0.\n",
      "  0.07120835 0.13489905]] [0.27428317 0.5196095  0.         0.         0.         0.\n",
      " 0.07120835 0.13489905]\n"
     ]
    }
   ],
   "source": [
    "state_mag = q_state.get_states_1d().abs().detach().numpy()\n",
    "print(state_mag.shape)\n",
    "print(state_mag, sum(state_mag))\n",
    "state_prob = state_mag**2\n",
    "print(state_prob, sum(state_prob))"
   ]
  },
  {
   "cell_type": "code",
   "execution_count": 84,
   "id": "97f3ea85",
   "metadata": {},
   "outputs": [
    {
     "data": {
      "text/plain": [
       "(0.2787682538528295,\n",
       " 0.3836915895626455,\n",
       " 0.14203951833212639,\n",
       " 0.19550063825239863)"
      ]
     },
     "execution_count": 84,
     "metadata": {},
     "output_type": "execute_result"
    }
   ],
   "source": [
    "state_mag[0] / sum(state_mag), state_mag[1] / sum(state_mag), state_mag[6] / sum(state_mag), state_mag[7] / sum(state_mag)"
   ]
  },
  {
   "cell_type": "code",
   "execution_count": 86,
   "id": "fadd4b33",
   "metadata": {},
   "outputs": [
    {
     "data": {
      "text/plain": [
       "(0.2742831482208175,\n",
       " 0.5196094683132756,\n",
       " 0.07120834452441491,\n",
       " 0.13489903894149194)"
      ]
     },
     "execution_count": 86,
     "metadata": {},
     "output_type": "execute_result"
    }
   ],
   "source": [
    "state_prob[0] / sum(state_prob), state_prob[1] / sum(state_prob), state_prob[6] / sum(state_prob), state_prob[7] / sum(state_prob)"
   ]
  },
  {
   "cell_type": "code",
   "execution_count": 17,
   "id": "3d67a93a",
   "metadata": {},
   "outputs": [],
   "source": [
    "a = 0.2742831482208175\n",
    "b = 0.5196094683132756\n",
    "c = 0.07120834452441491\n",
    "d = 0.13489903894149194"
   ]
  },
  {
   "cell_type": "code",
   "execution_count": 18,
   "id": "c03a7a51",
   "metadata": {},
   "outputs": [
    {
     "data": {
      "text/plain": [
       "-0.3090170145095351"
      ]
     },
     "execution_count": 18,
     "metadata": {},
     "output_type": "execute_result"
    }
   ],
   "source": [
    "a + c - b - d"
   ]
  },
  {
   "cell_type": "code",
   "execution_count": null,
   "id": "4b3b0ab8",
   "metadata": {},
   "outputs": [],
   "source": []
  }
 ],
 "metadata": {
  "kernelspec": {
   "display_name": "Python 3 (ipykernel)",
   "language": "python",
   "name": "python3"
  },
  "language_info": {
   "codemirror_mode": {
    "name": "ipython",
    "version": 3
   },
   "file_extension": ".py",
   "mimetype": "text/x-python",
   "name": "python",
   "nbconvert_exporter": "python",
   "pygments_lexer": "ipython3",
   "version": "3.8.5"
  }
 },
 "nbformat": 4,
 "nbformat_minor": 5
}
