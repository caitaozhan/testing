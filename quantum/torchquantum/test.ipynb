{
 "cells": [
  {
   "cell_type": "code",
   "execution_count": 43,
   "id": "650a1f9f",
   "metadata": {},
   "outputs": [],
   "source": [
    "import torchquantum as tq\n",
    "import torchquantum.functional as tqf\n",
    "from torchquantum.plugins.qiskit_plugin import tq2qiskit\n",
    "import torch"
   ]
  },
  {
   "cell_type": "markdown",
   "id": "3febed3c",
   "metadata": {},
   "source": [
    "# Basic Usage 1"
   ]
  },
  {
   "cell_type": "code",
   "execution_count": 29,
   "id": "1f208315",
   "metadata": {},
   "outputs": [
    {
     "name": "stdout",
     "output_type": "stream",
     "text": [
      "QuantumState 2 wires \n",
      " state: tensor([[ 0.5000+0.j,  0.5000+0.j, -0.5000+0.j,  0.5000+0.j]])\n",
      "[OrderedDict([('00', 265), ('01', 255), ('10', 258), ('11', 246)])]\n"
     ]
    }
   ],
   "source": [
    "state = tq.QuantumState(n_wires=2)\n",
    "state.h(wires=0)\n",
    "state.cnot(wires=[0, 1])\n",
    "tqf.h(state, wires=1)\n",
    "tqf.x(state, wires=1)\n",
    "\n",
    "print(state)\n",
    "print(tq.measure(state, n_shots=1024))"
   ]
  },
  {
   "cell_type": "code",
   "execution_count": 30,
   "id": "a65b4ff1",
   "metadata": {},
   "outputs": [],
   "source": [
    "# state.to(torch.device('cuda'))"
   ]
  },
  {
   "cell_type": "code",
   "execution_count": 34,
   "id": "76cc0505",
   "metadata": {},
   "outputs": [
    {
     "data": {
      "text/plain": [
       "tensor([[ 0.5000+0.j,  0.5000+0.j, -0.5000+0.j,  0.5000+0.j]])"
      ]
     },
     "execution_count": 34,
     "metadata": {},
     "output_type": "execute_result"
    }
   ],
   "source": [
    "state.get_states_1d()"
   ]
  },
  {
   "cell_type": "code",
   "execution_count": 36,
   "id": "9b57f1c0",
   "metadata": {},
   "outputs": [
    {
     "data": {
      "text/plain": [
       "tensor([[[ 0.5000+0.j,  0.5000+0.j],\n",
       "         [-0.5000+0.j,  0.5000+0.j]]])"
      ]
     },
     "execution_count": 36,
     "metadata": {},
     "output_type": "execute_result"
    }
   ],
   "source": [
    "state.states"
   ]
  },
  {
   "cell_type": "code",
   "execution_count": 37,
   "id": "52fa7a50",
   "metadata": {},
   "outputs": [
    {
     "name": "stdout",
     "output_type": "stream",
     "text": [
      "QuantumState 2 wires \n",
      " state: tensor([[ 0.5000+0.j,  0.5000+0.j, -0.5000+0.j,  0.5000+0.j]])\n"
     ]
    }
   ],
   "source": [
    "print(state)"
   ]
  },
  {
   "cell_type": "markdown",
   "id": "b6aaa0b9",
   "metadata": {},
   "source": [
    "# Basic Usage 2"
   ]
  },
  {
   "cell_type": "code",
   "execution_count": 20,
   "id": "91ef6b85",
   "metadata": {},
   "outputs": [
    {
     "name": "stdout",
     "output_type": "stream",
     "text": [
      "QuantumDevice 2 wires with states: tensor([[0.0000+0.j, 0.7071+0.j, 0.7071+0.j, 0.0000+0.j]])\n",
      "[OrderedDict([('00', 0), ('01', 502), ('10', 522), ('11', 0)])]\n"
     ]
    }
   ],
   "source": [
    "x = tq.QuantumDevice(n_wires=2)\n",
    "\n",
    "tqf.hadamard(x, wires=0)\n",
    "tqf.x(x, wires=1)\n",
    "tqf.cnot(x, wires=[0, 1])\n",
    "\n",
    "print(x)\n",
    "print(tq.measure(x, n_shots=1024))"
   ]
  },
  {
   "cell_type": "code",
   "execution_count": 23,
   "id": "a872de38",
   "metadata": {},
   "outputs": [
    {
     "data": {
      "text/plain": [
       "tensor([[[0.0000+0.j, 0.7071+0.j],\n",
       "         [0.7071+0.j, 0.0000+0.j]]])"
      ]
     },
     "execution_count": 23,
     "metadata": {},
     "output_type": "execute_result"
    }
   ],
   "source": [
    "x.states"
   ]
  },
  {
   "cell_type": "markdown",
   "id": "8e034976",
   "metadata": {},
   "source": [
    "# Q-Model"
   ]
  },
  {
   "cell_type": "code",
   "execution_count": 48,
   "id": "4cfa203c",
   "metadata": {},
   "outputs": [],
   "source": [
    "class QModel(tq.QuantumModule):\n",
    "    def __init__(self):\n",
    "        super().__init__()\n",
    "        self.n_wires = 2\n",
    "        self.q_device = tq.QuantumDevice(n_wires=self.n_wires)\n",
    "        self.rx_0 = tq.RX(has_params=True, trainable=True)\n",
    "        self.ry_0 = tq.RY(has_params=True, trainable=True)\n",
    "    \n",
    "    def forward(self, x):\n",
    "        self.rx_0(x, wires=0)\n",
    "        self.ry_0(x, wires=1)\n",
    "        return x"
   ]
  },
  {
   "cell_type": "code",
   "execution_count": 49,
   "id": "09188179",
   "metadata": {},
   "outputs": [],
   "source": [
    "q_model = QModel()"
   ]
  },
  {
   "cell_type": "code",
   "execution_count": 50,
   "id": "c4425cdc",
   "metadata": {},
   "outputs": [],
   "source": [
    "circ = tq2qiskit(x, q_model)"
   ]
  },
  {
   "cell_type": "code",
   "execution_count": 51,
   "id": "f8337b59",
   "metadata": {},
   "outputs": [
    {
     "data": {
      "image/png": "[encoded data removed]",
      "text/plain": [
       "<Figure size 146.652x144.48 with 1 Axes>"
      ]
     },
     "execution_count": 51,
     "metadata": {},
     "output_type": "execute_result"
    }
   ],
   "source": [
    "circ.draw('mpl')"
   ]
  },
  {
   "cell_type": "code",
   "execution_count": null,
   "id": "1514d4bb",
   "metadata": {},
   "outputs": [],
   "source": []
  }
 ],
 "metadata": {
  "kernelspec": {
   "display_name": "Python 3 (ipykernel)",
   "language": "python",
   "name": "python3"
  },
  "language_info": {
   "codemirror_mode": {
    "name": "ipython",
    "version": 3
   },
   "file_extension": ".py",
   "mimetype": "text/x-python",
   "name": "python",
   "nbconvert_exporter": "python",
   "pygments_lexer": "ipython3",
   "version": "3.8.5"
  }
 },
 "nbformat": 4,
 "nbformat_minor": 5
}
