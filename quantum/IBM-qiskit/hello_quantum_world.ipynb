{
 "cells": [
  {
   "cell_type": "code",
   "execution_count": 3,
   "metadata": {},
   "outputs": [
    {
     "data": {
      "text/plain": [
       "{'qiskit-terra': '0.18.3', 'qiskit-aer': '0.9.1', 'qiskit-ignis': '0.6.0', 'qiskit-ibmq-provider': '0.18.1', 'qiskit-aqua': '0.9.5', 'qiskit': '0.32.1', 'qiskit-nature': None, 'qiskit-finance': None, 'qiskit-optimization': None, 'qiskit-machine-learning': None}"
      ]
     },
     "execution_count": 3,
     "metadata": {},
     "output_type": "execute_result"
    }
   ],
   "source": [
    "import qiskit\n",
    "qiskit.__qiskit_version__"
   ]
  },
  {
   "cell_type": "code",
   "execution_count": 28,
   "metadata": {},
   "outputs": [],
   "source": [
    "import numpy as np\n",
    "import time\n",
    "from qiskit import QuantumCircuit, transpile\n",
    "from qiskit.providers.aer import QasmSimulator\n",
    "from qiskit.visualization import plot_histogram"
   ]
  },
  {
   "cell_type": "markdown",
   "metadata": {},
   "source": [
    "# Getting started with Qiskit (The hello world of quantum computing)"
   ]
  },
  {
   "cell_type": "code",
   "execution_count": 80,
   "metadata": {},
   "outputs": [
    {
     "name": "stdout",
     "output_type": "stream",
     "text": [
      "Total count for 0 and 1 are: {'0': 49963, '1': 50037}\n",
      "Time per single simulation is 1.23 microseconds\n"
     ]
    },
    {
     "data": {
      "text/html": [
       "<pre style=\"word-wrap: normal;white-space: pre;background: #fff0;line-height: 1.1;font-family: &quot;Courier New&quot;,Courier,monospace\">     ┌───┐┌─┐\n",
       "q_0: ┤ H ├┤M├\n",
       "     └───┘└╥┘\n",
       "c: 1/══════╩═\n",
       "           0 </pre>"
      ],
      "text/plain": [
       "     ┌───┐┌─┐\n",
       "q_0: ┤ H ├┤M├\n",
       "     └───┘└╥┘\n",
       "c: 1/══════╩═\n",
       "           0 "
      ]
     },
     "execution_count": 80,
     "metadata": {},
     "output_type": "execute_result"
    }
   ],
   "source": [
    "# Old qiskit style\n",
    "\n",
    "circuit = QuantumCircuit(1, 1)\n",
    "circuit.h(0)\n",
    "circuit.measure([0], [0])\n",
    "\n",
    "simulator = Aer.get_backend('qasm_simulator')\n",
    "shots = 100_000\n",
    "start = time.time()\n",
    "job = execute(circuit, simulator, shots=shots)\n",
    "result = job.result()\n",
    "elapse = time.time() - start\n",
    "counts = result.get_counts(circuit)\n",
    "\n",
    "print(f'Total count for 0 and 1 are: {counts}')\n",
    "print(f'Time per single simulation is {elapse/shots*1e6:.2f} microseconds')\n",
    "circuit.draw()"
   ]
  },
  {
   "cell_type": "markdown",
   "metadata": {},
   "source": [
    "## 1 Creating Superposition using H Gate"
   ]
  },
  {
   "cell_type": "code",
   "execution_count": 62,
   "metadata": {},
   "outputs": [
    {
     "name": "stdout",
     "output_type": "stream",
     "text": [
      "Total count for 0 and 1 are: {'0': 49877, '1': 50123}\n",
      "Time per single simulation is 1.12 microseconds\n"
     ]
    },
    {
     "data": {
      "text/html": [
       "<pre style=\"word-wrap: normal;white-space: pre;background: #fff0;line-height: 1.1;font-family: &quot;Courier New&quot;,Courier,monospace\">     ┌───┐┌─┐\n",
       "q_0: ┤ H ├┤M├\n",
       "     └───┘└╥┘\n",
       "c: 1/══════╩═\n",
       "           0 </pre>"
      ],
      "text/plain": [
       "     ┌───┐┌─┐\n",
       "q_0: ┤ H ├┤M├\n",
       "     └───┘└╥┘\n",
       "c: 1/══════╩═\n",
       "           0 "
      ]
     },
     "execution_count": 62,
     "metadata": {},
     "output_type": "execute_result"
    }
   ],
   "source": [
    "circuit = QuantumCircuit(1, 1)\n",
    "circuit.h(0)\n",
    "circuit.measure([0], [0])\n",
    "\n",
    "simulator = QasmSimulator()\n",
    "shots = 100_000\n",
    "compiled_circuit = transpile(circuit, simulator)\n",
    "start = time.time()\n",
    "job = simulator.run(compiled_circuit, shots=shots)\n",
    "result = job.result()\n",
    "elapse = time.time() - start\n",
    "counts = result.get_counts(compiled_circuit)\n",
    "\n",
    "print(f'Total count for 0 and 1 are: {counts}')\n",
    "print(f'Time per single simulation is {elapse/shots*1e6:.2f} microseconds')\n",
    "circuit.draw()"
   ]
  },
  {
   "cell_type": "code",
   "execution_count": 63,
   "metadata": {},
   "outputs": [
    {
     "data": {
      "image/png": "[encoded data removed]",
      "text/plain": [
       "<Figure size 504x360 with 1 Axes>"
      ]
     },
     "execution_count": 63,
     "metadata": {},
     "output_type": "execute_result"
    }
   ],
   "source": [
    "plot_histogram(counts)"
   ]
  },
  {
   "cell_type": "markdown",
   "metadata": {},
   "source": [
    "## 2 Creating Bell Pair Entanglement using H Gate and CNOT Gate"
   ]
  },
  {
   "cell_type": "markdown",
   "metadata": {},
   "source": [
    "https://qiskit.org/documentation/getting_started.html"
   ]
  },
  {
   "cell_type": "code",
   "execution_count": 72,
   "metadata": {},
   "outputs": [
    {
     "name": "stdout",
     "output_type": "stream",
     "text": [
      "Total count for 00 and 11 are: {'11': 49790, '00': 50210}\n",
      "Time per single simulation is 1.64 microseconds\n"
     ]
    },
    {
     "data": {
      "text/html": [
       "<pre style=\"word-wrap: normal;white-space: pre;background: #fff0;line-height: 1.1;font-family: &quot;Courier New&quot;,Courier,monospace\">     ┌───┐     ┌─┐   \n",
       "q_0: ┤ H ├──■──┤M├───\n",
       "     └───┘┌─┴─┐└╥┘┌─┐\n",
       "q_1: ─────┤ X ├─╫─┤M├\n",
       "          └───┘ ║ └╥┘\n",
       "c: 2/═══════════╩══╩═\n",
       "                0  1 </pre>"
      ],
      "text/plain": [
       "     ┌───┐     ┌─┐   \n",
       "q_0: ┤ H ├──■──┤M├───\n",
       "     └───┘┌─┴─┐└╥┘┌─┐\n",
       "q_1: ─────┤ X ├─╫─┤M├\n",
       "          └───┘ ║ └╥┘\n",
       "c: 2/═══════════╩══╩═\n",
       "                0  1 "
      ]
     },
     "execution_count": 72,
     "metadata": {},
     "output_type": "execute_result"
    }
   ],
   "source": [
    "circuit = QuantumCircuit(2, 2)\n",
    "circuit.h(0)\n",
    "circuit.cx(0, 1)\n",
    "circuit.measure([0, 1], [0, 1])\n",
    "\n",
    "simulator = QasmSimulator()\n",
    "compiled_circuit = transpile(circuit, simulator)\n",
    "shots = 100_000\n",
    "start = time.time()\n",
    "job = simulator.run(compiled_circuit, shots=shots)\n",
    "result = job.result()\n",
    "elapse = time.time() - start\n",
    "counts = result.get_counts(compiled_circuit)\n",
    "\n",
    "print(f'Total count for 00 and 11 are: {counts}')\n",
    "print(f'Time per single simulation is {elapse/shots*1e6:.2f} microseconds')\n",
    "circuit.draw()"
   ]
  },
  {
   "cell_type": "code",
   "execution_count": 73,
   "metadata": {},
   "outputs": [
    {
     "data": {
      "image/png": "[encoded data removed]",
      "text/plain": [
       "<Figure size 504x360 with 1 Axes>"
      ]
     },
     "execution_count": 73,
     "metadata": {},
     "output_type": "execute_result"
    }
   ],
   "source": [
    "plot_histogram(counts)"
   ]
  },
  {
   "cell_type": "markdown",
   "metadata": {},
   "source": [
    "## 3 Creating GHZ Entanglement using H Gate and Two CNOT Gates\n",
    "https://qiskit.org/documentation/apidoc/circuit.html"
   ]
  },
  {
   "cell_type": "code",
   "execution_count": 74,
   "metadata": {},
   "outputs": [
    {
     "name": "stdout",
     "output_type": "stream",
     "text": [
      "Total count for 000 and 111 are: {'111': 49903, '000': 50097}\n",
      "Time per single simulation is 2.18 microseconds\n"
     ]
    },
    {
     "data": {
      "text/html": [
       "<pre style=\"word-wrap: normal;white-space: pre;background: #fff0;line-height: 1.1;font-family: &quot;Courier New&quot;,Courier,monospace\">     ┌───┐          ┌─┐      \n",
       "q_0: ┤ H ├──■───────┤M├──────\n",
       "     └───┘┌─┴─┐     └╥┘┌─┐   \n",
       "q_1: ─────┤ X ├──■───╫─┤M├───\n",
       "          └───┘┌─┴─┐ ║ └╥┘┌─┐\n",
       "q_2: ──────────┤ X ├─╫──╫─┤M├\n",
       "               └───┘ ║  ║ └╥┘\n",
       "c: 3/════════════════╩══╩══╩═\n",
       "                     0  1  2 </pre>"
      ],
      "text/plain": [
       "     ┌───┐          ┌─┐      \n",
       "q_0: ┤ H ├──■───────┤M├──────\n",
       "     └───┘┌─┴─┐     └╥┘┌─┐   \n",
       "q_1: ─────┤ X ├──■───╫─┤M├───\n",
       "          └───┘┌─┴─┐ ║ └╥┘┌─┐\n",
       "q_2: ──────────┤ X ├─╫──╫─┤M├\n",
       "               └───┘ ║  ║ └╥┘\n",
       "c: 3/════════════════╩══╩══╩═\n",
       "                     0  1  2 "
      ]
     },
     "execution_count": 74,
     "metadata": {},
     "output_type": "execute_result"
    }
   ],
   "source": [
    "circuit = QuantumCircuit(3, 3)\n",
    "circuit.h(0)\n",
    "circuit.cx(0, 1)\n",
    "circuit.cx(1, 2)\n",
    "circuit.measure([0, 1, 2], [0, 1, 2])\n",
    "\n",
    "simulator = QasmSimulator()\n",
    "compiled_circuit = transpile(circuit, simulator)\n",
    "shots = 100_000\n",
    "start = time.time()\n",
    "job = simulator.run(compiled_circuit, shots = shots)\n",
    "result = job.result()\n",
    "elapse = time.time() - start\n",
    "counts = result.get_counts(compiled_circuit)\n",
    "\n",
    "print(f'Total count for 000 and 111 are: {counts}')\n",
    "print(f'Time per single simulation is {elapse/shots*1e6:.2f} microseconds')\n",
    "circuit.draw()"
   ]
  },
  {
   "cell_type": "code",
   "execution_count": 75,
   "metadata": {},
   "outputs": [
    {
     "data": {
      "image/png": "[encoded data removed]",
      "text/plain": [
       "<Figure size 504x360 with 1 Axes>"
      ]
     },
     "execution_count": 75,
     "metadata": {},
     "output_type": "execute_result"
    }
   ],
   "source": [
    "plot_histogram(counts)"
   ]
  },
  {
   "cell_type": "code",
   "execution_count": null,
   "metadata": {},
   "outputs": [],
   "source": []
  }
 ],
 "metadata": {
  "kernelspec": {
   "display_name": "Python 3",
   "language": "python",
   "name": "python3"
  },
  "language_info": {
   "codemirror_mode": {
    "name": "ipython",
    "version": 3
   },
   "file_extension": ".py",
   "mimetype": "text/x-python",
   "name": "python",
   "nbconvert_exporter": "python",
   "pygments_lexer": "ipython3",
   "version": "3.8.8"
  }
 },
 "nbformat": 4,
 "nbformat_minor": 4
}
