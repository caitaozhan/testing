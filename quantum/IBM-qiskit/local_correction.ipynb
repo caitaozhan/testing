{
 "cells": [
  {
   "cell_type": "code",
   "execution_count": 1,
   "id": "3a9f4d19-e92f-46b0-af60-30f07d324828",
   "metadata": {
    "tags": []
   },
   "outputs": [],
   "source": [
    "import numpy as np\n",
    "from qiskit import QuantumCircuit\n",
    "from qiskit.quantum_info import Statevector\n",
    "from IPython.display import Latex\n",
    "from qiskit.visualization import state_visualization\n",
    "\n",
    "from qiskit import QuantumCircuit, ClassicalRegister, QuantumRegister, transpile\n",
    "from qiskit.tools.visualization import circuit_drawer\n",
    "from qiskit.quantum_info import state_fidelity\n",
    "from qiskit import BasicAer"
   ]
  },
  {
   "cell_type": "markdown",
   "id": "e1a055a0-1a2b-401d-8a1b-8028032cce21",
   "metadata": {},
   "source": [
    "## The fusion for two trees at the root & the measurement-result-dependent local correction"
   ]
  },
  {
   "cell_type": "markdown",
   "id": "fc94d987-edd0-472a-a88b-5dbf6afc7cb8",
   "metadata": {
    "tags": []
   },
   "source": [
    "### The root of left tree qubit (0) + the right tree qubit (1,2,3)"
   ]
  },
  {
   "cell_type": "markdown",
   "id": "434adcdf-fc3c-45a3-b57a-877187533a7b",
   "metadata": {
    "tags": []
   },
   "source": [
    "#### Y measurement at qubit 1: result is 1"
   ]
  },
  {
   "cell_type": "code",
   "execution_count": 50,
   "id": "4d8c8450-da67-46ac-bfff-d1de6a7d5d19",
   "metadata": {
    "tags": []
   },
   "outputs": [
    {
     "data": {
      "text/latex": [
       "$$\\begin{align}\\frac{1}{4} |0000\\rangle- \\frac{1}{4} |0001\\rangle+\\frac{i}{4} |0010\\rangle+\\frac{i}{4} |0011\\rangle- \\frac{1}{4} |0100\\rangle- \\frac{1}{4} |0101\\rangle+\\frac{i}{4} |0110\\rangle- \\frac{i}{4} |0111\\rangle- \\frac{1}{4} |1000\\rangle- \\frac{1}{4} |1001\\rangle+\\frac{i}{4} |1010\\rangle- \\frac{i}{4} |1011\\rangle+\\frac{1}{4} |1100\\rangle- \\frac{1}{4} |1101\\rangle+\\frac{i}{4} |1110\\rangle+\\frac{i}{4} |1111\\rangle\\end{align}$$"
      ],
      "text/plain": [
       "<IPython.core.display.Latex object>"
      ]
     },
     "execution_count": 50,
     "metadata": {},
     "output_type": "execute_result"
    }
   ],
   "source": [
    "prefix = \"$$\\\\begin{align}\"\n",
    "suffix = \"\\\\end{align}$$\"\n",
    "q = QuantumRegister(4)\n",
    "circ = QuantumCircuit(q)\n",
    "\n",
    "# Add a H gate on qubit 0, putting this qubit in superposition\n",
    "circ.h(0)\n",
    "circ.h(1)\n",
    "circ.h(2)\n",
    "circ.h(3)\n",
    "\n",
    "# connect right subtree\n",
    "circ.cz(1, 2)\n",
    "circ.cz(1, 3)\n",
    "\n",
    "circ.barrier()\n",
    "\n",
    "# local complementation\n",
    "circ.rx(np.pi/2, 1)\n",
    "circ.rz(-np.pi/2, 2)\n",
    "circ.rz(-np.pi/2, 3)\n",
    "\n",
    "# connect the fusion node\n",
    "circ.cz(0, 1)\n",
    "\n",
    "# Y measurement on qubit 1\n",
    "circ.sdg(1)\n",
    "circ.h(1)\n",
    "\n",
    "circ.barrier()\n",
    "\n",
    "# local correction\n",
    "# if y measurement result is 1\n",
    "circ.s(0)\n",
    "circ.s(2)\n",
    "circ.s(3)\n",
    "\n",
    "# if y measurement result is 0\n",
    "# circ.p(-np.pi/2, 0)\n",
    "# circ.p(-np.pi/2, 2)\n",
    "# circ.p(-np.pi/2, 3)\n",
    "\n",
    "# Set the initial state of the simulator to the ground state using from_int, then evolve the state by the quantum circuit\n",
    "state = Statevector.from_int(0, 2**4)\n",
    "state = state.evolve(circ)\n",
    "state_to_latex = state_visualization._state_to_latex_ket(state.data, max_size = 128)\n",
    "Latex(prefix + state_to_latex + suffix)"
   ]
  },
  {
   "cell_type": "code",
   "execution_count": 51,
   "id": "7c09d885-16fd-4711-8335-2a38bec2194c",
   "metadata": {
    "tags": []
   },
   "outputs": [
    {
     "data": {
      "text/html": [
       "<pre style=\"word-wrap: normal;white-space: pre;background: #fff0;line-height: 1.1;font-family: &quot;Courier New&quot;,Courier,monospace\">       ┌───┐       ░                             ░ ┌───┐\n",
       "q32_0: ┤ H ├───────░──────────────■──────────────░─┤ S ├\n",
       "       ├───┤       ░ ┌─────────┐  │ ┌─────┐┌───┐ ░ └───┘\n",
       "q32_1: ┤ H ├─■──■──░─┤ Rx(π/2) ├──■─┤ Sdg ├┤ H ├─░──────\n",
       "       ├───┤ │  │  ░ ├─────────┴┐   └─────┘└───┘ ░ ┌───┐\n",
       "q32_2: ┤ H ├─■──┼──░─┤ Rz(-π/2) ├────────────────░─┤ S ├\n",
       "       ├───┤    │  ░ ├──────────┤                ░ ├───┤\n",
       "q32_3: ┤ H ├────■──░─┤ Rz(-π/2) ├────────────────░─┤ S ├\n",
       "       └───┘       ░ └──────────┘                ░ └───┘</pre>"
      ],
      "text/plain": [
       "       ┌───┐       ░                             ░ ┌───┐\n",
       "q32_0: ┤ H ├───────░──────────────■──────────────░─┤ S ├\n",
       "       ├───┤       ░ ┌─────────┐  │ ┌─────┐┌───┐ ░ └───┘\n",
       "q32_1: ┤ H ├─■──■──░─┤ Rx(π/2) ├──■─┤ Sdg ├┤ H ├─░──────\n",
       "       ├───┤ │  │  ░ ├─────────┴┐   └─────┘└───┘ ░ ┌───┐\n",
       "q32_2: ┤ H ├─■──┼──░─┤ Rz(-π/2) ├────────────────░─┤ S ├\n",
       "       ├───┤    │  ░ ├──────────┤                ░ ├───┤\n",
       "q32_3: ┤ H ├────■──░─┤ Rz(-π/2) ├────────────────░─┤ S ├\n",
       "       └───┘       ░ └──────────┘                ░ └───┘"
      ]
     },
     "execution_count": 51,
     "metadata": {},
     "output_type": "execute_result"
    }
   ],
   "source": [
    "circ.draw()"
   ]
  },
  {
   "cell_type": "markdown",
   "id": "1be835fb-1aeb-4d76-a439-dd63f332cfce",
   "metadata": {
    "tags": []
   },
   "source": [
    "#### Y measurement at qubit 1: result is 0"
   ]
  },
  {
   "cell_type": "code",
   "execution_count": 52,
   "id": "1a84c04b-eff6-4cc5-9c26-87192c0a61b1",
   "metadata": {
    "tags": []
   },
   "outputs": [
    {
     "data": {
      "text/latex": [
       "$$\\begin{align}\\frac{1}{4} |0000\\rangle+\\frac{1}{4} |0001\\rangle+\\frac{i}{4} |0010\\rangle- \\frac{i}{4} |0011\\rangle+\\frac{1}{4} |0100\\rangle- \\frac{1}{4} |0101\\rangle- \\frac{i}{4} |0110\\rangle- \\frac{i}{4} |0111\\rangle+\\frac{1}{4} |1000\\rangle- \\frac{1}{4} |1001\\rangle- \\frac{i}{4} |1010\\rangle- \\frac{i}{4} |1011\\rangle+\\frac{1}{4} |1100\\rangle+\\frac{1}{4} |1101\\rangle+\\frac{i}{4} |1110\\rangle- \\frac{i}{4} |1111\\rangle\\end{align}$$"
      ],
      "text/plain": [
       "<IPython.core.display.Latex object>"
      ]
     },
     "execution_count": 52,
     "metadata": {},
     "output_type": "execute_result"
    }
   ],
   "source": [
    "prefix = \"$$\\\\begin{align}\"\n",
    "suffix = \"\\\\end{align}$$\"\n",
    "q = QuantumRegister(4)\n",
    "circ = QuantumCircuit(q)\n",
    "\n",
    "# Add a H gate on qubit 0, putting this qubit in superposition\n",
    "circ.h(0)\n",
    "circ.h(1)\n",
    "circ.h(2)\n",
    "circ.h(3)\n",
    "\n",
    "# connect right subtree\n",
    "circ.cz(1, 2)\n",
    "circ.cz(1, 3)\n",
    "\n",
    "circ.barrier()\n",
    "\n",
    "# local complementation\n",
    "circ.rx(np.pi/2, 1)\n",
    "circ.rz(-np.pi/2, 2)\n",
    "circ.rz(-np.pi/2, 3)\n",
    "\n",
    "# connect the fusion node\n",
    "circ.cz(0, 1)\n",
    "\n",
    "# Y measurement on qubit 1\n",
    "circ.sdg(1)\n",
    "circ.h(1)\n",
    "\n",
    "circ.barrier()\n",
    "\n",
    "# local correction\n",
    "# if y measurement result is 1\n",
    "# circ.s(0)\n",
    "# circ.s(2)\n",
    "# circ.s(3)\n",
    "\n",
    "# if y measurement result is 0\n",
    "circ.p(-np.pi/2, 0)\n",
    "circ.p(-np.pi/2, 2)\n",
    "circ.p(-np.pi/2, 3)\n",
    "\n",
    "# Set the initial state of the simulator to the ground state using from_int, then evolve the state by the quantum circuit\n",
    "state = Statevector.from_int(0, 2**4)\n",
    "state = state.evolve(circ)\n",
    "state_to_latex = state_visualization._state_to_latex_ket(state.data, max_size = 128)\n",
    "Latex(prefix + state_to_latex + suffix)"
   ]
  },
  {
   "cell_type": "code",
   "execution_count": 53,
   "id": "bf4cd9ed-cbf7-4d62-ae56-4dcc5346789e",
   "metadata": {
    "tags": []
   },
   "outputs": [
    {
     "data": {
      "text/html": [
       "<pre style=\"word-wrap: normal;white-space: pre;background: #fff0;line-height: 1.1;font-family: &quot;Courier New&quot;,Courier,monospace\">       ┌───┐       ░                             ░ ┌─────────┐\n",
       "q33_0: ┤ H ├───────░──────────────■──────────────░─┤ P(-π/2) ├\n",
       "       ├───┤       ░ ┌─────────┐  │ ┌─────┐┌───┐ ░ └─────────┘\n",
       "q33_1: ┤ H ├─■──■──░─┤ Rx(π/2) ├──■─┤ Sdg ├┤ H ├─░────────────\n",
       "       ├───┤ │  │  ░ ├─────────┴┐   └─────┘└───┘ ░ ┌─────────┐\n",
       "q33_2: ┤ H ├─■──┼──░─┤ Rz(-π/2) ├────────────────░─┤ P(-π/2) ├\n",
       "       ├───┤    │  ░ ├──────────┤                ░ ├─────────┤\n",
       "q33_3: ┤ H ├────■──░─┤ Rz(-π/2) ├────────────────░─┤ P(-π/2) ├\n",
       "       └───┘       ░ └──────────┘                ░ └─────────┘</pre>"
      ],
      "text/plain": [
       "       ┌───┐       ░                             ░ ┌─────────┐\n",
       "q33_0: ┤ H ├───────░──────────────■──────────────░─┤ P(-π/2) ├\n",
       "       ├───┤       ░ ┌─────────┐  │ ┌─────┐┌───┐ ░ └─────────┘\n",
       "q33_1: ┤ H ├─■──■──░─┤ Rx(π/2) ├──■─┤ Sdg ├┤ H ├─░────────────\n",
       "       ├───┤ │  │  ░ ├─────────┴┐   └─────┘└───┘ ░ ┌─────────┐\n",
       "q33_2: ┤ H ├─■──┼──░─┤ Rz(-π/2) ├────────────────░─┤ P(-π/2) ├\n",
       "       ├───┤    │  ░ ├──────────┤                ░ ├─────────┤\n",
       "q33_3: ┤ H ├────■──░─┤ Rz(-π/2) ├────────────────░─┤ P(-π/2) ├\n",
       "       └───┘       ░ └──────────┘                ░ └─────────┘"
      ]
     },
     "execution_count": 53,
     "metadata": {},
     "output_type": "execute_result"
    }
   ],
   "source": [
    "circ.draw()"
   ]
  }
 ],
 "metadata": {
  "kernelspec": {
   "display_name": "Python 3 (ipykernel)",
   "language": "python",
   "name": "python3"
  },
  "language_info": {
   "codemirror_mode": {
    "name": "ipython",
    "version": 3
   },
   "file_extension": ".py",
   "mimetype": "text/x-python",
   "name": "python",
   "nbconvert_exporter": "python",
   "pygments_lexer": "ipython3",
   "version": "3.11.4"
  },
  "widgets": {
   "application/vnd.jupyter.widget-state+json": {
    "state": {
     "3382e191610f4103ad18765ab89847ed": {
      "model_module": "@jupyter-widgets/controls",
      "model_module_version": "2.0.0",
      "model_name": "HBoxModel",
      "state": {
       "children": [
        "IPY_MODEL_a63ff88620054f87a9308145604dbe50",
        "IPY_MODEL_8143029d81624d76bac6a4dae815e962",
        "IPY_MODEL_4c3cded3b8b0433296b8d63dcba9be3f",
        "IPY_MODEL_9da1a12ceaf44d3b970ce84025747950",
        "IPY_MODEL_384af5b6620a40feb84f857f293ac8eb"
       ],
       "layout": "IPY_MODEL_e2f9d001c69d4495990542a419452387"
      }
     },
     "384af5b6620a40feb84f857f293ac8eb": {
      "model_module": "@jupyter-widgets/controls",
      "model_module_version": "2.0.0",
      "model_name": "HTMLModel",
      "state": {
       "layout": "IPY_MODEL_b4363545baed44058bde28377bc51c3e",
       "style": "IPY_MODEL_8149e45c4b80427faa1fb0f3214bd137",
       "value": "<h5>Message</h5>"
      }
     },
     "44aca64cef504604a007d863f8a76b54": {
      "model_module": "@jupyter-widgets/controls",
      "model_module_version": "2.0.0",
      "model_name": "HTMLStyleModel",
      "state": {
       "description_width": "",
       "font_size": null,
       "text_color": null
      }
     },
     "47776a55a21744999f7accc10c8f606a": {
      "model_module": "@jupyter-widgets/controls",
      "model_module_version": "2.0.0",
      "model_name": "HTMLStyleModel",
      "state": {
       "description_width": "",
       "font_size": null,
       "text_color": null
      }
     },
     "4c3cded3b8b0433296b8d63dcba9be3f": {
      "model_module": "@jupyter-widgets/controls",
      "model_module_version": "2.0.0",
      "model_name": "HTMLModel",
      "state": {
       "layout": "IPY_MODEL_8c13f2c11ee94c57a95f9105f6858476",
       "style": "IPY_MODEL_f459b90dd454405a808a08102cadc6ad",
       "value": "<h5>Status</h5>"
      }
     },
     "67f0f6d2045a43d0b7bf269ffc6d8d75": {
      "model_module": "@jupyter-widgets/controls",
      "model_module_version": "2.0.0",
      "model_name": "HTMLModel",
      "state": {
       "layout": "IPY_MODEL_aa5cf97c763746dd9110fe8f543d9987",
       "style": "IPY_MODEL_47776a55a21744999f7accc10c8f606a",
       "value": "<p style='font-family: IBM Plex Sans, Arial, Helvetica, sans-serif; font-size: 20px; font-weight: medium;'>Circuit Properties</p>"
      }
     },
     "76d4e713fc244cb291511de60cd53744": {
      "model_module": "@jupyter-widgets/controls",
      "model_module_version": "2.0.0",
      "model_name": "GridBoxModel",
      "state": {
       "children": [
        "IPY_MODEL_f946943245a54412a0984baf1552037d"
       ],
       "layout": "IPY_MODEL_88cf3b5372b0443cbcfdb5d96bda4b67"
      }
     },
     "8143029d81624d76bac6a4dae815e962": {
      "model_module": "@jupyter-widgets/controls",
      "model_module_version": "2.0.0",
      "model_name": "HTMLModel",
      "state": {
       "layout": "IPY_MODEL_dacd57fb439c4c5ca3965ec83839bb39",
       "style": "IPY_MODEL_44aca64cef504604a007d863f8a76b54",
       "value": "<h5>Backend</h5>"
      }
     },
     "8149e45c4b80427faa1fb0f3214bd137": {
      "model_module": "@jupyter-widgets/controls",
      "model_module_version": "2.0.0",
      "model_name": "HTMLStyleModel",
      "state": {
       "description_width": "",
       "font_size": null,
       "text_color": null
      }
     },
     "88cf3b5372b0443cbcfdb5d96bda4b67": {
      "model_module": "@jupyter-widgets/base",
      "model_module_version": "2.0.0",
      "model_name": "LayoutModel",
      "state": {
       "grid_template_areas": "\n                                       \". . . . right \"\n                                        ",
       "grid_template_columns": "20% 20% 20% 20% 20%",
       "width": "100%"
      }
     },
     "8c13f2c11ee94c57a95f9105f6858476": {
      "model_module": "@jupyter-widgets/base",
      "model_module_version": "2.0.0",
      "model_name": "LayoutModel",
      "state": {
       "width": "95px"
      }
     },
     "92473aed1a8c41eab9f00ab0329658b9": {
      "model_module": "@jupyter-widgets/controls",
      "model_module_version": "2.0.0",
      "model_name": "HTMLStyleModel",
      "state": {
       "description_width": "",
       "font_size": null,
       "text_color": null
      }
     },
     "94959677e7b3447c87550a5e10380258": {
      "model_module": "@jupyter-widgets/controls",
      "model_module_version": "2.0.0",
      "model_name": "HTMLStyleModel",
      "state": {
       "description_width": "",
       "font_size": null,
       "text_color": null
      }
     },
     "9da1a12ceaf44d3b970ce84025747950": {
      "model_module": "@jupyter-widgets/controls",
      "model_module_version": "2.0.0",
      "model_name": "HTMLModel",
      "state": {
       "layout": "IPY_MODEL_b7e519e5d3944206b687d2391c1be37a",
       "style": "IPY_MODEL_92473aed1a8c41eab9f00ab0329658b9",
       "value": "<h5>Queue</h5>"
      }
     },
     "a63ff88620054f87a9308145604dbe50": {
      "model_module": "@jupyter-widgets/controls",
      "model_module_version": "2.0.0",
      "model_name": "HTMLModel",
      "state": {
       "layout": "IPY_MODEL_afca065c8af14a0587c671bf0f424067",
       "style": "IPY_MODEL_94959677e7b3447c87550a5e10380258",
       "value": "<h5>Job ID</h5>"
      }
     },
     "aa5cf97c763746dd9110fe8f543d9987": {
      "model_module": "@jupyter-widgets/base",
      "model_module_version": "2.0.0",
      "model_name": "LayoutModel",
      "state": {
       "margin": "0px 0px 10px 0px"
      }
     },
     "afca065c8af14a0587c671bf0f424067": {
      "model_module": "@jupyter-widgets/base",
      "model_module_version": "2.0.0",
      "model_name": "LayoutModel",
      "state": {
       "width": "190px"
      }
     },
     "b4363545baed44058bde28377bc51c3e": {
      "model_module": "@jupyter-widgets/base",
      "model_module_version": "2.0.0",
      "model_name": "LayoutModel",
      "state": {}
     },
     "b54477a04fac435d8f1ef41871c33cae": {
      "model_module": "@jupyter-widgets/base",
      "model_module_version": "2.0.0",
      "model_name": "LayoutModel",
      "state": {
       "grid_area": "right",
       "padding": "0px 0px 0px 0px",
       "width": "70px"
      }
     },
     "b7e519e5d3944206b687d2391c1be37a": {
      "model_module": "@jupyter-widgets/base",
      "model_module_version": "2.0.0",
      "model_name": "LayoutModel",
      "state": {
       "width": "70px"
      }
     },
     "ca5579f122c0477b990e025278e4e93f": {
      "model_module": "@jupyter-widgets/controls",
      "model_module_version": "2.0.0",
      "model_name": "ButtonStyleModel",
      "state": {
       "font_family": null,
       "font_size": null,
       "font_style": null,
       "font_variant": null,
       "font_weight": null,
       "text_color": null,
       "text_decoration": null
      }
     },
     "dacd57fb439c4c5ca3965ec83839bb39": {
      "model_module": "@jupyter-widgets/base",
      "model_module_version": "2.0.0",
      "model_name": "LayoutModel",
      "state": {
       "width": "145px"
      }
     },
     "e2f9d001c69d4495990542a419452387": {
      "model_module": "@jupyter-widgets/base",
      "model_module_version": "2.0.0",
      "model_name": "LayoutModel",
      "state": {
       "margin": "0px 0px 0px 37px",
       "width": "600px"
      }
     },
     "f459b90dd454405a808a08102cadc6ad": {
      "model_module": "@jupyter-widgets/controls",
      "model_module_version": "2.0.0",
      "model_name": "HTMLStyleModel",
      "state": {
       "description_width": "",
       "font_size": null,
       "text_color": null
      }
     },
     "f946943245a54412a0984baf1552037d": {
      "model_module": "@jupyter-widgets/controls",
      "model_module_version": "2.0.0",
      "model_name": "ButtonModel",
      "state": {
       "button_style": "primary",
       "description": "Clear",
       "layout": "IPY_MODEL_b54477a04fac435d8f1ef41871c33cae",
       "style": "IPY_MODEL_ca5579f122c0477b990e025278e4e93f",
       "tooltip": null
      }
     }
    },
    "version_major": 2,
    "version_minor": 0
   }
  }
 },
 "nbformat": 4,
 "nbformat_minor": 5
}
