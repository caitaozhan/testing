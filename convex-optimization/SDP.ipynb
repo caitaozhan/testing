{
 "cells": [
  {
   "cell_type": "markdown",
   "id": "378e5bb0",
   "metadata": {},
   "source": [
    "# Semidefinite Programming https://www.cvxpy.org/examples/basic/sdp.html"
   ]
  },
  {
   "cell_type": "code",
   "execution_count": 1,
   "id": "8872fb50",
   "metadata": {},
   "outputs": [],
   "source": [
    "import cvxpy as cp\n",
    "import numpy as np"
   ]
  },
  {
   "cell_type": "code",
   "execution_count": 28,
   "id": "b3d0eb04",
   "metadata": {},
   "outputs": [
    {
     "name": "stdout",
     "output_type": "stream",
     "text": [
      "The status: optimal\n",
      "The optimal value is: 2.6543515102316015\n",
      "A solution X is\n",
      " [[ 1.60805795 -0.59770492 -0.69576152]\n",
      " [-0.59770492  0.22229041  0.24689363]\n",
      " [-0.69576152  0.24689363  1.39679885]]\n"
     ]
    }
   ],
   "source": [
    "n = 3\n",
    "p = 3\n",
    "np.random.seed(1)\n",
    "C = np.random.randn(n, n)\n",
    "A = []\n",
    "b = []\n",
    "for i in range(p):\n",
    "    A.append(np.random.randn(n, n))\n",
    "    b.append(np.random.randn())\n",
    "    \n",
    "X = cp.Variable((n, n), symmetric=True)\n",
    "constraints = [X >> 0]\n",
    "constraints += [cp.trace(A[i] @ X) == b[i] for i in range(p)]\n",
    "prob = cp.Problem(cp.Minimize(cp.trace(C @ X)), constraints)\n",
    "prob.solve()\n",
    "\n",
    "print('The status:', prob.status)\n",
    "print('The optimal value is:', prob.value)\n",
    "print('A solution X is\\n', X.value)"
   ]
  },
  {
   "cell_type": "code",
   "execution_count": 29,
   "id": "4b92f32d",
   "metadata": {},
   "outputs": [
    {
     "data": {
      "text/plain": [
       "[PSD(Expression(AFFINE, UNKNOWN, (3, 3))),\n",
       " Equality(Expression(AFFINE, UNKNOWN, ()), Constant(CONSTANT, NONNEGATIVE, ())),\n",
       " Equality(Expression(AFFINE, UNKNOWN, ()), Constant(CONSTANT, NONPOSITIVE, ())),\n",
       " Equality(Expression(AFFINE, UNKNOWN, ()), Constant(CONSTANT, NONNEGATIVE, ()))]"
      ]
     },
     "execution_count": 29,
     "metadata": {},
     "output_type": "execute_result"
    }
   ],
   "source": [
    "constraints"
   ]
  },
  {
   "cell_type": "code",
   "execution_count": 30,
   "id": "b61d2f6a",
   "metadata": {},
   "outputs": [
    {
     "data": {
      "text/plain": [
       "Variable((3, 3), symmetric=True)"
      ]
     },
     "execution_count": 30,
     "metadata": {},
     "output_type": "execute_result"
    }
   ],
   "source": [
    "X"
   ]
  },
  {
   "cell_type": "code",
   "execution_count": 31,
   "id": "891515ba",
   "metadata": {},
   "outputs": [
    {
     "data": {
      "text/plain": [
       "Problem(Minimize(Expression(AFFINE, UNKNOWN, ())), [PSD(Expression(AFFINE, UNKNOWN, (3, 3))), Equality(Expression(AFFINE, UNKNOWN, ()), Constant(CONSTANT, NONNEGATIVE, ())), Equality(Expression(AFFINE, UNKNOWN, ()), Constant(CONSTANT, NONPOSITIVE, ())), Equality(Expression(AFFINE, UNKNOWN, ()), Constant(CONSTANT, NONNEGATIVE, ()))])"
      ]
     },
     "execution_count": 31,
     "metadata": {},
     "output_type": "execute_result"
    }
   ],
   "source": [
    "prob"
   ]
  },
  {
   "cell_type": "code",
   "execution_count": 41,
   "id": "9beafa92",
   "metadata": {},
   "outputs": [
    {
     "data": {
      "text/plain": [
       "array([[ 3.2161159 , -1.19540984, -1.39152305],\n",
       "       [-1.19540984,  0.44458083,  0.49378725],\n",
       "       [-1.39152305,  0.49378725,  2.79359769]])"
      ]
     },
     "execution_count": 41,
     "metadata": {},
     "output_type": "execute_result"
    }
   ],
   "source": [
    "lst = [X, X]\n",
    "sum(lst).value"
   ]
  },
  {
   "cell_type": "code",
   "execution_count": 64,
   "id": "15206339",
   "metadata": {},
   "outputs": [
    {
     "data": {
      "text/plain": [
       "9.68144163219791"
      ]
     },
     "execution_count": 64,
     "metadata": {},
     "output_type": "execute_result"
    }
   ],
   "source": [
    "lst = [X, X, X]\n",
    "np.trace(sum(lst).value)"
   ]
  },
  {
   "cell_type": "code",
   "execution_count": 44,
   "id": "f855fc35",
   "metadata": {},
   "outputs": [
    {
     "data": {
      "text/plain": [
       "str"
      ]
     },
     "execution_count": 44,
     "metadata": {},
     "output_type": "execute_result"
    }
   ],
   "source": [
    "type(prob.status)"
   ]
  },
  {
   "cell_type": "code",
   "execution_count": 48,
   "id": "410b24ee",
   "metadata": {},
   "outputs": [],
   "source": [
    "a = 1 + 0j"
   ]
  },
  {
   "cell_type": "code",
   "execution_count": 54,
   "id": "cce2936d",
   "metadata": {},
   "outputs": [
    {
     "data": {
      "text/plain": [
       "array([[ 1.60805795, -0.59770492, -0.69576152],\n",
       "       [-0.59770492,  0.22229041,  0.24689363],\n",
       "       [-0.69576152,  0.24689363,  1.39679885]])"
      ]
     },
     "execution_count": 54,
     "metadata": {},
     "output_type": "execute_result"
    }
   ],
   "source": [
    "X.value"
   ]
  },
  {
   "cell_type": "code",
   "execution_count": 52,
   "id": "661449e7",
   "metadata": {},
   "outputs": [
    {
     "data": {
      "text/plain": [
       "array(3.22714721)"
      ]
     },
     "execution_count": 52,
     "metadata": {},
     "output_type": "execute_result"
    }
   ],
   "source": [
    "cp.trace(X).value"
   ]
  },
  {
   "cell_type": "code",
   "execution_count": 63,
   "id": "63e42a13",
   "metadata": {},
   "outputs": [
    {
     "data": {
      "text/plain": [
       "3.2271472107326367"
      ]
     },
     "execution_count": 63,
     "metadata": {},
     "output_type": "execute_result"
    }
   ],
   "source": [
    "np.trace(X.value)"
   ]
  },
  {
   "cell_type": "code",
   "execution_count": null,
   "id": "cdc24fc5",
   "metadata": {},
   "outputs": [],
   "source": []
  }
 ],
 "metadata": {
  "kernelspec": {
   "display_name": "Python 3 (ipykernel)",
   "language": "python",
   "name": "python3"
  },
  "language_info": {
   "codemirror_mode": {
    "name": "ipython",
    "version": 3
   },
   "file_extension": ".py",
   "mimetype": "text/x-python",
   "name": "python",
   "nbconvert_exporter": "python",
   "pygments_lexer": "ipython3",
   "version": "3.8.5"
  }
 },
 "nbformat": 4,
 "nbformat_minor": 5
}
