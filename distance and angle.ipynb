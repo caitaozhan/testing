{
 "cells": [
  {
   "cell_type": "code",
   "execution_count": 10,
   "metadata": {},
   "outputs": [],
   "source": [
    "import math\n",
    "import numpy as np"
   ]
  },
  {
   "cell_type": "code",
   "execution_count": 14,
   "metadata": {},
   "outputs": [],
   "source": [
    "def point_to_vector_distance(p1, p2, x0, y0):\n",
    "    '''Implementation of: https://en.wikipedia.org/wiki/Distance_from_a_point_to_a_line\n",
    "       distance of (x0,y0) from the line that passes through two points P1=(x1,y1) and P2=(x2,y2)\n",
    "    Args:\n",
    "        p1 -- (float, float)\n",
    "        p2 -- (float, float)\n",
    "        x0 -- float\n",
    "        y0 -- float\n",
    "    Return:\n",
    "        float\n",
    "    '''\n",
    "    x1, y1 = p1[0], p1[1]\n",
    "    x2, y2 = p2[0], p2[1]\n",
    "    numerator = abs( (y2-y1)*x0 - (x2-x1)*y0 + x2*y1 - y2*x1)\n",
    "    denominator = math.sqrt((y2-y1)**2 + (x2-x1)**2)\n",
    "    return numerator/denominator"
   ]
  },
  {
   "cell_type": "code",
   "execution_count": 7,
   "metadata": {},
   "outputs": [
    {
     "name": "stdout",
     "output_type": "stream",
     "text": [
      "(3, 1) 1.0\n",
      "(3, 3) 1.0\n",
      "(2, 2) 0.0\n",
      "(4, 2) 0.0\n"
     ]
    }
   ],
   "source": [
    "tx = (1, 2)\n",
    "rx0 = (3, 2)\n",
    "rx_list = [(3, 1), (3, 3), (2, 2), (4, 2)]\n",
    "\n",
    "for rx in rx_list:\n",
    "    print(rx, point_to_vector_distance(tx, rx0, rx[0], rx[1]))"
   ]
  },
  {
   "cell_type": "code",
   "execution_count": 8,
   "metadata": {},
   "outputs": [
    {
     "name": "stdout",
     "output_type": "stream",
     "text": [
      "(1, 2) 0.7071067811865475\n",
      "(3, 1) 1.414213562373095\n",
      "(3, 2) 0.7071067811865475\n",
      "(4, 2) 1.414213562373095\n"
     ]
    }
   ],
   "source": [
    "tx = (2, 2)\n",
    "rx0 = (3, 3)\n",
    "rx_list = [(1, 2), (3, 1), (3, 2), (4, 2)]\n",
    "\n",
    "for rx in rx_list:\n",
    "    print(rx, point_to_vector_distance(tx, rx0, rx[0], rx[1]))"
   ]
  },
  {
   "cell_type": "code",
   "execution_count": 26,
   "metadata": {},
   "outputs": [],
   "source": [
    "def get_angle(a, b):\n",
    "    '''get the angle between vector a and vector b\n",
    "    Args:\n",
    "        a -- (float, float)\n",
    "        b -- (float, float)\n",
    "    Return:\n",
    "        float\n",
    "    '''\n",
    "    numerator = np.dot(a, b)\n",
    "    denominator = math.sqrt((a[0]**2 + a[1]**2) * math.sqrt(b[0]**2) + b[1]**2 )\n",
    "    cos_angle = numerator/denominator\n",
    "    return np.arccos(cos_angle) * 180 / math.pi"
   ]
  },
  {
   "cell_type": "code",
   "execution_count": 28,
   "metadata": {},
   "outputs": [
    {
     "name": "stdout",
     "output_type": "stream",
     "text": [
      "(1, 1.7320508075688772) (1, 0) 59.99999999999999\n"
     ]
    }
   ],
   "source": [
    "a = (1, math.sqrt(3))\n",
    "b = (1, 0)\n",
    "\n",
    "print(a, b, get_angle(a, b))"
   ]
  },
  {
   "cell_type": "code",
   "execution_count": 29,
   "metadata": {},
   "outputs": [
    {
     "name": "stdout",
     "output_type": "stream",
     "text": [
      "(1, -1.7320508075688772) (1, 0) 59.99999999999999\n"
     ]
    }
   ],
   "source": [
    "a = (1, -math.sqrt(3))\n",
    "b = (1, 0)\n",
    "\n",
    "print(a, b, get_angle(a, b))"
   ]
  },
  {
   "cell_type": "code",
   "execution_count": 30,
   "metadata": {},
   "outputs": [
    {
     "name": "stdout",
     "output_type": "stream",
     "text": [
      "(-1, -1.7320508075688772) (1, 0) 120.00000000000001\n"
     ]
    }
   ],
   "source": [
    "a = (-1, -math.sqrt(3))\n",
    "b = (1, 0)\n",
    "\n",
    "print(a, b, get_angle(a, b))"
   ]
  },
  {
   "cell_type": "code",
   "execution_count": null,
   "metadata": {},
   "outputs": [],
   "source": []
  }
 ],
 "metadata": {
  "kernelspec": {
   "display_name": "Python 3",
   "language": "python",
   "name": "python3"
  },
  "language_info": {
   "codemirror_mode": {
    "name": "ipython",
    "version": 3
   },
   "file_extension": ".py",
   "mimetype": "text/x-python",
   "name": "python",
   "nbconvert_exporter": "python",
   "pygments_lexer": "ipython3",
   "version": "3.6.7"
  }
 },
 "nbformat": 4,
 "nbformat_minor": 2
}
