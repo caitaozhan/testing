{
 "cells": [
  {
   "cell_type": "code",
   "execution_count": 1,
   "metadata": {},
   "outputs": [],
   "source": [
    "import numpy as np\n",
    "from numba import cuda, float64\n",
    "import time\n",
    "import math"
   ]
  },
  {
   "cell_type": "markdown",
   "metadata": {},
   "source": [
    "# 1 The data"
   ]
  },
  {
   "cell_type": "code",
   "execution_count": 2,
   "metadata": {},
   "outputs": [
    {
     "name": "stdout",
     "output_type": "stream",
     "text": [
      "(3912038, 31)\n"
     ]
    }
   ],
   "source": [
    "arr = np.loadtxt('1.csv', delimiter=',', skiprows=1, usecols=range(1, 32))  # takes more than 40s to load data\n",
    "print(arr.shape)"
   ]
  },
  {
   "cell_type": "code",
   "execution_count": 3,
   "metadata": {},
   "outputs": [
    {
     "data": {
      "text/plain": [
       "array([0., 1., 0., 0., 0., 1., 0., 0., 0., 0., 0., 1., 0., 1., 0., 1., 0.,\n",
       "       1., 1., 1., 0., 1., 0., 1., 0., 1., 0., 0., 1., 0., 0.])"
      ]
     },
     "execution_count": 3,
     "metadata": {},
     "output_type": "execute_result"
    }
   ],
   "source": [
    "arr[0]"
   ]
  },
  {
   "cell_type": "code",
   "execution_count": 4,
   "metadata": {},
   "outputs": [
    {
     "data": {
      "text/plain": [
       "array([[ 0.,  1.,  0., ...,  1.,  0.,  0.],\n",
       "       [ 0.,  0.,  0., ...,  1.,  0.,  0.],\n",
       "       [ 0.,  1.,  0., ...,  1.,  0.,  0.],\n",
       "       ...,\n",
       "       [ 0.,  0.,  2., ..., 27.,  0.,  0.],\n",
       "       [ 0.,  0.,  2., ..., 27.,  0.,  0.],\n",
       "       [ 0.,  0.,  2., ..., 27.,  0.,  0.]])"
      ]
     },
     "execution_count": 4,
     "metadata": {},
     "output_type": "execute_result"
    }
   ],
   "source": [
    "arr"
   ]
  },
  {
   "cell_type": "markdown",
   "metadata": {},
   "source": [
    "# 2 Problem"
   ]
  },
  {
   "cell_type": "markdown",
   "metadata": {},
   "source": [
    "计算两两行之间相同的单元格是否相等，相等保留原值，不等变为零\n",
    "\n",
    "由于输出太大，只计算所有行和第一行做比较"
   ]
  },
  {
   "cell_type": "markdown",
   "metadata": {},
   "source": [
    "# 3 Solve it in CPU"
   ]
  },
  {
   "cell_type": "code",
   "execution_count": 17,
   "metadata": {},
   "outputs": [],
   "source": [
    "def compare_two_lines(line1, line2, output, indx):\n",
    "    for i in range(len(line1)):\n",
    "        if line2[i] == line1[i]:\n",
    "            output[indx, i] = line2[i]  # 保留原值\n",
    "        else:\n",
    "            output[indx, i] = 0         # 变为零"
   ]
  },
  {
   "cell_type": "code",
   "execution_count": 18,
   "metadata": {},
   "outputs": [
    {
     "name": "stdout",
     "output_type": "stream",
     "text": [
      "[0. 1. 0. 0. 0. 1. 0. 0. 0. 0. 0. 1. 0. 1. 0. 1. 0. 1. 1. 1. 0. 1. 0. 1.\n",
      " 0. 1. 0. 0. 1. 0. 0.]\n",
      "\n",
      "time: 36.77397704124451s\n"
     ]
    }
   ],
   "source": [
    "start = time.time()\n",
    "\n",
    "output_cpu = np.zeros(arr.shape)\n",
    "first_line = arr[0]\n",
    "print(first_line)\n",
    "for i in range(len(output_cpu)):\n",
    "    compare_two_lines(first_line, arr[i], output_cpu, i)\n",
    "\n",
    "print('\\ntime: {}s'.format((time.time()-start)))"
   ]
  },
  {
   "cell_type": "code",
   "execution_count": 19,
   "metadata": {},
   "outputs": [
    {
     "data": {
      "text/plain": [
       "array([[0., 1., 0., ..., 1., 0., 0.],\n",
       "       [0., 0., 0., ..., 1., 0., 0.],\n",
       "       [0., 1., 0., ..., 1., 0., 0.],\n",
       "       ...,\n",
       "       [0., 0., 0., ..., 0., 0., 0.],\n",
       "       [0., 0., 0., ..., 0., 0., 0.],\n",
       "       [0., 0., 0., ..., 0., 0., 0.]])"
      ]
     },
     "execution_count": 19,
     "metadata": {},
     "output_type": "execute_result"
    }
   ],
   "source": [
    "output_cpu"
   ]
  },
  {
   "cell_type": "markdown",
   "metadata": {},
   "source": [
    "# 4 Solve it in GPU"
   ]
  },
  {
   "cell_type": "code",
   "execution_count": 8,
   "metadata": {},
   "outputs": [],
   "source": [
    "@cuda.jit\n",
    "def kernel(first, array, output):\n",
    "    i, j = cuda.grid(2)\n",
    "    if i < output.shape[0] and j < output.shape[1]:\n",
    "        if array[i][j] == first[j]:\n",
    "            output[i][j] = array[i][j]\n",
    "        else:\n",
    "            output[i][j] = 0"
   ]
  },
  {
   "cell_type": "code",
   "execution_count": 9,
   "metadata": {},
   "outputs": [],
   "source": [
    "def host(array):\n",
    "    d_first = cuda.to_device(array[0])  # changing to integer will speed up ?\n",
    "    d_array = cuda.to_device(array)\n",
    "    d_output = cuda.device_array(array.shape, np.float64)\n",
    "    \n",
    "    TPB = 32\n",
    "    threadsperblock = (TPB, TPB)\n",
    "    blockspergrid_x = math.ceil(array.shape[0]/TPB)\n",
    "    blockspergrid_y = math.ceil(array.shape[1]/TPB)\n",
    "    blockspergrid   = (blockspergrid_x, blockspergrid_y)\n",
    "    print('blocks per grid ', blockspergrid)\n",
    "    print('threads per grid', threadsperblock)\n",
    "    \n",
    "    kernel[blockspergrid, threadsperblock](d_first, d_array, d_output)\n",
    "    \n",
    "    return d_output.copy_to_host()"
   ]
  },
  {
   "cell_type": "code",
   "execution_count": 10,
   "metadata": {},
   "outputs": [
    {
     "name": "stdout",
     "output_type": "stream",
     "text": [
      "blocks per grid  (122252, 1)\n",
      "threads per grid (32, 32)\n",
      "\n",
      "time: 0.7456362247467041s\n"
     ]
    }
   ],
   "source": [
    "start = time.time()\n",
    "\n",
    "output_gpu = host(arr)\n",
    "\n",
    "print('\\ntime: {}s'.format((time.time()-start)))"
   ]
  },
  {
   "cell_type": "code",
   "execution_count": 11,
   "metadata": {},
   "outputs": [
    {
     "data": {
      "text/plain": [
       "array([[0., 1., 0., ..., 1., 0., 0.],\n",
       "       [0., 0., 0., ..., 1., 0., 0.],\n",
       "       [0., 1., 0., ..., 1., 0., 0.],\n",
       "       ...,\n",
       "       [0., 0., 0., ..., 0., 0., 0.],\n",
       "       [0., 0., 0., ..., 0., 0., 0.],\n",
       "       [0., 0., 0., ..., 0., 0., 0.]])"
      ]
     },
     "execution_count": 11,
     "metadata": {},
     "output_type": "execute_result"
    }
   ],
   "source": [
    "output_gpu"
   ]
  },
  {
   "cell_type": "markdown",
   "metadata": {},
   "source": [
    "# 5 Check CPU and GPU are getting the same results"
   ]
  },
  {
   "cell_type": "code",
   "execution_count": 20,
   "metadata": {},
   "outputs": [
    {
     "data": {
      "text/plain": [
       "(0.0, 0.0)"
      ]
     },
     "execution_count": 20,
     "metadata": {},
     "output_type": "execute_result"
    }
   ],
   "source": [
    "np.min(output_gpu - output_cpu), np.max(output_gpu - output_cpu)"
   ]
  },
  {
   "cell_type": "markdown",
   "metadata": {},
   "source": [
    "结果一模一样。\n",
    "\n",
    "时间从36.7s减少到0.74s。速度提升大约50倍。"
   ]
  },
  {
   "cell_type": "code",
   "execution_count": null,
   "metadata": {},
   "outputs": [],
   "source": []
  }
 ],
 "metadata": {
  "kernelspec": {
   "display_name": "Python 3",
   "language": "python",
   "name": "python3"
  },
  "language_info": {
   "codemirror_mode": {
    "name": "ipython",
    "version": 3
   },
   "file_extension": ".py",
   "mimetype": "text/x-python",
   "name": "python",
   "nbconvert_exporter": "python",
   "pygments_lexer": "ipython3",
   "version": "3.7.3"
  }
 },
 "nbformat": 4,
 "nbformat_minor": 2
}
