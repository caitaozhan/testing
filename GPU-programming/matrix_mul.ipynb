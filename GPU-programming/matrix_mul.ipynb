{
 "cells": [
  {
   "cell_type": "markdown",
   "metadata": {},
   "source": [
    "# Jupyter Notebook 运行矩阵相乘的结果\n",
    "### 运行环境：\n",
    "1. Google Cloud\n",
    "2. GPU: Nvidia Telsa P100, 显存: 16G\n",
    "3. CPU: 双核 Intel(R) Xeon(R) CPU @ 2.00GHz\n",
    "4. 内存: 10G\n",
    "5. Python: 2018.12月的Anaconda3\n",
    "6. CUDA: cudatoolkit 10.0"
   ]
  },
  {
   "cell_type": "markdown",
   "metadata": {},
   "source": [
    "# 1 代码"
   ]
  },
  {
   "cell_type": "markdown",
   "metadata": {},
   "source": [
    "这个NYU的教程帮助我理解GPU编程很多\n",
    "\n",
    "https://nyu-cds.github.io/python-numba/05-cuda/"
   ]
  },
  {
   "cell_type": "code",
   "execution_count": 1,
   "metadata": {},
   "outputs": [],
   "source": [
    "'''\n",
    "Matrix multiplication sample, some numba and CUDA testing code\n",
    "'''\n",
    "import math\n",
    "import time\n",
    "import numpy as np\n",
    "from numba import cuda, jit, float64\n",
    "\n",
    "TPB = 32 # thread per block\n",
    "\n",
    "def cpu_mat_mul(A, B, C):\n",
    "    '''matrix mulplication on cpu, O(n^3) implementation\n",
    "    '''\n",
    "    for i in range(C.shape[0]):\n",
    "        for j in range(C.shape[1]):\n",
    "            summation = 0\n",
    "            for k in range(A.shape[1]):\n",
    "                summation += A[i, k] * B[k, j]\n",
    "            C[i, j] = summation\n",
    "\n",
    "@jit\n",
    "def cpu_mat_mul_jit(A, B, C):\n",
    "    '''matrix mulplication on cpu O(n^3) implementation with @jit decocation\n",
    "    '''\n",
    "    for i in range(C.shape[0]):\n",
    "        for j in range(C.shape[1]):\n",
    "            summation = 0\n",
    "            for k in range(A.shape[1]):\n",
    "                summation += A[i, k] * B[k, j]\n",
    "            C[i, j] = summation\n",
    "\n",
    "@cuda.jit\n",
    "def mat_mul_naive_kernal(A, B, C):\n",
    "    '''matrix multiplication on gpu, naive method using global device memory\n",
    "    '''\n",
    "    i, j = cuda.grid(2)\n",
    "    if i < C.shape[0] and j < C.shape[1]:\n",
    "        summation = 0\n",
    "        for k in range(A.shape[1]):\n",
    "            summation += A[i, k] * B[k, j]\n",
    "        C[i, j] = summation\n",
    "\n",
    "@cuda.jit\n",
    "def mat_mul_shared_kernal(A, B, C):\n",
    "    '''matrix multiplication on gpu, optimized version using shared memory.\n",
    "    '''\n",
    "    s_A = cuda.shared.array((TPB, TPB), dtype=float64)  # s_ --> shared\n",
    "    s_B = cuda.shared.array((TPB, TPB), dtype=float64)\n",
    "    x, y = cuda.grid(2)\n",
    "    tx = cuda.threadIdx.x\n",
    "    ty = cuda.threadIdx.y\n",
    "    bw = cuda.blockDim.x\n",
    "    bh = cuda.blockDim.y\n",
    "    #print((x, y), (tx, ty), (bx, by), (bw, bh))\n",
    "\n",
    "    if x >= C.shape[0] or y >= C.shape[1]:\n",
    "        return\n",
    "\n",
    "    tmp = 0\n",
    "    for i in range(int(A.shape[1]/TPB)):\n",
    "        #print((x, y), (tx, ty), i)\n",
    "        s_A[tx, ty] = A[x, ty + bw*i]\n",
    "        s_B[tx, ty] = B[tx + bh*i, y]\n",
    "        cuda.syncthreads()\n",
    "\n",
    "        for j in range(TPB):\n",
    "            tmp += s_A[tx, j] * s_B[j, ty]\n",
    "\n",
    "        cuda.syncthreads()\n",
    "    C[x, y] = tmp\n",
    "\n",
    "\n",
    "def host_naive(A, B, C):\n",
    "    '''host code for calling naive kernal\n",
    "    '''\n",
    "    d_A = cuda.to_device(A)  # d_ --> device\n",
    "    d_B = cuda.to_device(B)\n",
    "    d_C = cuda.device_array(C.shape, np.float64)\n",
    "\n",
    "    threadsperblock = (TPB, TPB)\n",
    "    blockspergrid_x = math.ceil(A.shape[0]/threadsperblock[0])\n",
    "    blockspergrid_y = math.ceil(B.shape[1]/threadsperblock[1])\n",
    "    blockspergrid = (blockspergrid_x, blockspergrid_y)\n",
    "\n",
    "    mat_mul_naive_kernal[blockspergrid, threadsperblock](d_A, d_B, d_C)\n",
    "\n",
    "    return d_C.copy_to_host()\n",
    "\n",
    "\n",
    "def host_optimized(A, B, C):\n",
    "    '''host code for calling naive kernal\n",
    "    '''\n",
    "    d_A = cuda.to_device(A)  # d_ --> device\n",
    "    d_B = cuda.to_device(B)\n",
    "    d_C = cuda.device_array(C.shape, np.float64)\n",
    "\n",
    "    threadsperblock = (TPB, TPB)\n",
    "    blockspergrid_x = math.ceil(A.shape[0]/threadsperblock[0])\n",
    "    blockspergrid_y = math.ceil(B.shape[1]/threadsperblock[1])\n",
    "    blockspergrid = (blockspergrid_x, blockspergrid_y)\n",
    "\n",
    "    mat_mul_shared_kernal[blockspergrid, threadsperblock](d_A, d_B, d_C)\n",
    "\n",
    "    return d_C.copy_to_host()\n",
    "\n"
   ]
  },
  {
   "cell_type": "markdown",
   "metadata": {},
   "source": [
    "#  2 小数据集测试正确性"
   ]
  },
  {
   "cell_type": "code",
   "execution_count": 3,
   "metadata": {},
   "outputs": [
    {
     "name": "stdout",
     "output_type": "stream",
     "text": [
      "cpu mat mul: 0.9127058982849121\n",
      "cpu mat mul with numba.jit: 0.0022644996643066406\n",
      "gpu mat mul global: 0.9633159637451172\n",
      "[[192. 192. 192. ... 192. 192. 192.]\n",
      " [192. 192. 192. ... 192. 192. 192.]\n",
      " [192. 192. 192. ... 192. 192. 192.]\n",
      " ...\n",
      " [192. 192. 192. ... 192. 192. 192.]\n",
      " [192. 192. 192. ... 192. 192. 192.]\n",
      " [192. 192. 192. ... 192. 192. 192.]]\n",
      "gpu mat mul shared: 0.21467018127441406\n",
      "[[192. 192. 192. ... 192. 192. 192.]\n",
      " [192. 192. 192. ... 192. 192. 192.]\n",
      " [192. 192. 192. ... 192. 192. 192.]\n",
      " ...\n",
      " [192. 192. 192. ... 192. 192. 192.]\n",
      " [192. 192. 192. ... 192. 192. 192.]\n",
      " [192. 192. 192. ... 192. 192. 192.]]\n"
     ]
    }
   ],
   "source": [
    "def main():\n",
    "    '''main\n",
    "    '''\n",
    "    A = np.full((TPB*4, TPB*6), 0.5, dtype=np.float64)\n",
    "    B = np.full((TPB*6, TPB*2), 2, dtype=np.float64)\n",
    "    C = np.full((TPB*4, TPB*2), 0, dtype=np.float64)\n",
    "\n",
    "    start = time.time()\n",
    "    cpu_mat_mul(A, B, C)\n",
    "    print('cpu mat mul:', time.time()-start)\n",
    "\n",
    "    start = time.time()\n",
    "    cpu_mat_mul_jit(A, B, C)\n",
    "    print('cpu mat mul with numba.jit:', time.time()-start)\n",
    "\n",
    "    start = time.time()\n",
    "    ans = host_naive(A, B, C)\n",
    "    print('gpu mat mul global:', time.time()-start)\n",
    "    print(ans)\n",
    "    \n",
    "    start = time.time()\n",
    "    ans = host_optimized(A, B, C)\n",
    "    print('gpu mat mul shared:', time.time()-start)\n",
    "    print(ans)\n",
    "\n",
    "main()"
   ]
  },
  {
   "cell_type": "markdown",
   "metadata": {},
   "source": [
    "## 结论\n",
    "1. 结果矩阵的每一个元素是$32\\times6\\times(2\\times0.5) = 192$，结果正确。\n",
    "2. 此时最快的是CPU+numba.jit的版本，为0.00226秒，GPU版本的没有优势，因为data transmission 的overhead"
   ]
  },
  {
   "cell_type": "markdown",
   "metadata": {},
   "source": [
    "# 3 中数据集看看GPU能加速多少"
   ]
  },
  {
   "cell_type": "code",
   "execution_count": 4,
   "metadata": {},
   "outputs": [
    {
     "name": "stdout",
     "output_type": "stream",
     "text": [
      "cpu mat mul: 873.3324582576752\n",
      "cpu mat mul with numba.jit: 11.214848041534424\n",
      "gpu mat mul global: 0.04427981376647949\n",
      "[[1920. 1920. 1920. ... 1920. 1920. 1920.]\n",
      " [1920. 1920. 1920. ... 1920. 1920. 1920.]\n",
      " [1920. 1920. 1920. ... 1920. 1920. 1920.]\n",
      " ...\n",
      " [1920. 1920. 1920. ... 1920. 1920. 1920.]\n",
      " [1920. 1920. 1920. ... 1920. 1920. 1920.]\n",
      " [1920. 1920. 1920. ... 1920. 1920. 1920.]]\n",
      "gpu mat mul shared: 0.04383087158203125\n",
      "[[1920. 1920. 1920. ... 1920. 1920. 1920.]\n",
      " [1920. 1920. 1920. ... 1920. 1920. 1920.]\n",
      " [1920. 1920. 1920. ... 1920. 1920. 1920.]\n",
      " ...\n",
      " [1920. 1920. 1920. ... 1920. 1920. 1920.]\n",
      " [1920. 1920. 1920. ... 1920. 1920. 1920.]\n",
      " [1920. 1920. 1920. ... 1920. 1920. 1920.]]\n"
     ]
    }
   ],
   "source": [
    "def main():\n",
    "    '''main\n",
    "    '''\n",
    "    A = np.full((TPB*40, TPB*60), 0.5, dtype=np.float64)\n",
    "    B = np.full((TPB*60, TPB*20), 2, dtype=np.float64)\n",
    "    C = np.full((TPB*40, TPB*20), 0, dtype=np.float64)\n",
    "\n",
    "    start = time.time()\n",
    "    cpu_mat_mul(A, B, C)\n",
    "    print('cpu mat mul:', time.time()-start)\n",
    "\n",
    "    start = time.time()\n",
    "    cpu_mat_mul_jit(A, B, C)\n",
    "    print('cpu mat mul with numba.jit:', time.time()-start)\n",
    "\n",
    "    start = time.time()\n",
    "    ans = host_naive(A, B, C)\n",
    "    print('gpu mat mul global:', time.time()-start)\n",
    "    print(ans)\n",
    "    \n",
    "    start = time.time()\n",
    "    ans = host_optimized(A, B, C)\n",
    "    print('gpu mat mul shared:', time.time()-start)\n",
    "    print(ans)\n",
    "\n",
    "main()"
   ]
  },
  {
   "cell_type": "markdown",
   "metadata": {},
   "source": [
    "## 结论\n",
    "1. numba.jit $\\ \\ \\ \\ $加速 $873.3\\div11.2 = 78$ 倍\n",
    "2. GPU global $\\ $加速 $873.3\\div0.04427 = 19726$ 倍\n",
    "3. GPU shared 加速 $873.3\\div0.04383 = 19924$ 倍"
   ]
  },
  {
   "cell_type": "markdown",
   "metadata": {},
   "source": [
    "# 4 大数据只测试GPU"
   ]
  },
  {
   "cell_type": "code",
   "execution_count": 3,
   "metadata": {},
   "outputs": [
    {
     "name": "stdout",
     "output_type": "stream",
     "text": [
      "gpu mat mul global: 74.07195711135864\n",
      "gpu mat mul shared: 69.90934872627258\n"
     ]
    }
   ],
   "source": [
    "def main():\n",
    "    '''main\n",
    "    '''\n",
    "    A = np.full((TPB*512, TPB*512), 0.5, dtype=np.float64)\n",
    "    B = np.full((TPB*512, TPB*512), 2, dtype=np.float64)\n",
    "    C = np.full((TPB*512, TPB*512), 0, dtype=np.float64)\n",
    "\n",
    "    start = time.time()\n",
    "    host_naive(A, B, C)\n",
    "    print('gpu mat mul global:', time.time()-start)\n",
    "    \n",
    "    start = time.time()\n",
    "    host_optimized(A, B, C)\n",
    "    print('gpu mat mul shared:', time.time()-start)\n",
    "\n",
    "main()"
   ]
  },
  {
   "cell_type": "markdown",
   "metadata": {},
   "source": [
    "## 结论\n",
    "1. Shared 比 global 加速 $74.07\\div69.90 = 1.06$ 倍"
   ]
  },
  {
   "cell_type": "markdown",
   "metadata": {},
   "source": [
    "# 5 来做一个图"
   ]
  },
  {
   "cell_type": "code",
   "execution_count": 2,
   "metadata": {},
   "outputs": [],
   "source": [
    "def plot(N):\n",
    "    '''main\n",
    "    '''\n",
    "    A = np.full((TPB*N, TPB*N), 0.5, dtype=np.float64)\n",
    "    B = np.full((TPB*N, TPB*N), 2, dtype=np.float64)\n",
    "    C = np.full((TPB*N, TPB*N), 0, dtype=np.float64)\n",
    "\n",
    "    cpu, cpu_jit, gpu_global, gpu_share = None, None, None, None\n",
    "    \n",
    "    if N <= 16:\n",
    "        start = time.time()\n",
    "        cpu_mat_mul(A, B, C)\n",
    "        cpu = time.time() - start\n",
    "\n",
    "    if N <= 64:\n",
    "        start = time.time()\n",
    "        cpu_mat_mul_jit(A, B, C)\n",
    "        cpu_jit = time.time() - start\n",
    "\n",
    "    start = time.time()\n",
    "    host_naive(A, B, C)\n",
    "    gpu_global = time.time() - start\n",
    "    \n",
    "    start = time.time()\n",
    "    host_optimized(A, B, C)\n",
    "    gpu_share = time.time() - start\n",
    "    return cpu, cpu_jit, gpu_global, gpu_share"
   ]
  },
  {
   "cell_type": "code",
   "execution_count": 3,
   "metadata": {},
   "outputs": [],
   "source": [
    "N = [1, 2, 4, 8, 16, 32, 64, 128, 256, 512]\n",
    "X = [TPB*n for n in N]\n",
    "Y_CPU = []\n",
    "Y_CPU_jit = []\n",
    "Y_GPU_global = []\n",
    "Y_GPU_shared = []\n",
    "\n",
    "for n in N:\n",
    "    cpu, cpu_jit, gpu_global, gpu_share = plot(n)\n",
    "    if cpu:\n",
    "        Y_CPU.append(cpu)\n",
    "    if cpu_jit:\n",
    "        Y_CPU_jit.append(cpu_jit)\n",
    "    Y_GPU_global.append(gpu_global)\n",
    "    Y_GPU_shared.append(gpu_share)"
   ]
  },
  {
   "cell_type": "code",
   "execution_count": 18,
   "metadata": {},
   "outputs": [
    {
     "data": {
      "image/png": "[encoded data removed]",
      "text/plain": [
       "<Figure size 1152x720 with 1 Axes>"
      ]
     },
     "metadata": {
      "needs_background": "light"
     },
     "output_type": "display_data"
    }
   ],
   "source": [
    "import matplotlib.pyplot as plt\n",
    "plt.figure(figsize=(16, 10))\n",
    "\n",
    "X = [TPB*n for n in [1, 2, 4, 8, 16]]\n",
    "plt.plot(np.log2(X), Y_CPU, marker='o')\n",
    "\n",
    "X = [TPB*n for n in [1, 2, 4, 8, 16, 32, 64]]\n",
    "plt.plot(np.log2(X), Y_CPU_jit, marker='o')\n",
    "\n",
    "X = [TPB*n for n in [1, 2, 4, 8, 16, 32, 64, 128, 256, 512]]\n",
    "plt.plot(np.log2(X), Y_GPU_global, marker='o')\n",
    "\n",
    "X = [TPB*n for n in [1, 2, 4, 8, 16, 32, 64, 128, 256, 512]]\n",
    "plt.plot(np.log2(X), Y_GPU_shared, marker='o')\n",
    "plt.xlabel('N length of matrix (log2 scaled)', fontsize=16)\n",
    "plt.ylabel('Time (seonds)', fontsize=16)\n",
    "plt.xticks(range(5, 15, 1))\n",
    "plt.title('Time of Matrix Multiplication Using CPU and GPU', fontsize=24)\n",
    "\n",
    "plt.legend(['CPU', 'CPU+numba.jit', 'GPU global', 'GPU shared'], prop={'size':20})\n",
    "plt.savefig('MatMul.png')"
   ]
  },
  {
   "cell_type": "markdown",
   "metadata": {},
   "source": [
    "### 注：对X坐标做了np.log2\n",
    "1. $2^9 = 512$，此时 CPU 超过一分钟了\n",
    "2. $2^{11} = 2048$，此时 CPU+numba.jit 超过一分钟了\n",
    "3. $2^{14} = 16384$，此时 GPU 超过一分钟了"
   ]
  },
  {
   "cell_type": "code",
   "execution_count": 14,
   "metadata": {},
   "outputs": [
    {
     "data": {
      "text/plain": [
       "16384"
      ]
     },
     "execution_count": 14,
     "metadata": {},
     "output_type": "execute_result"
    }
   ],
   "source": [
    "np.power(2, 14)"
   ]
  },
  {
   "cell_type": "code",
   "execution_count": 26,
   "metadata": {},
   "outputs": [
    {
     "data": {
      "text/plain": [
       "2147483760"
      ]
     },
     "execution_count": 26,
     "metadata": {},
     "output_type": "execute_result"
    }
   ],
   "source": [
    "import sys\n",
    "sys.getsizeof(np.zeros((16384, 16384), dtype=np.float))"
   ]
  },
  {
   "cell_type": "markdown",
   "metadata": {},
   "source": [
    "#### 一个(16384, 16384)的数组，已经超过2G的内存了，这样大的数组在CPU和GPU之间传输是需要花不少时间的"
   ]
  },
  {
   "cell_type": "code",
   "execution_count": null,
   "metadata": {},
   "outputs": [],
   "source": []
  }
 ],
 "metadata": {
  "kernelspec": {
   "display_name": "Python 3",
   "language": "python",
   "name": "python3"
  },
  "language_info": {
   "codemirror_mode": {
    "name": "ipython",
    "version": 3
   },
   "file_extension": ".py",
   "mimetype": "text/x-python",
   "name": "python",
   "nbconvert_exporter": "python",
   "pygments_lexer": "ipython3",
   "version": "3.7.1"
  }
 },
 "nbformat": 4,
 "nbformat_minor": 2
}
