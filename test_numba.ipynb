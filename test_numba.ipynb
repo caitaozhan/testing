{
 "cells": [
  {
   "cell_type": "code",
   "execution_count": 12,
   "metadata": {
    "collapsed": true
   },
   "outputs": [],
   "source": [
    "import numpy as np\n",
    "from numba import jit"
   ]
  },
  {
   "cell_type": "code",
   "execution_count": 13,
   "metadata": {
    "collapsed": true
   },
   "outputs": [],
   "source": [
    "@jit\n",
    "def abc_model_1(a, b, c, rain):\n",
    "    \"\"\"First implementation of the ABC-Model.\n",
    "    \n",
    "    Args:\n",
    "        a, b, c: Model parameter as scalars.\n",
    "        rain: Array of input rain.\n",
    "        \n",
    "    Returns:\n",
    "        outflow: Simulated stream flow.\n",
    "        \n",
    "    \"\"\"\n",
    "    # Initialize model variables\n",
    "    outflow = np.zeros((rain.size), dtype=np.float64)\n",
    "    state_in = 0\n",
    "    state_out = 0\n",
    "    \n",
    "    # Actual simulation loop\n",
    "    for i in range(rain.size):\n",
    "        state_out = (1 - c) * state_in + a * rain[i]\n",
    "        outflow[i] = (1 - a - b) * rain[i] + c * state_in\n",
    "        state_in = state_out\n",
    "    return outflow\n",
    "\n",
    "\n",
    "@jit\n",
    "def abc_model_2(params, rain):\n",
    "    \"\"\"Second implementation of the ABC-Model.\n",
    "    \n",
    "    Args:\n",
    "        params: A dictionary, containing the three model parameters.\n",
    "        rain: Array of input rain.\n",
    "    \n",
    "    Returns:\n",
    "        outflow: Simulated stream flow.\n",
    "    \n",
    "    \"\"\"   \n",
    "    # Initialize model variables\n",
    "    outflow = np.zeros((rain.size), dtype=np.float64)\n",
    "    state_in = 0\n",
    "    state_out = 0\n",
    "    \n",
    "    # Actual simulation loop\n",
    "    for i in range(rain.size):\n",
    "        state_out = (1 - params['c']) * state_in + params['a'] * rain[i]\n",
    "        outflow[i] = ((1 - params['a'] - params['b']) * rain[i]\n",
    "                      + params['c'] * state_in)\n",
    "        state_in = state_out\n",
    "    return outflow"
   ]
  },
  {
   "cell_type": "code",
   "execution_count": 14,
   "metadata": {},
   "outputs": [
    {
     "name": "stdout",
     "output_type": "stream",
     "text": [
      "3.93 ms ± 87.1 µs per loop (mean ± std. dev. of 7 runs, 100 loops each)\n",
      "706 ms ± 14 ms per loop (mean ± std. dev. of 7 runs, 1 loop each)\n"
     ]
    }
   ],
   "source": [
    "rain = np.random.rand((10**6))\n",
    "time_model_1 = %timeit -o abc_model_1(0.6, 0.1, 0.3, rain)\n",
    "time_model_2 = %timeit -o abc_model_2({'a': 0.6, 'b': 0.1, 'c': 0.3}, rain)"
   ]
  },
  {
   "cell_type": "code",
   "execution_count": 27,
   "metadata": {
    "collapsed": true
   },
   "outputs": [],
   "source": [
    "@jit\n",
    "def hehe(num1, num2):\n",
    "    return num1 ** num2"
   ]
  },
  {
   "cell_type": "code",
   "execution_count": 28,
   "metadata": {},
   "outputs": [
    {
     "data": {
      "text/plain": [
       "9.261000000000001"
      ]
     },
     "execution_count": 28,
     "metadata": {},
     "output_type": "execute_result"
    }
   ],
   "source": [
    "hehe(2.1, 3)"
   ]
  },
  {
   "cell_type": "code",
   "execution_count": 29,
   "metadata": {},
   "outputs": [
    {
     "data": {
      "text/plain": [
       "[(float64, int64)]"
      ]
     },
     "execution_count": 29,
     "metadata": {},
     "output_type": "execute_result"
    }
   ],
   "source": [
    "hehe.signatures"
   ]
  },
  {
   "cell_type": "code",
   "execution_count": null,
   "metadata": {
    "collapsed": true
   },
   "outputs": [],
   "source": []
  }
 ],
 "metadata": {
  "kernelspec": {
   "display_name": "Python 3",
   "language": "python",
   "name": "python3"
  },
  "language_info": {
   "codemirror_mode": {
    "name": "ipython",
    "version": 3
   },
   "file_extension": ".py",
   "mimetype": "text/x-python",
   "name": "python",
   "nbconvert_exporter": "python",
   "pygments_lexer": "ipython3",
   "version": "3.6.3"
  }
 },
 "nbformat": 4,
 "nbformat_minor": 2
}
