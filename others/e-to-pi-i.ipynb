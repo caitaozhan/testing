{
 "cells": [
  {
   "cell_type": "code",
   "execution_count": 2,
   "id": "6bc2f524",
   "metadata": {},
   "outputs": [],
   "source": [
    "import numpy as np"
   ]
  },
  {
   "cell_type": "code",
   "execution_count": 99,
   "id": "03973263",
   "metadata": {},
   "outputs": [
    {
     "name": "stdout",
     "output_type": "stream",
     "text": [
      "x = 0.00000, degree(x) =   0, exp(xi) = 1.00000+0.00000j, (cos(x), sin(x)) = (1.00000, 0.00000)\n",
      "x = 0.26180, degree(x) =  15, exp(xi) = 0.96593+0.25882j, (cos(x), sin(x)) = (0.96593, 0.25882)\n",
      "x = 0.52360, degree(x) =  30, exp(xi) = 0.86603+0.50000j, (cos(x), sin(x)) = (0.86603, 0.50000)\n",
      "x = 0.78540, degree(x) =  45, exp(xi) = 0.70711+0.70711j, (cos(x), sin(x)) = (0.70711, 0.70711)\n",
      "x = 1.04720, degree(x) =  60, exp(xi) = 0.50000+0.86603j, (cos(x), sin(x)) = (0.50000, 0.86603)\n",
      "x = 1.30900, degree(x) =  75, exp(xi) = 0.25882+0.96593j, (cos(x), sin(x)) = (0.25882, 0.96593)\n",
      "x = 1.57080, degree(x) =  90, exp(xi) = 0.00000+1.00000j, (cos(x), sin(x)) = (0.00000, 1.00000)\n",
      "x = 1.83260, degree(x) = 105, exp(xi) = -0.25882+0.96593j, (cos(x), sin(x)) = (-0.25882, 0.96593)\n",
      "x = 2.09440, degree(x) = 120, exp(xi) = -0.50000+0.86603j, (cos(x), sin(x)) = (-0.50000, 0.86603)\n",
      "x = 2.35619, degree(x) = 135, exp(xi) = -0.70711+0.70711j, (cos(x), sin(x)) = (-0.70711, 0.70711)\n",
      "x = 2.61799, degree(x) = 150, exp(xi) = -0.86603+0.50000j, (cos(x), sin(x)) = (-0.86603, 0.50000)\n",
      "x = 2.87979, degree(x) = 165, exp(xi) = -0.96593+0.25882j, (cos(x), sin(x)) = (-0.96593, 0.25882)\n",
      "x = 3.14159, degree(x) = 180, exp(xi) = -1.00000+0.00000j, (cos(x), sin(x)) = (-1.00000, 0.00000)\n",
      "x = 3.40339, degree(x) = 195, exp(xi) = -0.96593-0.25882j, (cos(x), sin(x)) = (-0.96593, -0.25882)\n",
      "x = 3.66519, degree(x) = 210, exp(xi) = -0.86603-0.50000j, (cos(x), sin(x)) = (-0.86603, -0.50000)\n",
      "x = 3.92699, degree(x) = 225, exp(xi) = -0.70711-0.70711j, (cos(x), sin(x)) = (-0.70711, -0.70711)\n",
      "x = 4.18879, degree(x) = 240, exp(xi) = -0.50000-0.86603j, (cos(x), sin(x)) = (-0.50000, -0.86603)\n",
      "x = 4.45059, degree(x) = 255, exp(xi) = -0.25882-0.96593j, (cos(x), sin(x)) = (-0.25882, -0.96593)\n",
      "x = 4.71239, degree(x) = 270, exp(xi) = -0.00000-1.00000j, (cos(x), sin(x)) = (-0.00000, -1.00000)\n",
      "x = 4.97419, degree(x) = 285, exp(xi) = 0.25882-0.96593j, (cos(x), sin(x)) = (0.25882, -0.96593)\n",
      "x = 5.23599, degree(x) = 300, exp(xi) = 0.50000-0.86603j, (cos(x), sin(x)) = (0.50000, -0.86603)\n",
      "x = 5.49779, degree(x) = 315, exp(xi) = 0.70711-0.70711j, (cos(x), sin(x)) = (0.70711, -0.70711)\n",
      "x = 5.75959, degree(x) = 330, exp(xi) = 0.86603-0.50000j, (cos(x), sin(x)) = (0.86603, -0.50000)\n",
      "x = 6.02139, degree(x) = 345, exp(xi) = 0.96593-0.25882j, (cos(x), sin(x)) = (0.96593, -0.25882)\n",
      "x = 6.28319, degree(x) = 360, exp(xi) = 1.00000-0.00000j, (cos(x), sin(x)) = (1.00000, -0.00000)\n"
     ]
    }
   ],
   "source": [
    "eps = 10**-9\n",
    "rad = 180 / np.pi\n",
    "for x in np.linspace(0, 2 * np.pi, 25):\n",
    "    print(f'x = {x:.5f}, degree(x) = {int(x*rad + eps):3d}, exp(xi) = {np.exp(complex(0, x)):.5f}, (cos(x), sin(x)) = ({np.cos(x):.5f}, {np.sin(x):.5f})')"
   ]
  },
  {
   "cell_type": "code",
   "execution_count": null,
   "id": "46641fd8",
   "metadata": {},
   "outputs": [],
   "source": []
  }
 ],
 "metadata": {
  "kernelspec": {
   "display_name": "Python 3 (ipykernel)",
   "language": "python",
   "name": "python3"
  },
  "language_info": {
   "codemirror_mode": {
    "name": "ipython",
    "version": 3
   },
   "file_extension": ".py",
   "mimetype": "text/x-python",
   "name": "python",
   "nbconvert_exporter": "python",
   "pygments_lexer": "ipython3",
   "version": "3.8.5"
  }
 },
 "nbformat": 4,
 "nbformat_minor": 5
}
