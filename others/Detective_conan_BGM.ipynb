{
 "cells": [
  {
   "cell_type": "code",
   "execution_count": 1,
   "metadata": {},
   "outputs": [],
   "source": [
    "import numpy as np\n",
    "import matplotlib.pyplot as plt"
   ]
  },
  {
   "cell_type": "code",
   "execution_count": 5,
   "metadata": {},
   "outputs": [
    {
     "data": {
      "text/plain": [
       "(42, 42)"
      ]
     },
     "execution_count": 5,
     "metadata": {},
     "output_type": "execute_result"
    }
   ],
   "source": [
    "cz = [10,9,10,10,9,8,9,7,7,10,7,6,10,8,7,10,9,8,10,8,9,8,9,9,10,10,8,9,8,9,9,8,7,7,7,8,6,7,6,5,9,8]\n",
    "rl = [10,6,9, 7, 7,7,8,6,6, 7,5,6, 7,7,6, 7,7,6, 7,4,7,6,8,8, 4, 5,5,6,5,6,6,7,6,6,6,8,7,6,5,7,8,8]\n",
    "len(cz), len(rl)"
   ]
  },
  {
   "cell_type": "code",
   "execution_count": 13,
   "metadata": {},
   "outputs": [
    {
     "name": "stdout",
     "output_type": "stream",
     "text": [
      "cz mean = 8.286, std = 1.314\n",
      "rl mean = 6.548, std = 1.219\n",
      "The correlation coefficient between cz and rl = 0.304\n"
     ]
    }
   ],
   "source": [
    "print(f'cz mean = {np.mean(cz):.3f}, std = {np.std(cz):.3f}')\n",
    "print(f'rl mean = {np.mean(rl):.3f}, std = {np.std(rl):.3f}')\n",
    "print(f'The correlation coefficient between cz and rl = {np.corrcoef(cz, rl)[0,1]:.3f}')"
   ]
  },
  {
   "cell_type": "code",
   "execution_count": 33,
   "metadata": {},
   "outputs": [
    {
     "data": {
      "text/plain": [
       "<matplotlib.legend.Legend at 0x7f9180cd0c10>"
      ]
     },
     "execution_count": 33,
     "metadata": {},
     "output_type": "execute_result"
    },
    {
     "data": {
      "image/png": "[encoded data removed]",
      "text/plain": [
       "<Figure size 576x432 with 1 Axes>"
      ]
     },
     "metadata": {
      "needs_background": "light"
     },
     "output_type": "display_data"
    }
   ],
   "source": [
    "plt.rcParams['font.size']=15\n",
    "fig, ax = plt.subplots(1, figsize=(8, 6))\n",
    "ax.hist(cz, bins=10, range=[0, 11], alpha=0.5, label='cz')\n",
    "ax.hist(rl, bins=10, range=[0, 11], alpha=0.5, label='rl')\n",
    "ax.legend()"
   ]
  },
  {
   "cell_type": "code",
   "execution_count": null,
   "metadata": {},
   "outputs": [],
   "source": []
  }
 ],
 "metadata": {
  "kernelspec": {
   "display_name": "Python 3",
   "language": "python",
   "name": "python3"
  },
  "language_info": {
   "codemirror_mode": {
    "name": "ipython",
    "version": 3
   },
   "file_extension": ".py",
   "mimetype": "text/x-python",
   "name": "python",
   "nbconvert_exporter": "python",
   "pygments_lexer": "ipython3",
   "version": "3.8.5"
  }
 },
 "nbformat": 4,
 "nbformat_minor": 4
}
