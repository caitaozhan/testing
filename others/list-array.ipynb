{
 "cells": [
  {
   "cell_type": "markdown",
   "metadata": {},
   "source": [
    "# Python的list其实是(数据结构概念)里面的数组"
   ]
  },
  {
   "cell_type": "markdown",
   "metadata": {},
   "source": [
    "## 证明：\n",
    "### 假设Python的list是(数据结构概念)里面的链表，那么list是顺序存取，即没有数组的随机存取的性质。\n",
    "### 那么访问元素的时间不相等：list[0] != list[1] != ... != list[n]\n",
    "### 如下代码通过实验表明：list[0] == list[1] == ... == list[n]\n",
    "### 那么Python的list不是顺序存取，即假设不成立，而是随机存取，因此是(数据结构概念)里面的数组"
   ]
  },
  {
   "cell_type": "code",
   "execution_count": 31,
   "metadata": {
    "collapsed": true
   },
   "outputs": [],
   "source": [
    "import time"
   ]
  },
  {
   "cell_type": "code",
   "execution_count": 32,
   "metadata": {},
   "outputs": [
    {
     "name": "stdout",
     "output_type": "stream",
     "text": [
      "[0, 5000000, 10000000, 15000000, 20000000, 25000000, 30000000, 35000000, 40000000, 45000000, 49999999]\n"
     ]
    }
   ],
   "source": [
    "size = 50000000\n",
    "mylist = []\n",
    "for i in range(0, size):\n",
    "    mylist.append(i)\n",
    "    \n",
    "indexes = [int(size/10*i) for i in range(10)]\n",
    "indexes.append(size-1)\n",
    "print(indexes)"
   ]
  },
  {
   "cell_type": "code",
   "execution_count": 34,
   "metadata": {},
   "outputs": [
    {
     "name": "stdout",
     "output_type": "stream",
     "text": [
      "4.568861246109009\n",
      "4.518562078475952\n",
      "4.192896127700806\n",
      "4.281219005584717\n",
      "3.9511260986328125\n",
      "4.009671926498413\n",
      "3.911824941635132\n",
      "4.080111980438232\n",
      "3.947672128677368\n",
      "4.126125812530518\n",
      "3.9150590896606445\n"
     ]
    }
   ],
   "source": [
    "for index in indexes:\n",
    "    start = time.time()\n",
    "\n",
    "    for i in range(0, 50000000):\n",
    "        j = mylist[index]\n",
    "\n",
    "    end = time.time()\n",
    "    print(end - start) "
   ]
  },
  {
   "cell_type": "markdown",
   "metadata": {},
   "source": [
    "# np.array & list"
   ]
  },
  {
   "cell_type": "code",
   "execution_count": 35,
   "metadata": {
    "collapsed": true
   },
   "outputs": [],
   "source": [
    "import numpy as np"
   ]
  },
  {
   "cell_type": "code",
   "execution_count": 36,
   "metadata": {},
   "outputs": [],
   "source": [
    "nparray = np.array([(1, 2, 3), (4, 5, 6)])\n",
    "mylist = [[1, 2, 3], [4, 5, 6]]"
   ]
  },
  {
   "cell_type": "code",
   "execution_count": 37,
   "metadata": {},
   "outputs": [
    {
     "data": {
      "text/plain": [
       "array([[1, 2, 3],\n",
       "       [4, 5, 6]])"
      ]
     },
     "execution_count": 37,
     "metadata": {},
     "output_type": "execute_result"
    }
   ],
   "source": [
    "nparray"
   ]
  },
  {
   "cell_type": "code",
   "execution_count": 38,
   "metadata": {},
   "outputs": [
    {
     "data": {
      "text/plain": [
       "[[1, 2, 3], [4, 5, 6]]"
      ]
     },
     "execution_count": 38,
     "metadata": {},
     "output_type": "execute_result"
    }
   ],
   "source": [
    "mylist"
   ]
  },
  {
   "cell_type": "code",
   "execution_count": 39,
   "metadata": {},
   "outputs": [
    {
     "name": "stdout",
     "output_type": "stream",
     "text": [
      "<class 'numpy.ndarray'>\n",
      "<class 'list'>\n",
      "4\n",
      "4\n",
      "4\n"
     ]
    }
   ],
   "source": [
    "print(type(nparray))\n",
    "print(type(mylist))\n",
    "print(nparray[1][0])\n",
    "print(nparray[1,0])\n",
    "print(mylist[1][0])"
   ]
  },
  {
   "cell_type": "code",
   "execution_count": 43,
   "metadata": {},
   "outputs": [
    {
     "name": "stdout",
     "output_type": "stream",
     "text": [
      "4.367467641830444\n"
     ]
    }
   ],
   "source": [
    "start = time.time()\n",
    "\n",
    "for i in range(0, 50000000):\n",
    "    j = mylist[1][0]\n",
    "\n",
    "end = time.time()\n",
    "print(end - start) "
   ]
  },
  {
   "cell_type": "code",
   "execution_count": 44,
   "metadata": {},
   "outputs": [
    {
     "name": "stdout",
     "output_type": "stream",
     "text": [
      "12.190791130065918\n"
     ]
    }
   ],
   "source": [
    "start = time.time()\n",
    "\n",
    "for i in range(0, 50000000):\n",
    "    j = nparray[1][0]\n",
    "    \n",
    "end = time.time()\n",
    "print(end - start) "
   ]
  },
  {
   "cell_type": "code",
   "execution_count": 45,
   "metadata": {},
   "outputs": [
    {
     "name": "stdout",
     "output_type": "stream",
     "text": [
      "6.901849031448364\n"
     ]
    }
   ],
   "source": [
    "start = time.time()\n",
    "\n",
    "for i in range(0, 50000000):\n",
    "    j = nparray[1,0]\n",
    "\n",
    "end = time.time()\n",
    "print(end - start) "
   ]
  },
  {
   "cell_type": "code",
   "execution_count": null,
   "metadata": {
    "collapsed": true
   },
   "outputs": [],
   "source": []
  }
 ],
 "metadata": {
  "kernelspec": {
   "display_name": "Python 3",
   "language": "python",
   "name": "python3"
  },
  "language_info": {
   "codemirror_mode": {
    "name": "ipython",
    "version": 3
   },
   "file_extension": ".py",
   "mimetype": "text/x-python",
   "name": "python",
   "nbconvert_exporter": "python",
   "pygments_lexer": "ipython3",
   "version": "3.6.3"
  }
 },
 "nbformat": 4,
 "nbformat_minor": 2
}
