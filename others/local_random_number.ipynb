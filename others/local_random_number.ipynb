{
 "cells": [
  {
   "cell_type": "code",
   "execution_count": 1,
   "metadata": {},
   "outputs": [],
   "source": [
    "import random"
   ]
  },
  {
   "cell_type": "code",
   "execution_count": 7,
   "metadata": {},
   "outputs": [],
   "source": [
    "rng42 = random.Random(42)\n",
    "rng42_ = random.Random(42)\n",
    "rng24 = random.Random(24)"
   ]
  },
  {
   "cell_type": "code",
   "execution_count": 5,
   "metadata": {},
   "outputs": [
    {
     "name": "stdout",
     "output_type": "stream",
     "text": [
      "20\n",
      "11\n",
      "10\n",
      "14\n",
      "13\n",
      "13\n",
      "12\n",
      "11\n",
      "20\n",
      "18\n"
     ]
    }
   ],
   "source": [
    "for _ in range(10):\n",
    "    print(rng42.randint(10, 20))"
   ]
  },
  {
   "cell_type": "code",
   "execution_count": 6,
   "metadata": {},
   "outputs": [
    {
     "name": "stdout",
     "output_type": "stream",
     "text": [
      "20\n",
      "11\n",
      "10\n",
      "14\n",
      "13\n",
      "13\n",
      "12\n",
      "11\n",
      "20\n",
      "18\n"
     ]
    }
   ],
   "source": [
    "for _ in range(10):\n",
    "    print(rng42_.randint(10, 20))"
   ]
  },
  {
   "cell_type": "code",
   "execution_count": 8,
   "metadata": {},
   "outputs": [
    {
     "name": "stdout",
     "output_type": "stream",
     "text": [
      "16\n",
      "19\n",
      "12\n",
      "13\n",
      "12\n",
      "13\n",
      "12\n",
      "20\n",
      "20\n",
      "11\n"
     ]
    }
   ],
   "source": [
    "for _ in range(10):\n",
    "    print(rng24.randint(10, 20))"
   ]
  },
  {
   "cell_type": "code",
   "execution_count": 10,
   "metadata": {},
   "outputs": [
    {
     "data": {
      "text/plain": [
       "140524044464612647"
      ]
     },
     "execution_count": 10,
     "metadata": {},
     "output_type": "execute_result"
    }
   ],
   "source": [
    "hash('caitao')"
   ]
  },
  {
   "cell_type": "code",
   "execution_count": 11,
   "metadata": {},
   "outputs": [
    {
     "data": {
      "text/plain": [
       "-5687674654373194735"
      ]
     },
     "execution_count": 11,
     "metadata": {},
     "output_type": "execute_result"
    }
   ],
   "source": [
    "hash('alice-2-bob-2-100')"
   ]
  },
  {
   "cell_type": "code",
   "execution_count": 12,
   "metadata": {},
   "outputs": [
    {
     "name": "stdout",
     "output_type": "stream",
     "text": [
      "15\n",
      "17\n",
      "18\n",
      "16\n",
      "19\n",
      "10\n",
      "16\n",
      "14\n",
      "15\n",
      "17\n"
     ]
    }
   ],
   "source": [
    "rng = random.Random(hash('alice-2-bob-2-100'))\n",
    "for _ in range(10):\n",
    "    print(rng.randint(10, 20))"
   ]
  },
  {
   "cell_type": "code",
   "execution_count": 13,
   "metadata": {},
   "outputs": [
    {
     "name": "stdout",
     "output_type": "stream",
     "text": [
      "15\n",
      "17\n",
      "18\n",
      "16\n",
      "19\n",
      "10\n",
      "16\n",
      "14\n",
      "15\n",
      "17\n"
     ]
    }
   ],
   "source": [
    "rng = random.Random(hash('alice-2-bob-2-100'))\n",
    "for _ in range(10):\n",
    "    print(rng.randint(10, 20))"
   ]
  },
  {
   "cell_type": "code",
   "execution_count": null,
   "metadata": {},
   "outputs": [],
   "source": []
  }
 ],
 "metadata": {
  "kernelspec": {
   "display_name": "Python 3",
   "language": "python",
   "name": "python3"
  },
  "language_info": {
   "codemirror_mode": {
    "name": "ipython",
    "version": 3
   },
   "file_extension": ".py",
   "mimetype": "text/x-python",
   "name": "python",
   "nbconvert_exporter": "python",
   "pygments_lexer": "ipython3",
   "version": "3.8.5"
  }
 },
 "nbformat": 4,
 "nbformat_minor": 4
}
