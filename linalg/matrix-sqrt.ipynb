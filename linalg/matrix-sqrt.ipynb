{
 "cells": [
  {
   "cell_type": "code",
   "execution_count": 16,
   "id": "0da594eb",
   "metadata": {},
   "outputs": [],
   "source": [
    "import numpy as np\n",
    "from scipy.linalg import sqrtm"
   ]
  },
  {
   "cell_type": "code",
   "execution_count": 29,
   "id": "111948c9",
   "metadata": {},
   "outputs": [],
   "source": [
    "vec1 = np.array([1, 0])\n",
    "vec2 = np.array([1/np.sqrt(2), 1/np.sqrt(2)])\n",
    "\n",
    "mat1 = np.outer(vec1, vec1)\n",
    "mat2 = np.outer(vec2, vec2)\n",
    "\n",
    "p = [0.5, 0.5]"
   ]
  },
  {
   "cell_type": "code",
   "execution_count": 25,
   "id": "aa8d9b65",
   "metadata": {},
   "outputs": [
    {
     "data": {
      "text/plain": [
       "array([[0.75, 0.25],\n",
       "       [0.25, 0.25]])"
      ]
     },
     "execution_count": 25,
     "metadata": {},
     "output_type": "execute_result"
    }
   ],
   "source": [
    "rho = p[0]*mat1 + p[1]*mat2\n",
    "rho"
   ]
  },
  {
   "cell_type": "markdown",
   "id": "7e815313",
   "metadata": {},
   "source": [
    "$a = rho^{1/2}$"
   ]
  },
  {
   "cell_type": "code",
   "execution_count": 26,
   "id": "4034cccb",
   "metadata": {},
   "outputs": [
    {
     "data": {
      "text/plain": [
       "array([[0.8446232 , 0.19134172],\n",
       "       [0.19134172, 0.46193977]])"
      ]
     },
     "execution_count": 26,
     "metadata": {},
     "output_type": "execute_result"
    }
   ],
   "source": [
    "a = sqrtm(rho)\n",
    "a"
   ]
  },
  {
   "cell_type": "code",
   "execution_count": 21,
   "id": "5209a0a2",
   "metadata": {},
   "outputs": [
    {
     "data": {
      "text/plain": [
       "array([[0.75, 0.25],\n",
       "       [0.25, 0.25]])"
      ]
     },
     "execution_count": 21,
     "metadata": {},
     "output_type": "execute_result"
    }
   ],
   "source": [
    "np.dot(a, a)"
   ]
  },
  {
   "cell_type": "markdown",
   "id": "ca16cdd5",
   "metadata": {},
   "source": [
    "$b = a^{-1} = rho^{-1/2}$"
   ]
  },
  {
   "cell_type": "code",
   "execution_count": 27,
   "id": "986166ee",
   "metadata": {},
   "outputs": [
    {
     "data": {
      "text/plain": [
       "array([[ 1.30656296, -0.5411961 ],\n",
       "       [-0.5411961 ,  2.38895517]])"
      ]
     },
     "execution_count": 27,
     "metadata": {},
     "output_type": "execute_result"
    }
   ],
   "source": [
    "b = np.linalg.inv(a)\n",
    "b"
   ]
  },
  {
   "cell_type": "code",
   "execution_count": 28,
   "id": "d696076d",
   "metadata": {},
   "outputs": [
    {
     "data": {
      "text/plain": [
       "array([[ 1.00000000e+00, -3.00657824e-18],\n",
       "       [-1.62927348e-17,  1.00000000e+00]])"
      ]
     },
     "execution_count": 28,
     "metadata": {},
     "output_type": "execute_result"
    }
   ],
   "source": [
    "np.dot(a, b)"
   ]
  },
  {
   "cell_type": "code",
   "execution_count": null,
   "id": "cb859c8e",
   "metadata": {},
   "outputs": [],
   "source": []
  }
 ],
 "metadata": {
  "kernelspec": {
   "display_name": "Python 3 (ipykernel)",
   "language": "python",
   "name": "python3"
  },
  "language_info": {
   "codemirror_mode": {
    "name": "ipython",
    "version": 3
   },
   "file_extension": ".py",
   "mimetype": "text/x-python",
   "name": "python",
   "nbconvert_exporter": "python",
   "pygments_lexer": "ipython3",
   "version": "3.8.5"
  }
 },
 "nbformat": 4,
 "nbformat_minor": 5
}
