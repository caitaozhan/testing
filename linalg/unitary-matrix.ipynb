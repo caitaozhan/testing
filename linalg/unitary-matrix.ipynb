{
 "cells": [
  {
   "cell_type": "code",
   "execution_count": 1,
   "id": "27e6a307",
   "metadata": {},
   "outputs": [],
   "source": [
    "import numpy as np\n",
    "from qiskit.quantum_info import random_unitary\n",
    "from qiskit_textbook.tools import random_state"
   ]
  },
  {
   "cell_type": "code",
   "execution_count": 17,
   "id": "1c9d6484",
   "metadata": {},
   "outputs": [],
   "source": [
    "U = np.array([[0, 0.5], [0.5, 0]])"
   ]
  },
  {
   "cell_type": "code",
   "execution_count": 18,
   "id": "cf154c2c",
   "metadata": {},
   "outputs": [
    {
     "data": {
      "text/plain": [
       "array([[0. , 0.5],\n",
       "       [0.5, 0. ]])"
      ]
     },
     "execution_count": 18,
     "metadata": {},
     "output_type": "execute_result"
    }
   ],
   "source": [
    "U_ct = U.conjugate().transpose()\n",
    "U_ct"
   ]
  },
  {
   "cell_type": "code",
   "execution_count": 19,
   "id": "49317935",
   "metadata": {},
   "outputs": [
    {
     "data": {
      "text/plain": [
       "array([[0.+0.j , 0.-0.5j],\n",
       "       [0.+0.5j, 0.+0.j ]])"
      ]
     },
     "execution_count": 19,
     "metadata": {},
     "output_type": "execute_result"
    }
   ],
   "source": [
    "U = np.array([[0, complex(0, -0.5)], [complex(0, 0.5), 0]])\n",
    "U"
   ]
  },
  {
   "cell_type": "code",
   "execution_count": 20,
   "id": "42e84601",
   "metadata": {},
   "outputs": [
    {
     "data": {
      "text/plain": [
       "array([[0.-0.j , 0.-0.5j],\n",
       "       [0.+0.5j, 0.-0.j ]])"
      ]
     },
     "execution_count": 20,
     "metadata": {},
     "output_type": "execute_result"
    }
   ],
   "source": [
    "U_ct = U.conjugate().transpose()\n",
    "U_ct"
   ]
  },
  {
   "cell_type": "markdown",
   "id": "c3841556",
   "metadata": {},
   "source": [
    "# For a unitary matrix, $U^{-1} = U^{\\dagger}$"
   ]
  },
  {
   "cell_type": "code",
   "execution_count": 21,
   "id": "3fe74a86",
   "metadata": {},
   "outputs": [],
   "source": [
    "seed = 1"
   ]
  },
  {
   "cell_type": "code",
   "execution_count": 22,
   "id": "0ce094c1",
   "metadata": {},
   "outputs": [
    {
     "data": {
      "text/plain": [
       "array([[ 0.29891817+0.78310097j,  0.06526452+0.54142529j],\n",
       "       [ 0.28581644-0.46444565j, -0.59915425+0.58618545j]])"
      ]
     },
     "execution_count": 22,
     "metadata": {},
     "output_type": "execute_result"
    }
   ],
   "source": [
    "U = random_unitary(2, seed=seed)\n",
    "U = U._data\n",
    "U"
   ]
  },
  {
   "cell_type": "code",
   "execution_count": 23,
   "id": "95792b02",
   "metadata": {},
   "outputs": [
    {
     "data": {
      "text/plain": [
       "array([[ 0.29891817-0.78310097j,  0.28581644+0.46444565j],\n",
       "       [ 0.06526452-0.54142529j, -0.59915425-0.58618545j]])"
      ]
     },
     "execution_count": 23,
     "metadata": {},
     "output_type": "execute_result"
    }
   ],
   "source": [
    "U_inv = np.linalg.inv(U)\n",
    "U_inv"
   ]
  },
  {
   "cell_type": "code",
   "execution_count": 24,
   "id": "f6a45e38",
   "metadata": {},
   "outputs": [
    {
     "data": {
      "text/plain": [
       "matrix([[ 0.29891817-0.78310097j,  0.28581644+0.46444565j],\n",
       "        [ 0.06526452-0.54142529j, -0.59915425-0.58618545j]])"
      ]
     },
     "execution_count": 24,
     "metadata": {},
     "output_type": "execute_result"
    }
   ],
   "source": [
    "U_ct = np.matrix(U).getH()\n",
    "U_ct"
   ]
  },
  {
   "cell_type": "markdown",
   "id": "67f8f8c0",
   "metadata": {},
   "source": [
    "## $U^{-1} - U^{\\dagger} = 0 $"
   ]
  },
  {
   "cell_type": "code",
   "execution_count": 27,
   "id": "d21573c7",
   "metadata": {},
   "outputs": [
    {
     "data": {
      "text/plain": [
       "matrix([[-1.24900090e-16-5.55111512e-17j,\n",
       "          5.55111512e-17-2.22044605e-16j],\n",
       "        [ 5.55111512e-17+2.22044605e-16j,\n",
       "          6.93889390e-17-5.55111512e-17j]])"
      ]
     },
     "execution_count": 27,
     "metadata": {},
     "output_type": "execute_result"
    }
   ],
   "source": [
    "U_inv - U_ct"
   ]
  },
  {
   "cell_type": "markdown",
   "id": "32f781d3",
   "metadata": {},
   "source": [
    "# For a unitary matrix, $\\langle \\psi| U \\otimes U^{\\dagger} |\\psi\\rangle = \\langle \\psi| U^{\\dagger} \\otimes U |\\psi\\rangle$"
   ]
  },
  {
   "cell_type": "code",
   "execution_count": 28,
   "id": "c75f51ed",
   "metadata": {},
   "outputs": [
    {
     "data": {
      "text/plain": [
       "Operator([[ 0.08093444+0.34481847j,  0.41224974-0.83940454j],\n",
       "          [-0.41503551-0.83803065j,  0.0797887 -0.34508539j]],\n",
       "         input_dims=(2,), output_dims=(2,))"
      ]
     },
     "execution_count": 28,
     "metadata": {},
     "output_type": "execute_result"
    }
   ],
   "source": [
    "U = random_unitary(2, seed=seed)\n",
    "U_ct = U.conjugate().transpose()\n",
    "U_ct"
   ]
  },
  {
   "cell_type": "code",
   "execution_count": 29,
   "id": "d04ebcc1",
   "metadata": {},
   "outputs": [],
   "source": [
    "UU_ct = U.tensor(U_ct)\n",
    "U_ctU = U_ct.tensor(U)"
   ]
  },
  {
   "cell_type": "code",
   "execution_count": 88,
   "id": "45121e97",
   "metadata": {},
   "outputs": [],
   "source": [
    "def print_matrix(matrix):\n",
    "    for row in matrix:\n",
    "        for item in row:\n",
    "            real = f'{item.real:.4f}'\n",
    "            imag = f'{item.imag:.4f}'\n",
    "            if imag[0] != '-':\n",
    "                imag = '+' + imag\n",
    "            print(f'({real:>7}{imag:>7}i)', end=' ')\n",
    "        print()"
   ]
  },
  {
   "cell_type": "code",
   "execution_count": 89,
   "id": "cb59f5a1",
   "metadata": {},
   "outputs": [
    {
     "name": "stdout",
     "output_type": "stream",
     "text": [
      "( 0.1255+0.0000i) (-0.2561-0.2101i) (-0.3226-0.0753i) ( 0.5323+0.6939i) \n",
      "(-0.3226+0.0753i) (-0.1125-0.0554i) ( 0.8745+0.0000i) ( 0.2561+0.2101i) \n",
      "(-0.2561+0.2101i) ( 0.8745+0.0000i) (-0.1125+0.0554i) ( 0.3226+0.0753i) \n",
      "( 0.5323-0.6939i) ( 0.3226-0.0753i) ( 0.2561-0.2101i) ( 0.1255+0.0000i) \n"
     ]
    }
   ],
   "source": [
    "print_matrix(UU_ct.data)"
   ]
  },
  {
   "cell_type": "code",
   "execution_count": 90,
   "id": "34c75c70",
   "metadata": {},
   "outputs": [
    {
     "name": "stdout",
     "output_type": "stream",
     "text": [
      "( 0.1255+0.0000i) (-0.3226-0.0753i) (-0.2561-0.2101i) ( 0.5323+0.6939i) \n",
      "(-0.2561+0.2101i) (-0.1125+0.0554i) ( 0.8745+0.0000i) ( 0.3226+0.0753i) \n",
      "(-0.3226+0.0753i) ( 0.8745+0.0000i) (-0.1125-0.0554i) ( 0.2561+0.2101i) \n",
      "( 0.5323-0.6939i) ( 0.2561-0.2101i) ( 0.3226-0.0753i) ( 0.1255+0.0000i) \n"
     ]
    }
   ],
   "source": [
    "print_matrix(U_ctU.data)"
   ]
  },
  {
   "cell_type": "code",
   "execution_count": 106,
   "id": "dd1bb18a",
   "metadata": {},
   "outputs": [],
   "source": [
    "vec = random_state(nqubits=2)"
   ]
  },
  {
   "cell_type": "code",
   "execution_count": 107,
   "id": "592216c2",
   "metadata": {},
   "outputs": [
    {
     "name": "stdout",
     "output_type": "stream",
     "text": [
      "|<a|U_ct(tensor)U|a>| = 0.9162486792982869\n",
      "|<a|U(tensor)U_ct|a>| = 0.9162486792982869\n"
     ]
    }
   ],
   "source": [
    "val = np.dot(np.dot(np.conj(vec), U_ctU.data), vec)\n",
    "print(f'|<a|U_ct(tensor)U|a>| = {abs(val)}')\n",
    "\n",
    "val = np.dot(np.dot(np.conj(vec), UU_ct.data), vec)\n",
    "print(f'|<a|U(tensor)U_ct|a>| = {abs(val)}')"
   ]
  },
  {
   "cell_type": "code",
   "execution_count": null,
   "id": "ecfb29d3",
   "metadata": {},
   "outputs": [],
   "source": []
  }
 ],
 "metadata": {
  "kernelspec": {
   "display_name": "Python 3 (ipykernel)",
   "language": "python",
   "name": "python3"
  },
  "language_info": {
   "codemirror_mode": {
    "name": "ipython",
    "version": 3
   },
   "file_extension": ".py",
   "mimetype": "text/x-python",
   "name": "python",
   "nbconvert_exporter": "python",
   "pygments_lexer": "ipython3",
   "version": "3.8.5"
  }
 },
 "nbformat": 4,
 "nbformat_minor": 5
}
