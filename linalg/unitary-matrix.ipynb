{
 "cells": [
  {
   "cell_type": "code",
   "execution_count": 34,
   "id": "4cb6906d",
   "metadata": {},
   "outputs": [],
   "source": [
    "import numpy as np\n",
    "from qiskit.quantum_info import random_unitary\n",
    "from qiskit_textbook.tools import random_state"
   ]
  },
  {
   "cell_type": "markdown",
   "id": "2b3dc875",
   "metadata": {},
   "source": [
    "# For a unitary matrix, $U^{-1} = U^{\\dagger}$"
   ]
  },
  {
   "cell_type": "code",
   "execution_count": 23,
   "id": "860ce564",
   "metadata": {},
   "outputs": [],
   "source": [
    "seed = 0"
   ]
  },
  {
   "cell_type": "code",
   "execution_count": 24,
   "id": "b96c1533",
   "metadata": {},
   "outputs": [
    {
     "data": {
      "text/plain": [
       "array([[ 0.08093444-0.34481847j, -0.41503551+0.83803065j],\n",
       "       [ 0.41224974+0.83940454j,  0.0797887 +0.34508539j]])"
      ]
     },
     "execution_count": 24,
     "metadata": {},
     "output_type": "execute_result"
    }
   ],
   "source": [
    "U = random_unitary(2, seed=seed)\n",
    "U = U._data\n",
    "U"
   ]
  },
  {
   "cell_type": "code",
   "execution_count": 25,
   "id": "67960c88",
   "metadata": {},
   "outputs": [
    {
     "data": {
      "text/plain": [
       "array([[ 0.08093444+0.34481847j,  0.41224974-0.83940454j],\n",
       "       [-0.41503551-0.83803065j,  0.0797887 -0.34508539j]])"
      ]
     },
     "execution_count": 25,
     "metadata": {},
     "output_type": "execute_result"
    }
   ],
   "source": [
    "U_inv = np.linalg.inv(U)\n",
    "U_inv"
   ]
  },
  {
   "cell_type": "code",
   "execution_count": 26,
   "id": "e5e42041",
   "metadata": {},
   "outputs": [
    {
     "data": {
      "text/plain": [
       "matrix([[ 0.08093444+0.34481847j,  0.41224974-0.83940454j],\n",
       "        [-0.41503551-0.83803065j,  0.0797887 -0.34508539j]])"
      ]
     },
     "execution_count": 26,
     "metadata": {},
     "output_type": "execute_result"
    }
   ],
   "source": [
    "U_ct = np.matrix(U).getH()\n",
    "U_ct"
   ]
  },
  {
   "cell_type": "markdown",
   "id": "6e8f06ab",
   "metadata": {},
   "source": [
    "## $U^{-1} - U^{\\dagger} = 0 $"
   ]
  },
  {
   "cell_type": "code",
   "execution_count": 27,
   "id": "50665c04",
   "metadata": {},
   "outputs": [
    {
     "data": {
      "text/plain": [
       "matrix([[-1.24900090e-16-5.55111512e-17j,\n",
       "          5.55111512e-17-2.22044605e-16j],\n",
       "        [ 5.55111512e-17+2.22044605e-16j,\n",
       "          6.93889390e-17-5.55111512e-17j]])"
      ]
     },
     "execution_count": 27,
     "metadata": {},
     "output_type": "execute_result"
    }
   ],
   "source": [
    "U_inv - U_ct"
   ]
  },
  {
   "cell_type": "markdown",
   "id": "f7fba838",
   "metadata": {},
   "source": [
    "# For a unitary matrix, $\\langle \\psi| U \\otimes U^{\\dagger} |\\psi\\rangle = \\langle \\psi| U^{\\dagger} \\otimes U |\\psi\\rangle$"
   ]
  },
  {
   "cell_type": "code",
   "execution_count": 28,
   "id": "67cdc1e2",
   "metadata": {},
   "outputs": [
    {
     "data": {
      "text/plain": [
       "Operator([[ 0.08093444+0.34481847j,  0.41224974-0.83940454j],\n",
       "          [-0.41503551-0.83803065j,  0.0797887 -0.34508539j]],\n",
       "         input_dims=(2,), output_dims=(2,))"
      ]
     },
     "execution_count": 28,
     "metadata": {},
     "output_type": "execute_result"
    }
   ],
   "source": [
    "U = random_unitary(2, seed=seed)\n",
    "U_ct = U.conjugate().transpose()\n",
    "U_ct"
   ]
  },
  {
   "cell_type": "code",
   "execution_count": 29,
   "id": "8b54a1a3",
   "metadata": {},
   "outputs": [],
   "source": [
    "UU_ct = U.tensor(U_ct)\n",
    "U_ctU = U_ct.tensor(U)"
   ]
  },
  {
   "cell_type": "code",
   "execution_count": 88,
   "id": "785a36ff",
   "metadata": {},
   "outputs": [],
   "source": [
    "def print_matrix(matrix):\n",
    "    for row in matrix:\n",
    "        for item in row:\n",
    "            real = f'{item.real:.4f}'\n",
    "            imag = f'{item.imag:.4f}'\n",
    "            if imag[0] != '-':\n",
    "                imag = '+' + imag\n",
    "            print(f'({real:>7}{imag:>7}i)', end=' ')\n",
    "        print()"
   ]
  },
  {
   "cell_type": "code",
   "execution_count": 89,
   "id": "41b4133e",
   "metadata": {},
   "outputs": [
    {
     "name": "stdout",
     "output_type": "stream",
     "text": [
      "( 0.1255+0.0000i) (-0.2561-0.2101i) (-0.3226-0.0753i) ( 0.5323+0.6939i) \n",
      "(-0.3226+0.0753i) (-0.1125-0.0554i) ( 0.8745+0.0000i) ( 0.2561+0.2101i) \n",
      "(-0.2561+0.2101i) ( 0.8745+0.0000i) (-0.1125+0.0554i) ( 0.3226+0.0753i) \n",
      "( 0.5323-0.6939i) ( 0.3226-0.0753i) ( 0.2561-0.2101i) ( 0.1255+0.0000i) \n"
     ]
    }
   ],
   "source": [
    "print_matrix(UU_ct.data)"
   ]
  },
  {
   "cell_type": "code",
   "execution_count": 90,
   "id": "a9ca542d",
   "metadata": {},
   "outputs": [
    {
     "name": "stdout",
     "output_type": "stream",
     "text": [
      "( 0.1255+0.0000i) (-0.3226-0.0753i) (-0.2561-0.2101i) ( 0.5323+0.6939i) \n",
      "(-0.2561+0.2101i) (-0.1125+0.0554i) ( 0.8745+0.0000i) ( 0.3226+0.0753i) \n",
      "(-0.3226+0.0753i) ( 0.8745+0.0000i) (-0.1125-0.0554i) ( 0.2561+0.2101i) \n",
      "( 0.5323-0.6939i) ( 0.2561-0.2101i) ( 0.3226-0.0753i) ( 0.1255+0.0000i) \n"
     ]
    }
   ],
   "source": [
    "print_matrix(U_ctU.data)"
   ]
  },
  {
   "cell_type": "code",
   "execution_count": 106,
   "id": "4e6f0699",
   "metadata": {},
   "outputs": [],
   "source": [
    "vec = random_state(nqubits=2)"
   ]
  },
  {
   "cell_type": "code",
   "execution_count": 107,
   "id": "67ed2d1e",
   "metadata": {},
   "outputs": [
    {
     "name": "stdout",
     "output_type": "stream",
     "text": [
      "|<a|U_ct(tensor)U|a>| = 0.9162486792982869\n",
      "|<a|U(tensor)U_ct|a>| = 0.9162486792982869\n"
     ]
    }
   ],
   "source": [
    "val = np.dot(np.dot(np.conj(vec), U_ctU.data), vec)\n",
    "print(f'|<a|U_ct(tensor)U|a>| = {abs(val)}')\n",
    "\n",
    "val = np.dot(np.dot(np.conj(vec), UU_ct.data), vec)\n",
    "print(f'|<a|U(tensor)U_ct|a>| = {abs(val)}')"
   ]
  },
  {
   "cell_type": "code",
   "execution_count": null,
   "id": "e62d1ac4",
   "metadata": {},
   "outputs": [],
   "source": []
  }
 ],
 "metadata": {
  "kernelspec": {
   "display_name": "Python 3 (ipykernel)",
   "language": "python",
   "name": "python3"
  },
  "language_info": {
   "codemirror_mode": {
    "name": "ipython",
    "version": 3
   },
   "file_extension": ".py",
   "mimetype": "text/x-python",
   "name": "python",
   "nbconvert_exporter": "python",
   "pygments_lexer": "ipython3",
   "version": "3.8.5"
  }
 },
 "nbformat": 4,
 "nbformat_minor": 5
}
