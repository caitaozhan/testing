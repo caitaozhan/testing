{
 "cells": [
  {
   "cell_type": "markdown",
   "id": "5f80a180",
   "metadata": {},
   "source": [
    "# For a unitary matrix, its inverse equals to its conjugate transpose"
   ]
  },
  {
   "cell_type": "code",
   "execution_count": 4,
   "id": "d218d8fe",
   "metadata": {},
   "outputs": [],
   "source": [
    "import numpy as np\n",
    "from qiskit.quantum_info import random_unitary"
   ]
  },
  {
   "cell_type": "code",
   "execution_count": 5,
   "id": "5ec3174f",
   "metadata": {},
   "outputs": [
    {
     "data": {
      "text/plain": [
       "array([[ 0.24761623-0.07348799j, -0.43119448+0.86449814j],\n",
       "       [-0.85226531+0.4548951j , -0.0666244 +0.24955054j]])"
      ]
     },
     "execution_count": 5,
     "metadata": {},
     "output_type": "execute_result"
    }
   ],
   "source": [
    "U = random_unitary(2)\n",
    "U = U._data\n",
    "U"
   ]
  },
  {
   "cell_type": "code",
   "execution_count": 6,
   "id": "1461260f",
   "metadata": {},
   "outputs": [
    {
     "data": {
      "text/plain": [
       "array([[ 0.24761623+0.07348799j, -0.85226531-0.4548951j ],\n",
       "       [-0.43119448-0.86449814j, -0.0666244 -0.24955054j]])"
      ]
     },
     "execution_count": 6,
     "metadata": {},
     "output_type": "execute_result"
    }
   ],
   "source": [
    "U_inv = np.linalg.inv(U)\n",
    "U_inv"
   ]
  },
  {
   "cell_type": "code",
   "execution_count": 12,
   "id": "ea0e108a",
   "metadata": {},
   "outputs": [
    {
     "data": {
      "text/plain": [
       "matrix([[ 0.24761623+0.07348799j, -0.85226531-0.4548951j ],\n",
       "        [-0.43119448-0.86449814j, -0.0666244 -0.24955054j]])"
      ]
     },
     "execution_count": 12,
     "metadata": {},
     "output_type": "execute_result"
    }
   ],
   "source": [
    "U_ct = np.matrix(U).getH()\n",
    "U_ct"
   ]
  },
  {
   "cell_type": "markdown",
   "id": "2129f956",
   "metadata": {},
   "source": [
    "$U^{-1} = U^{\\dagger} \\Longrightarrow U^{-1} - U^{\\dagger} = 0 $"
   ]
  },
  {
   "cell_type": "code",
   "execution_count": 15,
   "id": "a2b8f1fc",
   "metadata": {},
   "outputs": [
    {
     "data": {
      "text/plain": [
       "matrix([[ 2.49800181e-16+5.55111512e-17j,\n",
       "         -3.33066907e-16-1.66533454e-16j],\n",
       "        [ 5.55111512e-17+1.11022302e-16j,\n",
       "          1.38777878e-17+1.11022302e-16j]])"
      ]
     },
     "execution_count": 15,
     "metadata": {},
     "output_type": "execute_result"
    }
   ],
   "source": [
    "U_inv - U_ct"
   ]
  },
  {
   "cell_type": "code",
   "execution_count": null,
   "id": "ee1f88c1",
   "metadata": {},
   "outputs": [],
   "source": []
  }
 ],
 "metadata": {
  "kernelspec": {
   "display_name": "Python 3 (ipykernel)",
   "language": "python",
   "name": "python3"
  },
  "language_info": {
   "codemirror_mode": {
    "name": "ipython",
    "version": 3
   },
   "file_extension": ".py",
   "mimetype": "text/x-python",
   "name": "python",
   "nbconvert_exporter": "python",
   "pygments_lexer": "ipython3",
   "version": "3.8.5"
  }
 },
 "nbformat": 4,
 "nbformat_minor": 5
}
