{
 "cells": [
  {
   "cell_type": "code",
   "execution_count": 15,
   "id": "c99ccb9b-791d-4ebb-894e-e1cbfa074600",
   "metadata": {
    "tags": []
   },
   "outputs": [],
   "source": [
    "import numpy as np\n",
    "from scipy.linalg import expm, sqrtm"
   ]
  },
  {
   "cell_type": "markdown",
   "id": "ea693695-ccf0-49a5-abd2-32a09df0bcc6",
   "metadata": {},
   "source": [
    "## Two different expressions of Local Complementation are the same"
   ]
  },
  {
   "cell_type": "markdown",
   "id": "5e3a3085-6f1d-4fb4-88af-177ce1483933",
   "metadata": {},
   "source": [
    "### 1: https://arxiv.org/pdf/1811.05445.pdf "
   ]
  },
  {
   "cell_type": "code",
   "execution_count": 37,
   "id": "097dc762-dac9-4ad3-b2b6-f2c8d8f24192",
   "metadata": {
    "tags": []
   },
   "outputs": [],
   "source": [
    "X = np.array([[0, 1], [1, 0]])\n",
    "Z = np.array([[ 1,  0], [ 0, -1]])"
   ]
  },
  {
   "cell_type": "code",
   "execution_count": 38,
   "id": "0077ed45-f286-4c81-afac-4304b6078df5",
   "metadata": {
    "tags": []
   },
   "outputs": [],
   "source": [
    "a =   complex(0, 1) * np.pi / 4\n",
    "b = - complex(0, 1) * np.pi / 4"
   ]
  },
  {
   "cell_type": "code",
   "execution_count": 54,
   "id": "cdddf46f-b67b-426e-990a-3d07b291b538",
   "metadata": {
    "tags": []
   },
   "outputs": [
    {
     "name": "stdout",
     "output_type": "stream",
     "text": [
      "[[0.70710678+0.j         0.        -0.70710678j]\n",
      " [0.        -0.70710678j 0.70710678+0.j        ]]\n"
     ]
    }
   ],
   "source": [
    "# for the node that does local complementation\n",
    "exponent = b * X\n",
    "term1x = expm(exponent)\n",
    "print(term1x)"
   ]
  },
  {
   "cell_type": "code",
   "execution_count": 55,
   "id": "a2e8b308-6527-47cb-af25-36217c73eb9e",
   "metadata": {
    "tags": []
   },
   "outputs": [
    {
     "name": "stdout",
     "output_type": "stream",
     "text": [
      "[[0.70710678+0.70710678j 0.        +0.j        ]\n",
      " [0.        +0.j         0.70710678-0.70710678j]]\n"
     ]
    }
   ],
   "source": [
    "# for the neighbors\n",
    "exponent = a * Z\n",
    "term1z = expm(exponent)\n",
    "print(term1z)"
   ]
  },
  {
   "cell_type": "markdown",
   "id": "96faa00d-d436-4ed6-8b2f-ec88c49fd2e5",
   "metadata": {},
   "source": [
    "### 2: https://arxiv.org/pdf/1910.03969.pdf"
   ]
  },
  {
   "cell_type": "code",
   "execution_count": 62,
   "id": "0e6fab8b-7946-4749-83cc-e1a7ab122582",
   "metadata": {
    "tags": []
   },
   "outputs": [
    {
     "name": "stdout",
     "output_type": "stream",
     "text": [
      "[[7.07106781e-01+0.00000000e+00j 2.77555756e-17-7.07106781e-01j]\n",
      " [2.70616862e-16-7.07106781e-01j 7.07106781e-01-2.22044605e-16j]]\n"
     ]
    }
   ],
   "source": [
    "# for the node that does local complementation\n",
    "term2x = sqrtm(-complex(0, 1) * X)\n",
    "print(term2x)"
   ]
  },
  {
   "cell_type": "code",
   "execution_count": 61,
   "id": "a9240b55-a946-4155-b1b6-b409382ddc31",
   "metadata": {
    "tags": []
   },
   "outputs": [
    {
     "name": "stdout",
     "output_type": "stream",
     "text": [
      "[[0.70710678+0.70710678j 0.        +0.j        ]\n",
      " [0.        +0.j         0.70710678-0.70710678j]]\n"
     ]
    }
   ],
   "source": [
    "# for the neighbors\n",
    "term2z = sqrtm(complex(0, 1) * Z)\n",
    "print(term2z)"
   ]
  },
  {
   "cell_type": "markdown",
   "id": "7e8c00d8-81a8-4656-a17d-07fc85c443ed",
   "metadata": {},
   "source": [
    "## Compare"
   ]
  },
  {
   "cell_type": "code",
   "execution_count": 58,
   "id": "dc639856-661c-41a2-abaa-2156a7c04a8f",
   "metadata": {
    "tags": []
   },
   "outputs": [
    {
     "data": {
      "text/plain": [
       "array([[ True,  True],\n",
       "       [ True,  True]])"
      ]
     },
     "execution_count": 58,
     "metadata": {},
     "output_type": "execute_result"
    }
   ],
   "source": [
    "np.isclose(term1x - term2x, 0)"
   ]
  },
  {
   "cell_type": "code",
   "execution_count": 60,
   "id": "3ae5571f-1633-4778-9d92-03c56b082f97",
   "metadata": {
    "tags": []
   },
   "outputs": [
    {
     "data": {
      "text/plain": [
       "array([[ True,  True],\n",
       "       [ True,  True]])"
      ]
     },
     "execution_count": 60,
     "metadata": {},
     "output_type": "execute_result"
    }
   ],
   "source": [
    "np.isclose(term1z - term2z, 0)"
   ]
  },
  {
   "cell_type": "code",
   "execution_count": null,
   "id": "16b74696-4378-4570-88d4-4afd3ce59c4d",
   "metadata": {},
   "outputs": [],
   "source": []
  }
 ],
 "metadata": {
  "kernelspec": {
   "display_name": "Python 3 (ipykernel)",
   "language": "python",
   "name": "python3"
  },
  "language_info": {
   "codemirror_mode": {
    "name": "ipython",
    "version": 3
   },
   "file_extension": ".py",
   "mimetype": "text/x-python",
   "name": "python",
   "nbconvert_exporter": "python",
   "pygments_lexer": "ipython3",
   "version": "3.11.4"
  }
 },
 "nbformat": 4,
 "nbformat_minor": 5
}
