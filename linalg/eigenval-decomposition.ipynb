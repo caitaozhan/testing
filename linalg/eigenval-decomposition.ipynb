{
 "cells": [
  {
   "cell_type": "code",
   "execution_count": 45,
   "id": "2012cba7",
   "metadata": {},
   "outputs": [],
   "source": [
    "import numpy as np\n",
    "# from scipy import linalg"
   ]
  },
  {
   "cell_type": "markdown",
   "id": "69d44421",
   "metadata": {},
   "source": [
    "https://numpy.org/doc/stable/reference/generated/numpy.linalg.eigh.html#numpy.linalg.eigh"
   ]
  },
  {
   "cell_type": "markdown",
   "id": "0b7b7f8b",
   "metadata": {},
   "source": [
    "# Right (left and right are equal)"
   ]
  },
  {
   "cell_type": "code",
   "execution_count": 119,
   "id": "fc4e6ae4",
   "metadata": {},
   "outputs": [
    {
     "name": "stdout",
     "output_type": "stream",
     "text": [
      "eigen values: \n",
      " [-0.14528471  0.64528471]\n",
      "eigen vectors:\n",
      " [[-0.16018224 -0.98708746]\n",
      " [-0.98708746  0.16018224]]\n",
      "...\n",
      "left:  [0.02327203 0.14340871]\n",
      "right: [0.02327203 0.14340871]\n",
      "...\n",
      "left:  [-0.63695244  0.10336315]\n",
      "right: [-0.63695244  0.10336315]\n"
     ]
    }
   ],
   "source": [
    "X = [[ 0.625, -0.125],\n",
    "     [-0.125, -0.125]]\n",
    "e_vals, e_vectors = np.linalg.eigh(X)\n",
    "print('eigen values: \\n', e_vals)\n",
    "print('eigen vectors:\\n', e_vectors)\n",
    "print('...')\n",
    "# X * e_vector = e_val * e_vector\n",
    "print('left: ', np.dot(X, e_vectors[:, 0]))\n",
    "print('right:', np.dot(e_vals[0], e_vectors[:, 0]))\n",
    "print('...')\n",
    "print('left: ', np.dot(X, e_vectors[:, 1]))\n",
    "print('right:', np.dot(e_vals[1], e_vectors[:, 1]))"
   ]
  },
  {
   "cell_type": "markdown",
   "id": "7b5ac355",
   "metadata": {},
   "source": [
    "# Misc"
   ]
  },
  {
   "cell_type": "code",
   "execution_count": 128,
   "id": "20e6ae41",
   "metadata": {},
   "outputs": [],
   "source": [
    "a = [-0.14139694+0.37543941j, -0.85181979-0.3368311j]"
   ]
  },
  {
   "cell_type": "code",
   "execution_count": 132,
   "id": "47a37086",
   "metadata": {},
   "outputs": [],
   "source": [
    "b = [-a[1], a[0]]"
   ]
  },
  {
   "cell_type": "code",
   "execution_count": 133,
   "id": "74e0e93f",
   "metadata": {},
   "outputs": [
    {
     "data": {
      "text/plain": [
       "(-8.486687766856704e-18+0j)"
      ]
     },
     "execution_count": 133,
     "metadata": {},
     "output_type": "execute_result"
    }
   ],
   "source": [
    "a = np.array(a)\n",
    "b = np.array(b)\n",
    "np.dot(a, b)"
   ]
  },
  {
   "cell_type": "code",
   "execution_count": null,
   "id": "ee9a2847",
   "metadata": {},
   "outputs": [],
   "source": []
  }
 ],
 "metadata": {
  "kernelspec": {
   "display_name": "Python 3 (ipykernel)",
   "language": "python",
   "name": "python3"
  },
  "language_info": {
   "codemirror_mode": {
    "name": "ipython",
    "version": 3
   },
   "file_extension": ".py",
   "mimetype": "text/x-python",
   "name": "python",
   "nbconvert_exporter": "python",
   "pygments_lexer": "ipython3",
   "version": "3.8.5"
  }
 },
 "nbformat": 4,
 "nbformat_minor": 5
}
