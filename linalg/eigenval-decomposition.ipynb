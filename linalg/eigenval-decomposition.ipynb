{
 "cells": [
  {
   "cell_type": "code",
   "execution_count": 45,
   "id": "828de287",
   "metadata": {},
   "outputs": [],
   "source": [
    "import numpy as np\n",
    "# from scipy import linalg"
   ]
  },
  {
   "cell_type": "markdown",
   "id": "3d47b565",
   "metadata": {},
   "source": [
    "https://numpy.org/doc/stable/reference/generated/numpy.linalg.eigh.html#numpy.linalg.eigh"
   ]
  },
  {
   "cell_type": "markdown",
   "id": "757945cc",
   "metadata": {},
   "source": [
    "# Right (left and right are equal)"
   ]
  },
  {
   "cell_type": "code",
   "execution_count": 118,
   "id": "283683a8",
   "metadata": {},
   "outputs": [
    {
     "name": "stdout",
     "output_type": "stream",
     "text": [
      "eigen values: \n",
      " [-0.14528471  0.64528471]\n",
      "eigen vectors:\n",
      " [[-0.16018224 -0.98708746]\n",
      " [-0.98708746  0.16018224]]\n",
      "...\n",
      "left:  [0.02327203 0.14340871]\n",
      "right: [0.02327203 0.14340871]\n",
      "...\n",
      "left:  [-0.63695244  0.10336315]\n",
      "right: [-0.63695244  0.10336315]\n"
     ]
    }
   ],
   "source": [
    "X = [[ 0.625, -0.125],\n",
    "     [-0.125, -0.125]]\n",
    "e_vals, e_vectors = np.linalg.eigh(X)\n",
    "print('eigen values: \\n', e_vals)\n",
    "print('eigen vectors:\\n', e_vectors)\n",
    "print('...')\n",
    "# X * e_vector = e_val * e_vector\n",
    "print('left: ', np.dot(X, e_vectors[0]))\n",
    "print('right:', np.dot(e_vals[0], e_vectors[0]))\n",
    "print('...')\n",
    "print('left: ', np.dot(X, e_vectors[1]))\n",
    "print('right:', np.dot(e_vals[1], e_vectors[1]))"
   ]
  },
  {
   "cell_type": "markdown",
   "id": "eddbcd70",
   "metadata": {},
   "source": [
    "# Wrong !! (left and right are not equal)"
   ]
  },
  {
   "cell_type": "code",
   "execution_count": 117,
   "id": "b0f93f5d",
   "metadata": {},
   "outputs": [
    {
     "name": "stdout",
     "output_type": "stream",
     "text": [
      "eigen values: \n",
      " [-0.64528471  0.14528471]\n",
      "eigen vectors:\n",
      " [[ 0.58471028 -0.81124219]\n",
      " [ 0.81124219  0.58471028]]\n",
      "...\n",
      "left:  [0.23112703 0.08494946]\n",
      "right: [-0.37730461  0.52348218]\n",
      "...\n",
      "left:  [-0.32067163 -0.52348218]\n",
      "right: [0.11786108 0.08494946]\n"
     ]
    }
   ],
   "source": [
    "X = [[-0.125, -0.375],\n",
    "     [-0.375, -0.375]]\n",
    "e_vals, e_vectors = np.linalg.eigh(X)\n",
    "print('eigen values: \\n', e_vals)\n",
    "print('eigen vectors:\\n', e_vectors)\n",
    "print('...')\n",
    "# X * e_vector = e_val * e_vector\n",
    "print('left: ', np.dot(X, e_vectors[0]))\n",
    "print('right:', np.dot(e_vals[0], e_vectors[0]))\n",
    "print('...')\n",
    "print('left: ', np.dot(X, e_vectors[1]))\n",
    "print('right:', np.dot(e_vals[1], e_vectors[1]))"
   ]
  },
  {
   "cell_type": "code",
   "execution_count": null,
   "id": "a819534f",
   "metadata": {},
   "outputs": [],
   "source": []
  }
 ],
 "metadata": {
  "kernelspec": {
   "display_name": "Python 3 (ipykernel)",
   "language": "python",
   "name": "python3"
  },
  "language_info": {
   "codemirror_mode": {
    "name": "ipython",
    "version": 3
   },
   "file_extension": ".py",
   "mimetype": "text/x-python",
   "name": "python",
   "nbconvert_exporter": "python",
   "pygments_lexer": "ipython3",
   "version": "3.8.5"
  }
 },
 "nbformat": 4,
 "nbformat_minor": 5
}
