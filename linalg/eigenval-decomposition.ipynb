{
 "cells": [
  {
   "cell_type": "code",
   "execution_count": 175,
   "id": "bf844bb5",
   "metadata": {},
   "outputs": [],
   "source": [
    "import numpy as np\n",
    "from qiskit.quantum_info import random_unitary"
   ]
  },
  {
   "cell_type": "markdown",
   "id": "565bb10b",
   "metadata": {},
   "source": [
    "https://numpy.org/doc/stable/reference/generated/numpy.linalg.eig.html"
   ]
  },
  {
   "cell_type": "code",
   "execution_count": 176,
   "id": "fdf05cf4",
   "metadata": {},
   "outputs": [],
   "source": [
    "def print_matrix(M):\n",
    "    for row in M:\n",
    "        for item in row:\n",
    "            num = f'{item:.4}'\n",
    "            print(f'{num:<23}', end=' ')\n",
    "        print()\n",
    "    print()"
   ]
  },
  {
   "cell_type": "markdown",
   "id": "1f79a131",
   "metadata": {},
   "source": [
    "# Right (left and right are equal)"
   ]
  },
  {
   "cell_type": "markdown",
   "id": "77988348",
   "metadata": {},
   "source": [
    "### Suppose that the eigen vectors of $U$ are $e^{\\pm i \\theta}$, why the two eigen values are symmetric on x-axis?"
   ]
  },
  {
   "cell_type": "code",
   "execution_count": 177,
   "id": "833b4578",
   "metadata": {},
   "outputs": [
    {
     "name": "stdout",
     "output_type": "stream",
     "text": [
      "random unitary U:\n",
      "(-0.08062+0.9082j)      (-0.295+0.2858j)        \n",
      "(-0.3662+0.186j)        (0.885+0.2192j)         \n",
      "\n",
      "eigen values: \n",
      " [-0.18511369+0.98271711j  0.98948307+0.14464875j]\n",
      "eigen vectors:\n",
      " [[ 0.95448535+0.j         -0.29491756+0.04451231j]\n",
      " [ 0.29491756+0.04451231j  0.95448535+0.j        ]]\n",
      "...\n",
      "U * e_vector = e_val * e_vector\n",
      "...\n",
      "left:  [-0.1766883 +0.93798909j -0.09833628+0.28158069j]\n",
      "right: [-0.1766883 +0.93798909j -0.09833628+0.28158069j]\n",
      "...\n",
      "left:  [-0.29825458+0.00138472j  0.94444709+0.13806512j]\n",
      "right: [-0.29825458+0.00138472j  0.94444709+0.13806512j]\n"
     ]
    }
   ],
   "source": [
    "# X = [[ 0.625, -0.125],\n",
    "#      [-0.125, -0.125]]\n",
    "\n",
    "X = random_unitary(2)._data\n",
    "print('random unitary U:')\n",
    "print_matrix(X)\n",
    "e_vals, e_vectors = np.linalg.eig(X)\n",
    "print('eigen values: \\n', e_vals)\n",
    "print('eigen vectors:\\n', e_vectors)\n",
    "print('...')\n",
    "print('U * e_vector = e_val * e_vector')\n",
    "print('...')\n",
    "print('left: ', np.dot(X, e_vectors[:, 0]))\n",
    "print('right:', np.dot(e_vals[0], e_vectors[:, 0]))\n",
    "print('...')\n",
    "print('left: ', np.dot(X, e_vectors[:, 1]))\n",
    "print('right:', np.dot(e_vals[1], e_vectors[:, 1]))"
   ]
  },
  {
   "cell_type": "markdown",
   "id": "d49c7376",
   "metadata": {},
   "source": [
    "# Eigenvalue and Tensor Product"
   ]
  },
  {
   "cell_type": "markdown",
   "id": "61025509",
   "metadata": {},
   "source": [
    "### Verify the eigen values of $U \\otimes U^{-1}: e^{\\pm2i\\theta}$ ?"
   ]
  },
  {
   "cell_type": "code",
   "execution_count": 178,
   "id": "699e7598",
   "metadata": {},
   "outputs": [
    {
     "name": "stdout",
     "output_type": "stream",
     "text": [
      "(0.3557+0.6074j)        (-0.2485+0.6654j)       \n",
      "(0.03188-0.7096j)       (-0.5651+0.4196j)       \n",
      "\n"
     ]
    }
   ],
   "source": [
    "# a random unitary matrix U\n",
    "\n",
    "U = random_unitary(2)\n",
    "U = U._data\n",
    "print_matrix(U)"
   ]
  },
  {
   "cell_type": "code",
   "execution_count": 179,
   "id": "1fbf6bb6",
   "metadata": {},
   "outputs": [
    {
     "name": "stdout",
     "output_type": "stream",
     "text": [
      "(0.3557-0.6074j)        (0.03188+0.7096j)       \n",
      "(-0.2485-0.6654j)       (-0.5651-0.4196j)       \n",
      "\n",
      "(1+2.082e-17j)          (2.776e-17+0j)          \n",
      "(-8.327e-17+0j)         (1-5.551e-17j)          \n",
      "\n"
     ]
    }
   ],
   "source": [
    "# do an inverse, get U_inv\n",
    "\n",
    "U_inv = np.linalg.inv(U)\n",
    "print_matrix(U_inv)\n",
    "print_matrix(np.dot(U, U_inv))   # see if gets identity matrix"
   ]
  },
  {
   "cell_type": "code",
   "execution_count": 180,
   "id": "ac3798c9",
   "metadata": {},
   "outputs": [
    {
     "name": "stdout",
     "output_type": "stream",
     "text": [
      "(0.4954-5.551e-17j)     (-0.4197+0.2718j)       (0.3158+0.3876j)        (-0.4801-0.1551j)       \n",
      "(0.3158-0.3876j)        (0.0539-0.4925j)        (0.5046+8.327e-17j)     (0.4197-0.2718j)        \n",
      "(-0.4197-0.2718j)       (0.5046+4.51e-17j)      (0.0539+0.4925j)        (-0.3158-0.3876j)       \n",
      "(-0.4801+0.1551j)       (-0.3158+0.3876j)       (0.4197+0.2718j)        (0.4954-5.551e-17j)     \n",
      "\n"
     ]
    }
   ],
   "source": [
    "# do a tensor product, get UU_inv\n",
    "\n",
    "UU_inv = np.kron(U, U_inv)\n",
    "print_matrix(UU_inv)"
   ]
  },
  {
   "cell_type": "code",
   "execution_count": 181,
   "id": "aeeaf2e0",
   "metadata": {},
   "outputs": [
    {
     "name": "stdout",
     "output_type": "stream",
     "text": [
      "eigen values\n",
      "(0.7298+0.6837j)        (-0.9392+0.3434j)       \n",
      "\n"
     ]
    }
   ],
   "source": [
    "# get the eigen values of U\n",
    "\n",
    "e_vals, e_vectors = np.linalg.eig(U)\n",
    "print('eigen values')\n",
    "print_matrix([e_vals])"
   ]
  },
  {
   "cell_type": "code",
   "execution_count": 182,
   "id": "cadb3bbb",
   "metadata": {},
   "outputs": [
    {
     "name": "stdout",
     "output_type": "stream",
     "text": [
      "eigen values\n",
      "(1-2.22e-16j)           (-0.4507-0.8927j)       (-0.4507+0.8927j)       (1+5.551e-17j)          \n",
      "\n"
     ]
    }
   ],
   "source": [
    "# get the eigen values of UU_inv\n",
    "\n",
    "e_vals2, e_vectors2 = np.linalg.eig(UU_inv)\n",
    "print('eigen values')\n",
    "print_matrix([e_vals2])"
   ]
  },
  {
   "cell_type": "code",
   "execution_count": 183,
   "id": "267e56aa",
   "metadata": {},
   "outputs": [
    {
     "data": {
      "text/plain": [
       "((0.7297766396799727+0.6836856413421355j),\n",
       " (0.0651478876451857+0.9978756198722214j))"
      ]
     },
     "execution_count": 183,
     "metadata": {},
     "output_type": "execute_result"
    }
   ],
   "source": [
    "e_vals[0], e_vals[0]**2"
   ]
  },
  {
   "cell_type": "code",
   "execution_count": 184,
   "id": "02602130",
   "metadata": {},
   "outputs": [
    {
     "name": "stdout",
     "output_type": "stream",
     "text": [
      "(0.7297766396799727+0.6836856413421356j)\n",
      "(0.06514788764518553+0.9978756198722215j)\n"
     ]
    }
   ],
   "source": [
    "real = np.real(e_vals[0])\n",
    "theta = np.arccos(real)\n",
    "print(np.exp(complex(0, theta)))\n",
    "print(np.exp(complex(0, theta*2)))"
   ]
  },
  {
   "cell_type": "code",
   "execution_count": null,
   "id": "71202fdc",
   "metadata": {},
   "outputs": [],
   "source": []
  }
 ],
 "metadata": {
  "kernelspec": {
   "display_name": "Python 3 (ipykernel)",
   "language": "python",
   "name": "python3"
  },
  "language_info": {
   "codemirror_mode": {
    "name": "ipython",
    "version": 3
   },
   "file_extension": ".py",
   "mimetype": "text/x-python",
   "name": "python",
   "nbconvert_exporter": "python",
   "pygments_lexer": "ipython3",
   "version": "3.8.5"
  }
 },
 "nbformat": 4,
 "nbformat_minor": 5
}
