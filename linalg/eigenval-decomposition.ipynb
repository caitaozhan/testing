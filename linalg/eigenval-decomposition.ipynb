{
 "cells": [
  {
   "cell_type": "code",
   "execution_count": 1,
   "id": "42446cc5",
   "metadata": {},
   "outputs": [],
   "source": [
    "import numpy as np\n",
    "from qiskit.quantum_info import random_unitary\n",
    "import matplotlib.pyplot as plt"
   ]
  },
  {
   "cell_type": "markdown",
   "id": "b4e846bb",
   "metadata": {},
   "source": [
    "https://numpy.org/doc/stable/reference/generated/numpy.linalg.eig.html"
   ]
  },
  {
   "cell_type": "code",
   "execution_count": 2,
   "id": "6b1a52fc",
   "metadata": {},
   "outputs": [],
   "source": [
    "RAD = 180 / np.pi"
   ]
  },
  {
   "cell_type": "code",
   "execution_count": 3,
   "id": "71141a39",
   "metadata": {},
   "outputs": [],
   "source": [
    "def print_matrix(M):\n",
    "    for row in M:\n",
    "        for item in row:\n",
    "            num = f'{item:.4}'\n",
    "            print(f'{num:<23}', end=' ')\n",
    "        print()\n",
    "    print()\n",
    "\n",
    "def get_theta(real, imag):\n",
    "    '''return the theta in radian\n",
    "    '''\n",
    "    theta = np.arccos(real)\n",
    "    if imag > 0:\n",
    "        return theta\n",
    "    else:\n",
    "        return 2*np.pi - theta"
   ]
  },
  {
   "cell_type": "markdown",
   "id": "6c389c6d",
   "metadata": {},
   "source": [
    "# Right (left and right are equal)"
   ]
  },
  {
   "cell_type": "markdown",
   "id": "c2759d46",
   "metadata": {},
   "source": [
    "### Suppose that the eigen vectors of $U$ are $e^{\\pm i \\theta}$, why the two eigen values are symmetric on x-axis?"
   ]
  },
  {
   "cell_type": "code",
   "execution_count": 111,
   "id": "cb7526f8",
   "metadata": {},
   "outputs": [],
   "source": [
    "SEED = 2"
   ]
  },
  {
   "cell_type": "code",
   "execution_count": 112,
   "id": "dae51d67",
   "metadata": {},
   "outputs": [
    {
     "name": "stdout",
     "output_type": "stream",
     "text": [
      "random unitary U:\n",
      "(0.1003+0.955j)         (-0.2622-0.09547j)      \n",
      "(-0.2192-0.1727j)       (-0.8648+0.4174j)       \n",
      "\n",
      "eigen values: \n",
      " [ 0.15840154+0.98737478j -0.92288942+0.38506508j]\n",
      "eigen vectors:\n",
      " [[ 0.97277278+0.j          0.22883562-0.03670665j]\n",
      " [-0.22883562-0.03670665j  0.97277278+0.j        ]]\n",
      "...\n",
      "U * e_vector = e_val * e_vector\n",
      "...\n",
      "left:  [ 1.54088709e-01+0.96049131j -4.69280808e-06-0.23176091j]\n",
      "right: [ 1.54088709e-01+0.96049131j -4.69280808e-06-0.23176091j]\n",
      "...\n",
      "left:  [-0.19705553+0.12199279j -0.89776171+0.37458083j]\n",
      "right: [-0.19705553+0.12199279j -0.89776171+0.37458083j]\n",
      "theta1  = 157.35, theta2  = 80.89\n",
      "theta1' = 38.23, theta2' = -38.23\n"
     ]
    },
    {
     "data": {
      "image/png": "[encoded data removed]",
      "text/plain": [
       "<Figure size 360x360 with 1 Axes>"
      ]
     },
     "metadata": {
      "needs_background": "light"
     },
     "output_type": "display_data"
    }
   ],
   "source": [
    "X = random_unitary(2, seed = SEED)._data\n",
    "print('random unitary U:')\n",
    "print_matrix(X)\n",
    "e_vals, e_vectors = np.linalg.eig(X)\n",
    "print('eigen values: \\n', e_vals)\n",
    "print('eigen vectors:\\n', e_vectors)\n",
    "print('...')\n",
    "print('U * e_vector = e_val * e_vector')\n",
    "print('...')\n",
    "print('left: ', np.dot(X, e_vectors[:, 0]))\n",
    "print('right:', np.dot(e_vals[0], e_vectors[:, 0]))\n",
    "print('...')\n",
    "print('left: ', np.dot(X, e_vectors[:, 1]))\n",
    "print('right:', np.dot(e_vals[1], e_vectors[:, 1]))\n",
    "\n",
    "fig, ax = plt.subplots(1, 1, figsize=(5, 5))\n",
    "ax.set_xlim([-1.01, 1.01])\n",
    "ax.set_ylim([-1.01, 1.01])\n",
    "circle = plt.Circle((0, 0), 1, fill=False, linewidth=2)\n",
    "ax.add_patch(circle)\n",
    "Ox = [0, 0]\n",
    "Oy = [0, 0]\n",
    "Vx = [e_vals[0].real, e_vals[1].real]\n",
    "Vy = [e_vals[0].imag, e_vals[1].imag]\n",
    "color = ['r', 'r']\n",
    "plt.quiver(Ox, Oy, Vx, Vy, units='xy', color=color, scale=1)\n",
    "theta1 = get_theta(e_vals[0].real, e_vals[0].imag)\n",
    "theta2 = get_theta(e_vals[1].real, e_vals[1].imag)\n",
    "theta1, theta2 = max(theta1, theta2), min(theta1, theta2)\n",
    "theta = abs(theta1 - theta2) / 2\n",
    "print(f'theta1  = {theta1*RAD:.2f}, theta2  = {theta2*RAD:.2f}')\n",
    "eigen1 = complex(np.cos(theta), np.sin(theta))\n",
    "eigen2 = complex(np.cos(theta), -np.sin(theta))\n",
    "e_vals2 = [eigen1, eigen2]\n",
    "V2x = [e_vals2[0].real, e_vals2[1].real]\n",
    "V2y = [e_vals2[0].imag, e_vals2[1].imag]\n",
    "color = ['b', 'b']\n",
    "print(f\"theta1' = {theta*RAD:.2f}, theta2' = {-theta*RAD:.2f}\")\n",
    "plt.quiver(Ox, Oy, V2x, V2y, units='xy', color=color, scale=1)\n",
    "plt.grid()\n",
    "plt.show()"
   ]
  },
  {
   "cell_type": "markdown",
   "id": "b52abfef",
   "metadata": {},
   "source": [
    "# Eigenvalue and Tensor Product"
   ]
  },
  {
   "cell_type": "markdown",
   "id": "f74ee10b",
   "metadata": {},
   "source": [
    "### Verify the eigen values of $U \\otimes U^{-1}: e^{\\pm2i\\theta}$ ?"
   ]
  },
  {
   "cell_type": "code",
   "execution_count": 113,
   "id": "d4ed2955",
   "metadata": {},
   "outputs": [
    {
     "name": "stdout",
     "output_type": "stream",
     "text": [
      "(0.1003+0.955j)         (-0.2622-0.09547j)      \n",
      "(-0.2192-0.1727j)       (-0.8648+0.4174j)       \n",
      "\n"
     ]
    }
   ],
   "source": [
    "# a random unitary matrix U\n",
    "\n",
    "U = random_unitary(2, seed=SEED)\n",
    "U = U._data\n",
    "print_matrix(U)"
   ]
  },
  {
   "cell_type": "code",
   "execution_count": 114,
   "id": "c1ff5375",
   "metadata": {},
   "outputs": [
    {
     "name": "stdout",
     "output_type": "stream",
     "text": [
      "(0.1003-0.955j)         (-0.2192+0.1727j)       \n",
      "(-0.2622+0.09547j)      (-0.8648-0.4174j)       \n",
      "\n",
      "(1+2.776e-17j)          -2.776e-17j             \n",
      "(2.776e-17+0j)          (1+0j)                  \n",
      "\n"
     ]
    }
   ],
   "source": [
    "# do an inverse, get U_inv\n",
    "\n",
    "U_inv = np.linalg.inv(U)\n",
    "print_matrix(U_inv)\n",
    "print_matrix(np.dot(U, U_inv))   # see if gets identity matrix"
   ]
  },
  {
   "cell_type": "code",
   "execution_count": 115,
   "id": "6f8d52d3",
   "metadata": {},
   "outputs": [
    {
     "name": "stdout",
     "output_type": "stream",
     "text": [
      "(0.9221+2.776e-17j)     (-0.1869-0.192j)        (-0.1175+0.2408j)       (0.07396-0.02435j)      \n",
      "(-0.1175-0.2408j)       (0.3119-0.8678j)        (0.07787-6.939e-18j)    (0.1869+0.192j)         \n",
      "(-0.1869+0.192j)        (0.07787-6.939e-18j)    (0.3119+0.8678j)        (0.1175-0.2408j)        \n",
      "(0.07396+0.02435j)      (0.1175+0.2408j)        (0.1869-0.192j)         (0.9221+0j)             \n",
      "\n"
     ]
    }
   ],
   "source": [
    "# do a tensor product, get UU_inv\n",
    "\n",
    "UU_inv = np.kron(U, U_inv)\n",
    "print_matrix(UU_inv)"
   ]
  },
  {
   "cell_type": "code",
   "execution_count": 117,
   "id": "c0378a45",
   "metadata": {},
   "outputs": [
    {
     "name": "stdout",
     "output_type": "stream",
     "text": [
      "eigen values\n",
      "(1-2.22e-16j)           (0.234+0.9722j)         (0.234-0.9722j)         (1-1.11e-16j)           \n",
      "\n"
     ]
    }
   ],
   "source": [
    "# get the eigen values of UU_inv\n",
    "\n",
    "e_vals3, e_vectors3 = np.linalg.eig(UU_inv)\n",
    "print('eigen values')\n",
    "print_matrix([e_vals3])"
   ]
  },
  {
   "cell_type": "code",
   "execution_count": 118,
   "id": "965419e3",
   "metadata": {},
   "outputs": [],
   "source": [
    "ev1, ev2 = 1, 2"
   ]
  },
  {
   "cell_type": "code",
   "execution_count": 119,
   "id": "b83be4e2",
   "metadata": {},
   "outputs": [
    {
     "name": "stdout",
     "output_type": "stream",
     "text": [
      "theta1 76.46634748494002\n",
      "theta2 -76.46634748494\n"
     ]
    },
    {
     "data": {
      "image/png": "[encoded data removed]",
      "text/plain": [
       "<Figure size 360x360 with 1 Axes>"
      ]
     },
     "metadata": {
      "needs_background": "light"
     },
     "output_type": "display_data"
    }
   ],
   "source": [
    "fig, ax = plt.subplots(1, 1, figsize=(5, 5))\n",
    "ax.set_xlim([-1.01, 1.01])\n",
    "ax.set_ylim([-1.01, 1.01])\n",
    "circle = plt.Circle((0, 0), 1, fill=False, linewidth=2)\n",
    "ax.add_patch(circle)\n",
    "Ox = [0, 0]\n",
    "Oy = [0, 0]\n",
    "Vx = [e_vals3[ev1].real, e_vals3[ev2].real]\n",
    "Vy = [e_vals3[ev1].imag, e_vals3[ev2].imag]\n",
    "color = ['b', 'b']\n",
    "plt.quiver(Ox, Oy, Vx, Vy, units='xy', color=color, scale=1)\n",
    "theta1 = get_theta(e_vals3[ev1].real, e_vals3[ev1].imag)\n",
    "theta2 = get_theta(e_vals3[ev2].real, e_vals3[ev2].imag)\n",
    "print('theta1', theta1*RAD)\n",
    "print('theta2', (theta2-2*np.pi)*RAD)\n",
    "plt.grid()\n",
    "plt.show()"
   ]
  },
  {
   "cell_type": "code",
   "execution_count": null,
   "id": "97ac9f2f",
   "metadata": {},
   "outputs": [],
   "source": []
  }
 ],
 "metadata": {
  "kernelspec": {
   "display_name": "Python 3 (ipykernel)",
   "language": "python",
   "name": "python3"
  },
  "language_info": {
   "codemirror_mode": {
    "name": "ipython",
    "version": 3
   },
   "file_extension": ".py",
   "mimetype": "text/x-python",
   "name": "python",
   "nbconvert_exporter": "python",
   "pygments_lexer": "ipython3",
   "version": "3.8.5"
  }
 },
 "nbformat": 4,
 "nbformat_minor": 5
}
